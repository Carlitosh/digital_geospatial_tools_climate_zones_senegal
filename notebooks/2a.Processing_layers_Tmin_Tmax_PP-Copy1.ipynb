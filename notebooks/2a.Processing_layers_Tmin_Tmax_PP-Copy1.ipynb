{
 "cells": [
  {
   "cell_type": "code",
   "execution_count": 28,
   "id": "bb0ee1f2-2982-4046-832c-2ad70299d5fd",
   "metadata": {},
   "outputs": [],
   "source": [
    "import matplotlib.pyplot\n",
    "matplotlib.pyplot.ion()\n",
    "import os \n",
    "import glob\n",
    "import xarray as xr\n",
    "from datetime import datetime\n",
    "import fiona\n",
    "import matplotlib\n",
    "import rioxarray\n",
    "import geopandas as gpd"
   ]
  },
  {
   "cell_type": "code",
   "execution_count": 29,
   "id": "617711e0-af7b-4c4f-a185-ea74886c42d3",
   "metadata": {},
   "outputs": [],
   "source": [
    "#!pip install matplotlib"
   ]
  },
  {
   "cell_type": "code",
   "execution_count": 30,
   "id": "f2206fdf-7be4-4783-a086-dfe8b0cf04d0",
   "metadata": {},
   "outputs": [],
   "source": [
    "import cfgrib"
   ]
  },
  {
   "cell_type": "code",
   "execution_count": 31,
   "id": "88ec5a2c-5662-43ba-a980-55086ba4300b",
   "metadata": {},
   "outputs": [],
   "source": [
    "import rasterio"
   ]
  },
  {
   "cell_type": "code",
   "execution_count": 32,
   "id": "4d21e74e-c577-4f1b-99f4-6894de0d2e72",
   "metadata": {},
   "outputs": [],
   "source": [
    "import pandas as pd"
   ]
  },
  {
   "cell_type": "code",
   "execution_count": 33,
   "id": "e1231212-43e7-4f26-88d8-87adc94bf1b7",
   "metadata": {},
   "outputs": [],
   "source": [
    "from shapely.geometry import mapping\n",
    "import hvplot.xarray  # noqa\n",
    "import xarray as xr\n",
    "from cartopy import crs  \n",
    "import cartopy.crs as crs\n",
    "import matplotlib.pyplot as plt\n",
    "import numpy as np\n",
    "import warnings\n",
    "warnings.filterwarnings('ignore')"
   ]
  },
  {
   "cell_type": "code",
   "execution_count": 34,
   "id": "a34c7a2d-09df-441c-b44a-375cdad7e1a7",
   "metadata": {},
   "outputs": [],
   "source": [
    "import dask as dd\n",
    "import dask\n",
    "from dask.distributed import Client, progress\n",
    "import multiprocessing\n",
    "ncpu = multiprocessing.cpu_count()"
   ]
  },
  {
   "cell_type": "code",
   "execution_count": 35,
   "id": "cd17a090-5cd5-4792-94e2-80e2e1c499d4",
   "metadata": {},
   "outputs": [],
   "source": [
    "%config Completer.use_jedi = False"
   ]
  },
  {
   "cell_type": "code",
   "execution_count": 36,
   "id": "69e7f876-7bc8-42fc-8e4b-f82bec90cd4a",
   "metadata": {},
   "outputs": [],
   "source": [
    "os.chdir(r\"C:\\Users\\carli\\OneDrive\\Documentos\\Proyectos_de_desarrollo_de_software/Soil_climate_characterization\")"
   ]
  },
  {
   "cell_type": "code",
   "execution_count": 37,
   "id": "07ca2622-65d7-42c0-bb97-11168bf3cd75",
   "metadata": {
    "collapsed": true,
    "jupyter": {
     "outputs_hidden": true
    },
    "tags": []
   },
   "outputs": [
    {
     "ename": "UnicodeDecodeError",
     "evalue": "'utf-8' codec can't decode byte 0xf3 in position 105: invalid continuation byte",
     "output_type": "error",
     "traceback": [
      "\u001b[1;31m---------------------------------------------------------------------------\u001b[0m",
      "\u001b[1;31mUnicodeDecodeError\u001b[0m                        Traceback (most recent call last)",
      "\u001b[1;31mUnicodeDecodeError\u001b[0m: 'utf-8' codec can't decode byte 0xf3 in position 105: invalid continuation byte"
     ]
    },
    {
     "name": "stderr",
     "output_type": "stream",
     "text": [
      "Exception ignored in: 'fiona._env.log_error'\n",
      "UnicodeDecodeError: 'utf-8' codec can't decode byte 0xf3 in position 105: invalid continuation byte\n"
     ]
    },
    {
     "ename": "UnicodeDecodeError",
     "evalue": "'utf-8' codec can't decode byte 0xf3 in position 105: invalid continuation byte",
     "output_type": "error",
     "traceback": [
      "\u001b[1;31m---------------------------------------------------------------------------\u001b[0m",
      "\u001b[1;31mUnicodeDecodeError\u001b[0m                        Traceback (most recent call last)",
      "\u001b[1;31mUnicodeDecodeError\u001b[0m: 'utf-8' codec can't decode byte 0xf3 in position 105: invalid continuation byte"
     ]
    },
    {
     "name": "stderr",
     "output_type": "stream",
     "text": [
      "Exception ignored in: 'fiona._env.log_error'\n",
      "UnicodeDecodeError: 'utf-8' codec can't decode byte 0xf3 in position 105: invalid continuation byte\n"
     ]
    },
    {
     "ename": "UnicodeDecodeError",
     "evalue": "'utf-8' codec can't decode byte 0xf3 in position 110: invalid continuation byte",
     "output_type": "error",
     "traceback": [
      "\u001b[1;31m---------------------------------------------------------------------------\u001b[0m",
      "\u001b[1;31mUnicodeDecodeError\u001b[0m                        Traceback (most recent call last)",
      "\u001b[1;31mUnicodeDecodeError\u001b[0m: 'utf-8' codec can't decode byte 0xf3 in position 110: invalid continuation byte"
     ]
    },
    {
     "name": "stderr",
     "output_type": "stream",
     "text": [
      "Exception ignored in: 'fiona._env.log_error'\n",
      "UnicodeDecodeError: 'utf-8' codec can't decode byte 0xf3 in position 110: invalid continuation byte\n"
     ]
    },
    {
     "ename": "UnicodeDecodeError",
     "evalue": "'utf-8' codec can't decode byte 0xf3 in position 110: invalid continuation byte",
     "output_type": "error",
     "traceback": [
      "\u001b[1;31m---------------------------------------------------------------------------\u001b[0m",
      "\u001b[1;31mUnicodeDecodeError\u001b[0m                        Traceback (most recent call last)",
      "\u001b[1;31mUnicodeDecodeError\u001b[0m: 'utf-8' codec can't decode byte 0xf3 in position 110: invalid continuation byte"
     ]
    },
    {
     "name": "stderr",
     "output_type": "stream",
     "text": [
      "Exception ignored in: 'fiona._env.log_error'\n",
      "UnicodeDecodeError: 'utf-8' codec can't decode byte 0xf3 in position 110: invalid continuation byte\n"
     ]
    },
    {
     "ename": "UnicodeDecodeError",
     "evalue": "'utf-8' codec can't decode byte 0xf3 in position 101: invalid continuation byte",
     "output_type": "error",
     "traceback": [
      "\u001b[1;31m---------------------------------------------------------------------------\u001b[0m",
      "\u001b[1;31mUnicodeDecodeError\u001b[0m                        Traceback (most recent call last)",
      "\u001b[1;31mUnicodeDecodeError\u001b[0m: 'utf-8' codec can't decode byte 0xf3 in position 101: invalid continuation byte"
     ]
    },
    {
     "name": "stderr",
     "output_type": "stream",
     "text": [
      "Exception ignored in: 'fiona._env.log_error'\n",
      "UnicodeDecodeError: 'utf-8' codec can't decode byte 0xf3 in position 101: invalid continuation byte\n"
     ]
    },
    {
     "ename": "UnicodeDecodeError",
     "evalue": "'utf-8' codec can't decode byte 0xf3 in position 101: invalid continuation byte",
     "output_type": "error",
     "traceback": [
      "\u001b[1;31m---------------------------------------------------------------------------\u001b[0m",
      "\u001b[1;31mUnicodeDecodeError\u001b[0m                        Traceback (most recent call last)",
      "\u001b[1;31mUnicodeDecodeError\u001b[0m: 'utf-8' codec can't decode byte 0xf3 in position 101: invalid continuation byte"
     ]
    },
    {
     "name": "stderr",
     "output_type": "stream",
     "text": [
      "Exception ignored in: 'fiona._env.log_error'\n",
      "UnicodeDecodeError: 'utf-8' codec can't decode byte 0xf3 in position 101: invalid continuation byte\n"
     ]
    },
    {
     "ename": "UnicodeDecodeError",
     "evalue": "'utf-8' codec can't decode byte 0xf3 in position 100: invalid continuation byte",
     "output_type": "error",
     "traceback": [
      "\u001b[1;31m---------------------------------------------------------------------------\u001b[0m",
      "\u001b[1;31mUnicodeDecodeError\u001b[0m                        Traceback (most recent call last)",
      "\u001b[1;31mUnicodeDecodeError\u001b[0m: 'utf-8' codec can't decode byte 0xf3 in position 100: invalid continuation byte"
     ]
    },
    {
     "name": "stderr",
     "output_type": "stream",
     "text": [
      "Exception ignored in: 'fiona._env.log_error'\n",
      "UnicodeDecodeError: 'utf-8' codec can't decode byte 0xf3 in position 100: invalid continuation byte\n"
     ]
    },
    {
     "ename": "UnicodeDecodeError",
     "evalue": "'utf-8' codec can't decode byte 0xf3 in position 100: invalid continuation byte",
     "output_type": "error",
     "traceback": [
      "\u001b[1;31m---------------------------------------------------------------------------\u001b[0m",
      "\u001b[1;31mUnicodeDecodeError\u001b[0m                        Traceback (most recent call last)",
      "\u001b[1;31mUnicodeDecodeError\u001b[0m: 'utf-8' codec can't decode byte 0xf3 in position 100: invalid continuation byte"
     ]
    },
    {
     "name": "stderr",
     "output_type": "stream",
     "text": [
      "Exception ignored in: 'fiona._env.log_error'\n",
      "UnicodeDecodeError: 'utf-8' codec can't decode byte 0xf3 in position 100: invalid continuation byte\n"
     ]
    },
    {
     "ename": "UnicodeDecodeError",
     "evalue": "'utf-8' codec can't decode byte 0xf3 in position 105: invalid continuation byte",
     "output_type": "error",
     "traceback": [
      "\u001b[1;31m---------------------------------------------------------------------------\u001b[0m",
      "\u001b[1;31mUnicodeDecodeError\u001b[0m                        Traceback (most recent call last)",
      "\u001b[1;31mUnicodeDecodeError\u001b[0m: 'utf-8' codec can't decode byte 0xf3 in position 105: invalid continuation byte"
     ]
    },
    {
     "name": "stderr",
     "output_type": "stream",
     "text": [
      "Exception ignored in: 'fiona._env.log_error'\n",
      "UnicodeDecodeError: 'utf-8' codec can't decode byte 0xf3 in position 105: invalid continuation byte\n"
     ]
    },
    {
     "ename": "UnicodeDecodeError",
     "evalue": "'utf-8' codec can't decode byte 0xf3 in position 105: invalid continuation byte",
     "output_type": "error",
     "traceback": [
      "\u001b[1;31m---------------------------------------------------------------------------\u001b[0m",
      "\u001b[1;31mUnicodeDecodeError\u001b[0m                        Traceback (most recent call last)",
      "\u001b[1;31mUnicodeDecodeError\u001b[0m: 'utf-8' codec can't decode byte 0xf3 in position 105: invalid continuation byte"
     ]
    },
    {
     "name": "stderr",
     "output_type": "stream",
     "text": [
      "Exception ignored in: 'fiona._env.log_error'\n",
      "UnicodeDecodeError: 'utf-8' codec can't decode byte 0xf3 in position 105: invalid continuation byte\n"
     ]
    },
    {
     "ename": "UnicodeDecodeError",
     "evalue": "'utf-8' codec can't decode byte 0xf3 in position 110: invalid continuation byte",
     "output_type": "error",
     "traceback": [
      "\u001b[1;31m---------------------------------------------------------------------------\u001b[0m",
      "\u001b[1;31mUnicodeDecodeError\u001b[0m                        Traceback (most recent call last)",
      "\u001b[1;31mUnicodeDecodeError\u001b[0m: 'utf-8' codec can't decode byte 0xf3 in position 110: invalid continuation byte"
     ]
    },
    {
     "name": "stderr",
     "output_type": "stream",
     "text": [
      "Exception ignored in: 'fiona._env.log_error'\n",
      "UnicodeDecodeError: 'utf-8' codec can't decode byte 0xf3 in position 110: invalid continuation byte\n"
     ]
    },
    {
     "ename": "UnicodeDecodeError",
     "evalue": "'utf-8' codec can't decode byte 0xf3 in position 110: invalid continuation byte",
     "output_type": "error",
     "traceback": [
      "\u001b[1;31m---------------------------------------------------------------------------\u001b[0m",
      "\u001b[1;31mUnicodeDecodeError\u001b[0m                        Traceback (most recent call last)",
      "\u001b[1;31mUnicodeDecodeError\u001b[0m: 'utf-8' codec can't decode byte 0xf3 in position 110: invalid continuation byte"
     ]
    },
    {
     "name": "stderr",
     "output_type": "stream",
     "text": [
      "Exception ignored in: 'fiona._env.log_error'\n",
      "UnicodeDecodeError: 'utf-8' codec can't decode byte 0xf3 in position 110: invalid continuation byte\n"
     ]
    },
    {
     "ename": "UnicodeDecodeError",
     "evalue": "'utf-8' codec can't decode byte 0xf3 in position 101: invalid continuation byte",
     "output_type": "error",
     "traceback": [
      "\u001b[1;31m---------------------------------------------------------------------------\u001b[0m",
      "\u001b[1;31mUnicodeDecodeError\u001b[0m                        Traceback (most recent call last)",
      "\u001b[1;31mUnicodeDecodeError\u001b[0m: 'utf-8' codec can't decode byte 0xf3 in position 101: invalid continuation byte"
     ]
    },
    {
     "name": "stderr",
     "output_type": "stream",
     "text": [
      "Exception ignored in: 'fiona._env.log_error'\n",
      "UnicodeDecodeError: 'utf-8' codec can't decode byte 0xf3 in position 101: invalid continuation byte\n"
     ]
    },
    {
     "ename": "UnicodeDecodeError",
     "evalue": "'utf-8' codec can't decode byte 0xf3 in position 101: invalid continuation byte",
     "output_type": "error",
     "traceback": [
      "\u001b[1;31m---------------------------------------------------------------------------\u001b[0m",
      "\u001b[1;31mUnicodeDecodeError\u001b[0m                        Traceback (most recent call last)",
      "\u001b[1;31mUnicodeDecodeError\u001b[0m: 'utf-8' codec can't decode byte 0xf3 in position 101: invalid continuation byte"
     ]
    },
    {
     "name": "stderr",
     "output_type": "stream",
     "text": [
      "Exception ignored in: 'fiona._env.log_error'\n",
      "UnicodeDecodeError: 'utf-8' codec can't decode byte 0xf3 in position 101: invalid continuation byte\n"
     ]
    },
    {
     "ename": "UnicodeDecodeError",
     "evalue": "'utf-8' codec can't decode byte 0xf3 in position 100: invalid continuation byte",
     "output_type": "error",
     "traceback": [
      "\u001b[1;31m---------------------------------------------------------------------------\u001b[0m",
      "\u001b[1;31mUnicodeDecodeError\u001b[0m                        Traceback (most recent call last)",
      "\u001b[1;31mUnicodeDecodeError\u001b[0m: 'utf-8' codec can't decode byte 0xf3 in position 100: invalid continuation byte"
     ]
    },
    {
     "name": "stderr",
     "output_type": "stream",
     "text": [
      "Exception ignored in: 'fiona._env.log_error'\n",
      "UnicodeDecodeError: 'utf-8' codec can't decode byte 0xf3 in position 100: invalid continuation byte\n"
     ]
    },
    {
     "ename": "UnicodeDecodeError",
     "evalue": "'utf-8' codec can't decode byte 0xf3 in position 100: invalid continuation byte",
     "output_type": "error",
     "traceback": [
      "\u001b[1;31m---------------------------------------------------------------------------\u001b[0m",
      "\u001b[1;31mUnicodeDecodeError\u001b[0m                        Traceback (most recent call last)",
      "\u001b[1;31mUnicodeDecodeError\u001b[0m: 'utf-8' codec can't decode byte 0xf3 in position 100: invalid continuation byte"
     ]
    },
    {
     "name": "stderr",
     "output_type": "stream",
     "text": [
      "Exception ignored in: 'fiona._env.log_error'\n",
      "UnicodeDecodeError: 'utf-8' codec can't decode byte 0xf3 in position 100: invalid continuation byte\n"
     ]
    }
   ],
   "source": [
    "gdf = gpd.read_file('./data/shapefiles/Polygon_Senegal.geojson')"
   ]
  },
  {
   "cell_type": "code",
   "execution_count": 38,
   "id": "36208be3-7749-41e1-9591-f5ade97615cc",
   "metadata": {},
   "outputs": [],
   "source": [
    "with dask.config.set({'temporary_directory': r'E:/datawarehouse/'}):\n",
    "    pass"
   ]
  },
  {
   "cell_type": "code",
   "execution_count": 39,
   "id": "b695225c-2692-48fb-b8a6-c6f82a100441",
   "metadata": {},
   "outputs": [
    {
     "name": "stdout",
     "output_type": "stream",
     "text": [
      "Number of CPUs: 8, number of threads: 8, number of workers: 1, processes: True\n"
     ]
    },
    {
     "data": {
      "text/html": [
       "<div>\n",
       "    <div style=\"width: 24px; height: 24px; background-color: #e1e1e1; border: 3px solid #9D9D9D; border-radius: 5px; position: absolute;\"> </div>\n",
       "    <div style=\"margin-left: 48px;\">\n",
       "        <h3 style=\"margin-bottom: 0px;\">Client</h3>\n",
       "        <p style=\"color: #9D9D9D; margin-bottom: 0px;\">Client-7e844ce6-c452-11ec-8968-7c8ae1acdd0a</p>\n",
       "        <table style=\"width: 100%; text-align: left;\">\n",
       "\n",
       "        <tr>\n",
       "        \n",
       "            <td style=\"text-align: left;\"><strong>Connection method:</strong> Cluster object</td>\n",
       "            <td style=\"text-align: left;\"><strong>Cluster type:</strong> distributed.LocalCluster</td>\n",
       "        \n",
       "        </tr>\n",
       "\n",
       "        \n",
       "            <tr>\n",
       "                <td style=\"text-align: left;\">\n",
       "                    <strong>Dashboard: </strong> <a href=\"http://127.0.0.1:65219/status\" target=\"_blank\">http://127.0.0.1:65219/status</a>\n",
       "                </td>\n",
       "                <td style=\"text-align: left;\"></td>\n",
       "            </tr>\n",
       "        \n",
       "\n",
       "        </table>\n",
       "\n",
       "        \n",
       "            <details>\n",
       "            <summary style=\"margin-bottom: 20px;\"><h3 style=\"display: inline;\">Cluster Info</h3></summary>\n",
       "            <div class=\"jp-RenderedHTMLCommon jp-RenderedHTML jp-mod-trusted jp-OutputArea-output\">\n",
       "    <div style=\"width: 24px; height: 24px; background-color: #e1e1e1; border: 3px solid #9D9D9D; border-radius: 5px; position: absolute;\">\n",
       "    </div>\n",
       "    <div style=\"margin-left: 48px;\">\n",
       "        <h3 style=\"margin-bottom: 0px; margin-top: 0px;\">LocalCluster</h3>\n",
       "        <p style=\"color: #9D9D9D; margin-bottom: 0px;\">81925616</p>\n",
       "        <table style=\"width: 100%; text-align: left;\">\n",
       "            <tr>\n",
       "                <td style=\"text-align: left;\">\n",
       "                    <strong>Dashboard:</strong> <a href=\"http://127.0.0.1:65219/status\" target=\"_blank\">http://127.0.0.1:65219/status</a>\n",
       "                </td>\n",
       "                <td style=\"text-align: left;\">\n",
       "                    <strong>Workers:</strong> 1\n",
       "                </td>\n",
       "            </tr>\n",
       "            <tr>\n",
       "                <td style=\"text-align: left;\">\n",
       "                    <strong>Total threads:</strong> 8\n",
       "                </td>\n",
       "                <td style=\"text-align: left;\">\n",
       "                    <strong>Total memory:</strong> 19.56 GiB\n",
       "                </td>\n",
       "            </tr>\n",
       "            \n",
       "            <tr>\n",
       "    <td style=\"text-align: left;\"><strong>Status:</strong> running</td>\n",
       "    <td style=\"text-align: left;\"><strong>Using processes:</strong> True</td>\n",
       "</tr>\n",
       "\n",
       "            \n",
       "        </table>\n",
       "\n",
       "        <details>\n",
       "            <summary style=\"margin-bottom: 20px;\">\n",
       "                <h3 style=\"display: inline;\">Scheduler Info</h3>\n",
       "            </summary>\n",
       "\n",
       "            <div style=\"\">\n",
       "    <div>\n",
       "        <div style=\"width: 24px; height: 24px; background-color: #FFF7E5; border: 3px solid #FF6132; border-radius: 5px; position: absolute;\"> </div>\n",
       "        <div style=\"margin-left: 48px;\">\n",
       "            <h3 style=\"margin-bottom: 0px;\">Scheduler</h3>\n",
       "            <p style=\"color: #9D9D9D; margin-bottom: 0px;\">Scheduler-ef208cd9-a022-41b0-a53f-06e03d770e39</p>\n",
       "            <table style=\"width: 100%; text-align: left;\">\n",
       "                <tr>\n",
       "                    <td style=\"text-align: left;\">\n",
       "                        <strong>Comm:</strong> tcp://127.0.0.1:65220\n",
       "                    </td>\n",
       "                    <td style=\"text-align: left;\">\n",
       "                        <strong>Workers:</strong> 1\n",
       "                    </td>\n",
       "                </tr>\n",
       "                <tr>\n",
       "                    <td style=\"text-align: left;\">\n",
       "                        <strong>Dashboard:</strong> <a href=\"http://127.0.0.1:65219/status\" target=\"_blank\">http://127.0.0.1:65219/status</a>\n",
       "                    </td>\n",
       "                    <td style=\"text-align: left;\">\n",
       "                        <strong>Total threads:</strong> 8\n",
       "                    </td>\n",
       "                </tr>\n",
       "                <tr>\n",
       "                    <td style=\"text-align: left;\">\n",
       "                        <strong>Started:</strong> Just now\n",
       "                    </td>\n",
       "                    <td style=\"text-align: left;\">\n",
       "                        <strong>Total memory:</strong> 19.56 GiB\n",
       "                    </td>\n",
       "                </tr>\n",
       "            </table>\n",
       "        </div>\n",
       "    </div>\n",
       "\n",
       "    <details style=\"margin-left: 48px;\">\n",
       "        <summary style=\"margin-bottom: 20px;\">\n",
       "            <h3 style=\"display: inline;\">Workers</h3>\n",
       "        </summary>\n",
       "\n",
       "        \n",
       "        <div style=\"margin-bottom: 20px;\">\n",
       "            <div style=\"width: 24px; height: 24px; background-color: #DBF5FF; border: 3px solid #4CC9FF; border-radius: 5px; position: absolute;\"> </div>\n",
       "            <div style=\"margin-left: 48px;\">\n",
       "            <details>\n",
       "                <summary>\n",
       "                    <h4 style=\"margin-bottom: 0px; display: inline;\">Worker: 0</h4>\n",
       "                </summary>\n",
       "                <table style=\"width: 100%; text-align: left;\">\n",
       "                    <tr>\n",
       "                        <td style=\"text-align: left;\">\n",
       "                            <strong>Comm: </strong> tcp://127.0.0.1:65229\n",
       "                        </td>\n",
       "                        <td style=\"text-align: left;\">\n",
       "                            <strong>Total threads: </strong> 8\n",
       "                        </td>\n",
       "                    </tr>\n",
       "                    <tr>\n",
       "                        <td style=\"text-align: left;\">\n",
       "                            <strong>Dashboard: </strong> <a href=\"http://127.0.0.1:65230/status\" target=\"_blank\">http://127.0.0.1:65230/status</a>\n",
       "                        </td>\n",
       "                        <td style=\"text-align: left;\">\n",
       "                            <strong>Memory: </strong> 19.56 GiB\n",
       "                        </td>\n",
       "                    </tr>\n",
       "                    <tr>\n",
       "                        <td style=\"text-align: left;\">\n",
       "                            <strong>Nanny: </strong> tcp://127.0.0.1:65223\n",
       "                        </td>\n",
       "                        <td style=\"text-align: left;\"></td>\n",
       "                    </tr>\n",
       "                    <tr>\n",
       "                        <td colspan=\"2\" style=\"text-align: left;\">\n",
       "                            <strong>Local directory: </strong> C:\\Users\\carli\\OneDrive\\Documentos\\Proyectos_de_desarrollo_de_software\\Soil_climate_characterization\\dask-worker-space\\worker-fz5872_c\n",
       "                        </td>\n",
       "                    </tr>\n",
       "\n",
       "                    \n",
       "\n",
       "                    \n",
       "\n",
       "                </table>\n",
       "            </details>\n",
       "            </div>\n",
       "        </div>\n",
       "        \n",
       "\n",
       "    </details>\n",
       "</div>\n",
       "\n",
       "        </details>\n",
       "    </div>\n",
       "</div>\n",
       "            </details>\n",
       "        \n",
       "\n",
       "    </div>\n",
       "</div>"
      ],
      "text/plain": [
       "<Client: 'tcp://127.0.0.1:65220' processes=1 threads=8, memory=19.56 GiB>"
      ]
     },
     "execution_count": 39,
     "metadata": {},
     "output_type": "execute_result"
    }
   ],
   "source": [
    "processes = True\n",
    "nworker = 1\n",
    "threads =  ncpu // nworker\n",
    "print(\n",
    "    f\"Number of CPUs: {ncpu}, number of threads: {threads}, number of workers: {nworker}, processes: {processes}\",\n",
    ")\n",
    "client = Client(\n",
    "    processes=processes,\n",
    "    threads_per_worker=threads,\n",
    "    n_workers=nworker,\n",
    "    memory_limit=\"21GB\",\n",
    ")\n",
    "client"
   ]
  },
  {
   "cell_type": "markdown",
   "id": "b262f55e-bb24-4157-b178-06701f242379",
   "metadata": {},
   "source": [
    "### Open several large files  "
   ]
  },
  {
   "cell_type": "code",
   "execution_count": 40,
   "id": "173b733a-20f0-42ed-9993-169f9b3da0b8",
   "metadata": {},
   "outputs": [],
   "source": [
    "#Open a unique file \n",
    "\n",
    "# Temp max\n",
    "#ds=xr.open_mfdataset('E:/datawarehouse/Tmax_netcdf\\\\*.nc', engine='rasterio',chunks='auto')\n",
    "\n",
    "# Temp min\n",
    "ds=xr.open_mfdataset('E:/datawarehouse/Tmin_netcdf\\\\*.nc', chunks='auto')\n",
    "\n",
    "# Precip\n",
    "#ds= xr.open_mfdataset('E:/datawarehouse/CHIRPS\\\\*.nc', chunks='auto')\n",
    "\n",
    "\n",
    "#Open several files\n",
    "#ds_tmax = xr.open_mfdataset('E:/datawarehouse/Tmax_netcdf\\\\*.nc',  parallel=True)\n",
    "\n",
    "# ds_tmax=xr.open_mfdataset('E:/datawarehouse/Tmax_netcdf\\\\*.nc', engine='rasterio', \n",
    "#                        parallel=True, chunks = 'auto')"
   ]
  },
  {
   "cell_type": "markdown",
   "id": "5254b17e-e00a-4e8d-89da-cf1e95f88c7f",
   "metadata": {},
   "source": [
    "### Open several large files  "
   ]
  },
  {
   "cell_type": "code",
   "execution_count": 41,
   "id": "3f7d6b77-91cb-404c-9890-5df4ebb5f90a",
   "metadata": {},
   "outputs": [
    {
     "data": {
      "text/plain": [
       "Frozen({'time': (73, 73, 73, 73, 73, 122, 122, 122, 73, 73, 73, 73, 73, 73, 73, 73, 73, 73, 73, 73, 73, 73, 73, 122, 122, 122, 73, 73, 73, 73, 73, 73, 73, 73, 73, 73, 73, 73, 73, 73, 73, 122, 122, 122, 73, 73, 73, 73, 73, 73, 73, 73, 73, 73, 73, 73, 73, 73, 73, 122, 122, 122, 73, 73, 73, 73, 73, 73, 73, 73, 73, 73, 73, 73, 73, 73, 73, 122, 122, 122, 73, 73, 73, 73, 73, 73, 73, 73, 73, 73, 73, 73, 73, 73, 73, 122, 122, 122, 73, 73, 73, 73, 73, 73, 73, 73, 73, 73, 73, 73, 73, 73, 73, 122, 122, 122, 73, 73, 73, 73, 73, 73, 73, 73, 73, 73, 73, 73, 73, 73, 73, 122, 122, 122, 73, 73, 73, 73, 73, 73, 73, 73, 73, 73, 73, 73, 73, 73, 73, 122, 122, 122), 'latitude': (400, 400, 400, 400), 'longitude': (500, 500, 500)})"
      ]
     },
     "execution_count": 41,
     "metadata": {},
     "output_type": "execute_result"
    }
   ],
   "source": [
    "ds.chunks # precip "
   ]
  },
  {
   "cell_type": "code",
   "execution_count": 42,
   "id": "ade49d9b-b9a2-4bf2-be71-af78fa8b0f2a",
   "metadata": {},
   "outputs": [
    {
     "data": {
      "text/plain": [
       "Frozen({'time': (73, 73, 73, 73, 73, 122, 122, 122, 73, 73, 73, 73, 73, 73, 73, 73, 73, 73, 73, 73, 73, 73, 73, 122, 122, 122, 73, 73, 73, 73, 73, 73, 73, 73, 73, 73, 73, 73, 73, 73, 73, 122, 122, 122, 73, 73, 73, 73, 73, 73, 73, 73, 73, 73, 73, 73, 73, 73, 73, 122, 122, 122, 73, 73, 73, 73, 73, 73, 73, 73, 73, 73, 73, 73, 73, 73, 73, 122, 122, 122, 73, 73, 73, 73, 73, 73, 73, 73, 73, 73, 73, 73, 73, 73, 73, 122, 122, 122, 73, 73, 73, 73, 73, 73, 73, 73, 73, 73, 73, 73, 73, 73, 73, 122, 122, 122, 73, 73, 73, 73, 73, 73, 73, 73, 73, 73, 73, 73, 73, 73, 73, 122, 122, 122, 73, 73, 73, 73, 73, 73, 73, 73, 73, 73, 73, 73, 73, 73, 73, 122, 122, 122), 'latitude': (400, 400, 400, 400), 'longitude': (500, 500, 500)})"
      ]
     },
     "execution_count": 42,
     "metadata": {},
     "output_type": "execute_result"
    }
   ],
   "source": [
    "ds.chunks # temp"
   ]
  },
  {
   "cell_type": "code",
   "execution_count": 43,
   "id": "13e3ad02-61cb-4d81-9fc3-0382c1d6981f",
   "metadata": {},
   "outputs": [],
   "source": [
    "#ds.unify_chunks()"
   ]
  },
  {
   "cell_type": "code",
   "execution_count": 44,
   "id": "d0def2d2-9e0a-4bce-ae32-b48a0ce5050f",
   "metadata": {},
   "outputs": [
    {
     "data": {
      "text/plain": [
       "Data variables:\n",
       "    Tmin     (time, latitude, longitude) float32 dask.array<chunksize=(73, 400, 500), meta=np.ndarray>"
      ]
     },
     "execution_count": 44,
     "metadata": {},
     "output_type": "execute_result"
    }
   ],
   "source": [
    "ds.data_vars"
   ]
  },
  {
   "cell_type": "code",
   "execution_count": 45,
   "id": "afd5d167-6c3c-48e3-b217-d2b787bc42a1",
   "metadata": {},
   "outputs": [],
   "source": [
    "ds.Tmin.attrs['units'] = '°C'"
   ]
  },
  {
   "cell_type": "code",
   "execution_count": 1,
   "id": "2453abe3-fd46-4bd0-903c-8b0b88433eb8",
   "metadata": {},
   "outputs": [
    {
     "ename": "NameError",
     "evalue": "name 'ds' is not defined",
     "output_type": "error",
     "traceback": [
      "\u001b[1;31m---------------------------------------------------------------------------\u001b[0m",
      "\u001b[1;31mNameError\u001b[0m                                 Traceback (most recent call last)",
      "\u001b[1;32m~\\AppData\\Local\\Temp\\ipykernel_16536\\2369097233.py\u001b[0m in \u001b[0;36m<module>\u001b[1;34m\u001b[0m\n\u001b[1;32m----> 1\u001b[1;33m \u001b[0mds\u001b[0m\u001b[1;33m\u001b[0m\u001b[1;33m\u001b[0m\u001b[0m\n\u001b[0m",
      "\u001b[1;31mNameError\u001b[0m: name 'ds' is not defined"
     ]
    }
   ],
   "source": [
    "ds"
   ]
  },
  {
   "cell_type": "markdown",
   "id": "ac1b5853-4d66-44e4-b60e-cdf23c8bdb85",
   "metadata": {},
   "source": [
    "## Reprojection"
   ]
  },
  {
   "cell_type": "code",
   "execution_count": 46,
   "id": "352bfb6e-1a84-4a27-bd88-9fa1ea8d33b8",
   "metadata": {},
   "outputs": [],
   "source": [
    "ds = ds.rio.write_crs(\"epsg:4326\", inplace=True)"
   ]
  },
  {
   "cell_type": "code",
   "execution_count": 47,
   "id": "b44c0216-950a-4a43-a616-de37c48e7ebf",
   "metadata": {},
   "outputs": [],
   "source": [
    "ds_clipped = ds.rio.clip(gdf.geometry.apply(mapping), gdf.crs, drop=False)"
   ]
  },
  {
   "cell_type": "code",
   "execution_count": 48,
   "id": "dcb94e7d-5581-4cb9-8ab5-d59ed15721d4",
   "metadata": {},
   "outputs": [
    {
     "data": {
      "text/html": [
       "<div>\n",
       "<style scoped>\n",
       "    .dataframe tbody tr th:only-of-type {\n",
       "        vertical-align: middle;\n",
       "    }\n",
       "\n",
       "    .dataframe tbody tr th {\n",
       "        vertical-align: top;\n",
       "    }\n",
       "\n",
       "    .dataframe thead th {\n",
       "        text-align: right;\n",
       "    }\n",
       "</style>\n",
       "<table border=\"1\" class=\"dataframe\">\n",
       "  <thead>\n",
       "    <tr style=\"text-align: right;\">\n",
       "      <th></th>\n",
       "      <th>minx</th>\n",
       "      <th>miny</th>\n",
       "      <th>maxx</th>\n",
       "      <th>maxy</th>\n",
       "    </tr>\n",
       "  </thead>\n",
       "  <tbody>\n",
       "    <tr>\n",
       "      <th>0</th>\n",
       "      <td>-17.518305</td>\n",
       "      <td>12.30728</td>\n",
       "      <td>-11.35777</td>\n",
       "      <td>16.691629</td>\n",
       "    </tr>\n",
       "  </tbody>\n",
       "</table>\n",
       "</div>"
      ],
      "text/plain": [
       "        minx      miny      maxx       maxy\n",
       "0 -17.518305  12.30728 -11.35777  16.691629"
      ]
     },
     "execution_count": 48,
     "metadata": {},
     "output_type": "execute_result"
    }
   ],
   "source": [
    "gdf.geometry.bounds"
   ]
  },
  {
   "cell_type": "code",
   "execution_count": 49,
   "id": "cb4a0ba3-16b5-460d-b126-c83d9de576b8",
   "metadata": {},
   "outputs": [],
   "source": [
    "# ds_clipped = ds_clipped.where((ds['x'] > float(gdf.geometry.bounds['minx'])) & \\\n",
    "#                               (ds['x'] < float(gdf.geometry.bounds['maxx'])) & \\\n",
    "#                               (ds['y'] > float(gdf.geometry.bounds['miny'])) & \\\n",
    "#                                (ds['y'] < float(gdf.geometry.bounds['maxy'])), drop=True)\n",
    "\n",
    "ds_clipped = ds_clipped.where((ds['longitude'] > float(gdf.geometry.bounds['minx'])) & \\\n",
    "                              (ds['longitude'] < float(gdf.geometry.bounds['maxx'])) & \\\n",
    "                              (ds['latitude'] > float(gdf.geometry.bounds['miny'])) & \\\n",
    "                               (ds['latitude'] < float(gdf.geometry.bounds['maxy'])), drop=True)\n"
   ]
  },
  {
   "cell_type": "markdown",
   "id": "12da2abf-f9a8-4652-9a96-de78208e5689",
   "metadata": {
    "tags": []
   },
   "source": [
    "### Annually average 8 days \n",
    " 1. Create function \n",
    " 2. Select each year \n",
    " 3. Calculate mean X days\n",
    " 4. Groupby by days\n",
    " 5. Apply map to applying function  "
   ]
  },
  {
   "cell_type": "code",
   "execution_count": 50,
   "id": "e0b0dc02-74ee-4ecd-a55e-380870b70728",
   "metadata": {
    "tags": []
   },
   "outputs": [],
   "source": [
    "#Jan to Feb\n",
    "#dataset_jan_march = ds.where((ds['time.month'] >= 1) & (ds['time.month'] < 3), drop=True).resample(time='8D').reduce(np.mean)\n",
    "#ds.sel(time=range('EM'))\n",
    "\n",
    "# Use .groupby('time.month') to organize the data into months\n",
    "# then use .groups to extract the indices for each month\n",
    "# month_idxs=ds.Tmax.groupby('time.month').groups\n",
    "\n",
    "\n",
    "# jan_idxs=month_idxs[1] + month_idxs[2] \n",
    "\n",
    "# Extract the january months by selecting \n",
    "# the relevant indices\n",
    "# gs_jan=ds.isel(time=jan_idxs, drop=True).sortby('time')\n",
    "# gs_jan = gs_jan.resample(time=\"8D\").mean()\n",
    "# gs_jan\n",
    "#gs_jan_sorted = gs_jan\n",
    "#gs_jan_sorted"
   ]
  },
  {
   "cell_type": "code",
   "execution_count": 51,
   "id": "31cf62d5-88f8-4a66-bd93-905bffce78c3",
   "metadata": {},
   "outputs": [],
   "source": [
    "def resample_8D_mean(x):\n",
    "    return x.resample(time=\"8D\").mean('time')"
   ]
  },
  {
   "cell_type": "code",
   "execution_count": 52,
   "id": "1e774091-1439-45f5-81cf-72dc0584db3f",
   "metadata": {},
   "outputs": [],
   "source": [
    "ds_grouped_by_days = ds_clipped.groupby('time.year').apply(resample_8D_mean)"
   ]
  },
  {
   "cell_type": "code",
   "execution_count": 53,
   "id": "328748a5-3a66-4b7e-aef3-0453bbf4aff1",
   "metadata": {},
   "outputs": [
    {
     "data": {
      "text/html": [
       "<div><svg style=\"position: absolute; width: 0; height: 0; overflow: hidden\">\n",
       "<defs>\n",
       "<symbol id=\"icon-database\" viewBox=\"0 0 32 32\">\n",
       "<path d=\"M16 0c-8.837 0-16 2.239-16 5v4c0 2.761 7.163 5 16 5s16-2.239 16-5v-4c0-2.761-7.163-5-16-5z\"></path>\n",
       "<path d=\"M16 17c-8.837 0-16-2.239-16-5v6c0 2.761 7.163 5 16 5s16-2.239 16-5v-6c0 2.761-7.163 5-16 5z\"></path>\n",
       "<path d=\"M16 26c-8.837 0-16-2.239-16-5v6c0 2.761 7.163 5 16 5s16-2.239 16-5v-6c0 2.761-7.163 5-16 5z\"></path>\n",
       "</symbol>\n",
       "<symbol id=\"icon-file-text2\" viewBox=\"0 0 32 32\">\n",
       "<path d=\"M28.681 7.159c-0.694-0.947-1.662-2.053-2.724-3.116s-2.169-2.030-3.116-2.724c-1.612-1.182-2.393-1.319-2.841-1.319h-15.5c-1.378 0-2.5 1.121-2.5 2.5v27c0 1.378 1.122 2.5 2.5 2.5h23c1.378 0 2.5-1.122 2.5-2.5v-19.5c0-0.448-0.137-1.23-1.319-2.841zM24.543 5.457c0.959 0.959 1.712 1.825 2.268 2.543h-4.811v-4.811c0.718 0.556 1.584 1.309 2.543 2.268zM28 29.5c0 0.271-0.229 0.5-0.5 0.5h-23c-0.271 0-0.5-0.229-0.5-0.5v-27c0-0.271 0.229-0.5 0.5-0.5 0 0 15.499-0 15.5 0v7c0 0.552 0.448 1 1 1h7v19.5z\"></path>\n",
       "<path d=\"M23 26h-14c-0.552 0-1-0.448-1-1s0.448-1 1-1h14c0.552 0 1 0.448 1 1s-0.448 1-1 1z\"></path>\n",
       "<path d=\"M23 22h-14c-0.552 0-1-0.448-1-1s0.448-1 1-1h14c0.552 0 1 0.448 1 1s-0.448 1-1 1z\"></path>\n",
       "<path d=\"M23 18h-14c-0.552 0-1-0.448-1-1s0.448-1 1-1h14c0.552 0 1 0.448 1 1s-0.448 1-1 1z\"></path>\n",
       "</symbol>\n",
       "</defs>\n",
       "</svg>\n",
       "<style>/* CSS stylesheet for displaying xarray objects in jupyterlab.\n",
       " *\n",
       " */\n",
       "\n",
       ":root {\n",
       "  --xr-font-color0: var(--jp-content-font-color0, rgba(0, 0, 0, 1));\n",
       "  --xr-font-color2: var(--jp-content-font-color2, rgba(0, 0, 0, 0.54));\n",
       "  --xr-font-color3: var(--jp-content-font-color3, rgba(0, 0, 0, 0.38));\n",
       "  --xr-border-color: var(--jp-border-color2, #e0e0e0);\n",
       "  --xr-disabled-color: var(--jp-layout-color3, #bdbdbd);\n",
       "  --xr-background-color: var(--jp-layout-color0, white);\n",
       "  --xr-background-color-row-even: var(--jp-layout-color1, white);\n",
       "  --xr-background-color-row-odd: var(--jp-layout-color2, #eeeeee);\n",
       "}\n",
       "\n",
       "html[theme=dark],\n",
       "body.vscode-dark {\n",
       "  --xr-font-color0: rgba(255, 255, 255, 1);\n",
       "  --xr-font-color2: rgba(255, 255, 255, 0.54);\n",
       "  --xr-font-color3: rgba(255, 255, 255, 0.38);\n",
       "  --xr-border-color: #1F1F1F;\n",
       "  --xr-disabled-color: #515151;\n",
       "  --xr-background-color: #111111;\n",
       "  --xr-background-color-row-even: #111111;\n",
       "  --xr-background-color-row-odd: #313131;\n",
       "}\n",
       "\n",
       ".xr-wrap {\n",
       "  display: block;\n",
       "  min-width: 300px;\n",
       "  max-width: 700px;\n",
       "}\n",
       "\n",
       ".xr-text-repr-fallback {\n",
       "  /* fallback to plain text repr when CSS is not injected (untrusted notebook) */\n",
       "  display: none;\n",
       "}\n",
       "\n",
       ".xr-header {\n",
       "  padding-top: 6px;\n",
       "  padding-bottom: 6px;\n",
       "  margin-bottom: 4px;\n",
       "  border-bottom: solid 1px var(--xr-border-color);\n",
       "}\n",
       "\n",
       ".xr-header > div,\n",
       ".xr-header > ul {\n",
       "  display: inline;\n",
       "  margin-top: 0;\n",
       "  margin-bottom: 0;\n",
       "}\n",
       "\n",
       ".xr-obj-type,\n",
       ".xr-array-name {\n",
       "  margin-left: 2px;\n",
       "  margin-right: 10px;\n",
       "}\n",
       "\n",
       ".xr-obj-type {\n",
       "  color: var(--xr-font-color2);\n",
       "}\n",
       "\n",
       ".xr-sections {\n",
       "  padding-left: 0 !important;\n",
       "  display: grid;\n",
       "  grid-template-columns: 150px auto auto 1fr 20px 20px;\n",
       "}\n",
       "\n",
       ".xr-section-item {\n",
       "  display: contents;\n",
       "}\n",
       "\n",
       ".xr-section-item input {\n",
       "  display: none;\n",
       "}\n",
       "\n",
       ".xr-section-item input + label {\n",
       "  color: var(--xr-disabled-color);\n",
       "}\n",
       "\n",
       ".xr-section-item input:enabled + label {\n",
       "  cursor: pointer;\n",
       "  color: var(--xr-font-color2);\n",
       "}\n",
       "\n",
       ".xr-section-item input:enabled + label:hover {\n",
       "  color: var(--xr-font-color0);\n",
       "}\n",
       "\n",
       ".xr-section-summary {\n",
       "  grid-column: 1;\n",
       "  color: var(--xr-font-color2);\n",
       "  font-weight: 500;\n",
       "}\n",
       "\n",
       ".xr-section-summary > span {\n",
       "  display: inline-block;\n",
       "  padding-left: 0.5em;\n",
       "}\n",
       "\n",
       ".xr-section-summary-in:disabled + label {\n",
       "  color: var(--xr-font-color2);\n",
       "}\n",
       "\n",
       ".xr-section-summary-in + label:before {\n",
       "  display: inline-block;\n",
       "  content: '►';\n",
       "  font-size: 11px;\n",
       "  width: 15px;\n",
       "  text-align: center;\n",
       "}\n",
       "\n",
       ".xr-section-summary-in:disabled + label:before {\n",
       "  color: var(--xr-disabled-color);\n",
       "}\n",
       "\n",
       ".xr-section-summary-in:checked + label:before {\n",
       "  content: '▼';\n",
       "}\n",
       "\n",
       ".xr-section-summary-in:checked + label > span {\n",
       "  display: none;\n",
       "}\n",
       "\n",
       ".xr-section-summary,\n",
       ".xr-section-inline-details {\n",
       "  padding-top: 4px;\n",
       "  padding-bottom: 4px;\n",
       "}\n",
       "\n",
       ".xr-section-inline-details {\n",
       "  grid-column: 2 / -1;\n",
       "}\n",
       "\n",
       ".xr-section-details {\n",
       "  display: none;\n",
       "  grid-column: 1 / -1;\n",
       "  margin-bottom: 5px;\n",
       "}\n",
       "\n",
       ".xr-section-summary-in:checked ~ .xr-section-details {\n",
       "  display: contents;\n",
       "}\n",
       "\n",
       ".xr-array-wrap {\n",
       "  grid-column: 1 / -1;\n",
       "  display: grid;\n",
       "  grid-template-columns: 20px auto;\n",
       "}\n",
       "\n",
       ".xr-array-wrap > label {\n",
       "  grid-column: 1;\n",
       "  vertical-align: top;\n",
       "}\n",
       "\n",
       ".xr-preview {\n",
       "  color: var(--xr-font-color3);\n",
       "}\n",
       "\n",
       ".xr-array-preview,\n",
       ".xr-array-data {\n",
       "  padding: 0 5px !important;\n",
       "  grid-column: 2;\n",
       "}\n",
       "\n",
       ".xr-array-data,\n",
       ".xr-array-in:checked ~ .xr-array-preview {\n",
       "  display: none;\n",
       "}\n",
       "\n",
       ".xr-array-in:checked ~ .xr-array-data,\n",
       ".xr-array-preview {\n",
       "  display: inline-block;\n",
       "}\n",
       "\n",
       ".xr-dim-list {\n",
       "  display: inline-block !important;\n",
       "  list-style: none;\n",
       "  padding: 0 !important;\n",
       "  margin: 0;\n",
       "}\n",
       "\n",
       ".xr-dim-list li {\n",
       "  display: inline-block;\n",
       "  padding: 0;\n",
       "  margin: 0;\n",
       "}\n",
       "\n",
       ".xr-dim-list:before {\n",
       "  content: '(';\n",
       "}\n",
       "\n",
       ".xr-dim-list:after {\n",
       "  content: ')';\n",
       "}\n",
       "\n",
       ".xr-dim-list li:not(:last-child):after {\n",
       "  content: ',';\n",
       "  padding-right: 5px;\n",
       "}\n",
       "\n",
       ".xr-has-index {\n",
       "  font-weight: bold;\n",
       "}\n",
       "\n",
       ".xr-var-list,\n",
       ".xr-var-item {\n",
       "  display: contents;\n",
       "}\n",
       "\n",
       ".xr-var-item > div,\n",
       ".xr-var-item label,\n",
       ".xr-var-item > .xr-var-name span {\n",
       "  background-color: var(--xr-background-color-row-even);\n",
       "  margin-bottom: 0;\n",
       "}\n",
       "\n",
       ".xr-var-item > .xr-var-name:hover span {\n",
       "  padding-right: 5px;\n",
       "}\n",
       "\n",
       ".xr-var-list > li:nth-child(odd) > div,\n",
       ".xr-var-list > li:nth-child(odd) > label,\n",
       ".xr-var-list > li:nth-child(odd) > .xr-var-name span {\n",
       "  background-color: var(--xr-background-color-row-odd);\n",
       "}\n",
       "\n",
       ".xr-var-name {\n",
       "  grid-column: 1;\n",
       "}\n",
       "\n",
       ".xr-var-dims {\n",
       "  grid-column: 2;\n",
       "}\n",
       "\n",
       ".xr-var-dtype {\n",
       "  grid-column: 3;\n",
       "  text-align: right;\n",
       "  color: var(--xr-font-color2);\n",
       "}\n",
       "\n",
       ".xr-var-preview {\n",
       "  grid-column: 4;\n",
       "}\n",
       "\n",
       ".xr-var-name,\n",
       ".xr-var-dims,\n",
       ".xr-var-dtype,\n",
       ".xr-preview,\n",
       ".xr-attrs dt {\n",
       "  white-space: nowrap;\n",
       "  overflow: hidden;\n",
       "  text-overflow: ellipsis;\n",
       "  padding-right: 10px;\n",
       "}\n",
       "\n",
       ".xr-var-name:hover,\n",
       ".xr-var-dims:hover,\n",
       ".xr-var-dtype:hover,\n",
       ".xr-attrs dt:hover {\n",
       "  overflow: visible;\n",
       "  width: auto;\n",
       "  z-index: 1;\n",
       "}\n",
       "\n",
       ".xr-var-attrs,\n",
       ".xr-var-data {\n",
       "  display: none;\n",
       "  background-color: var(--xr-background-color) !important;\n",
       "  padding-bottom: 5px !important;\n",
       "}\n",
       "\n",
       ".xr-var-attrs-in:checked ~ .xr-var-attrs,\n",
       ".xr-var-data-in:checked ~ .xr-var-data {\n",
       "  display: block;\n",
       "}\n",
       "\n",
       ".xr-var-data > table {\n",
       "  float: right;\n",
       "}\n",
       "\n",
       ".xr-var-name span,\n",
       ".xr-var-data,\n",
       ".xr-attrs {\n",
       "  padding-left: 25px !important;\n",
       "}\n",
       "\n",
       ".xr-attrs,\n",
       ".xr-var-attrs,\n",
       ".xr-var-data {\n",
       "  grid-column: 1 / -1;\n",
       "}\n",
       "\n",
       "dl.xr-attrs {\n",
       "  padding: 0;\n",
       "  margin: 0;\n",
       "  display: grid;\n",
       "  grid-template-columns: 125px auto;\n",
       "}\n",
       "\n",
       ".xr-attrs dt,\n",
       ".xr-attrs dd {\n",
       "  padding: 0;\n",
       "  margin: 0;\n",
       "  float: left;\n",
       "  padding-right: 10px;\n",
       "  width: auto;\n",
       "}\n",
       "\n",
       ".xr-attrs dt {\n",
       "  font-weight: normal;\n",
       "  grid-column: 1;\n",
       "}\n",
       "\n",
       ".xr-attrs dt:hover span {\n",
       "  display: inline-block;\n",
       "  background: var(--xr-background-color);\n",
       "  padding-right: 10px;\n",
       "}\n",
       "\n",
       ".xr-attrs dd {\n",
       "  grid-column: 2;\n",
       "  white-space: pre-wrap;\n",
       "  word-break: break-all;\n",
       "}\n",
       "\n",
       ".xr-icon-database,\n",
       ".xr-icon-file-text2 {\n",
       "  display: inline-block;\n",
       "  vertical-align: middle;\n",
       "  width: 1em;\n",
       "  height: 1.5em !important;\n",
       "  stroke-width: 0;\n",
       "  stroke: currentColor;\n",
       "  fill: currentColor;\n",
       "}\n",
       "</style><pre class='xr-text-repr-fallback'>&lt;xarray.Dataset&gt;\n",
       "Dimensions:      (dayofyear: 46, latitude: 88, longitude: 123)\n",
       "Coordinates:\n",
       "  * latitude     (latitude) float64 12.32 12.38 12.42 ... 16.57 16.62 16.67\n",
       "  * longitude    (longitude) float64 -17.48 -17.43 -17.38 ... -11.43 -11.38\n",
       "    spatial_ref  int32 0\n",
       "  * dayofyear    (dayofyear) int64 1 9 17 25 33 41 ... 321 329 337 345 353 361\n",
       "Data variables:\n",
       "    Tmin         (dayofyear, latitude, longitude) float32 dask.array&lt;chunksize=(1, 88, 123), meta=np.ndarray&gt;</pre><div class='xr-wrap' hidden><div class='xr-header'><div class='xr-obj-type'>xarray.Dataset</div></div><ul class='xr-sections'><li class='xr-section-item'><input id='section-2625d597-263f-4c9d-bcdf-2955c608d6ca' class='xr-section-summary-in' type='checkbox' disabled ><label for='section-2625d597-263f-4c9d-bcdf-2955c608d6ca' class='xr-section-summary'  title='Expand/collapse section'>Dimensions:</label><div class='xr-section-inline-details'><ul class='xr-dim-list'><li><span class='xr-has-index'>dayofyear</span>: 46</li><li><span class='xr-has-index'>latitude</span>: 88</li><li><span class='xr-has-index'>longitude</span>: 123</li></ul></div><div class='xr-section-details'></div></li><li class='xr-section-item'><input id='section-ac53cc0e-6d5e-40a3-aa3d-908ce92e032f' class='xr-section-summary-in' type='checkbox'  checked><label for='section-ac53cc0e-6d5e-40a3-aa3d-908ce92e032f' class='xr-section-summary' >Coordinates: <span>(4)</span></label><div class='xr-section-inline-details'></div><div class='xr-section-details'><ul class='xr-var-list'><li class='xr-var-item'><div class='xr-var-name'><span class='xr-has-index'>latitude</span></div><div class='xr-var-dims'>(latitude)</div><div class='xr-var-dtype'>float64</div><div class='xr-var-preview xr-preview'>12.32 12.38 12.42 ... 16.62 16.67</div><input id='attrs-43941133-eb21-4f35-87de-2fcb13a767ab' class='xr-var-attrs-in' type='checkbox' ><label for='attrs-43941133-eb21-4f35-87de-2fcb13a767ab' title='Show/Hide attributes'><svg class='icon xr-icon-file-text2'><use xlink:href='#icon-file-text2'></use></svg></label><input id='data-563e4ad8-4258-4d10-9f9c-7db0b7432a19' class='xr-var-data-in' type='checkbox'><label for='data-563e4ad8-4258-4d10-9f9c-7db0b7432a19' title='Show/Hide data repr'><svg class='icon xr-icon-database'><use xlink:href='#icon-database'></use></svg></label><div class='xr-var-attrs'><dl class='xr-attrs'><dt><span>units :</span></dt><dd>degrees_north</dd><dt><span>standard_name :</span></dt><dd>latitude</dd><dt><span>long_name :</span></dt><dd>latitude</dd><dt><span>axis :</span></dt><dd>Y</dd></dl></div><div class='xr-var-data'><pre>array([12.324997, 12.375   , 12.424999, 12.474998, 12.524998, 12.574997,\n",
       "       12.625   , 12.674999, 12.724998, 12.774998, 12.824997, 12.875   ,\n",
       "       12.924999, 12.974998, 13.024998, 13.074997, 13.125   , 13.174999,\n",
       "       13.224998, 13.274998, 13.324997, 13.375   , 13.424999, 13.474998,\n",
       "       13.524998, 13.574997, 13.625   , 13.674999, 13.724998, 13.774998,\n",
       "       13.824997, 13.875   , 13.924999, 13.974998, 14.024998, 14.074997,\n",
       "       14.125   , 14.174999, 14.224998, 14.274998, 14.324997, 14.375   ,\n",
       "       14.424999, 14.474998, 14.524998, 14.574997, 14.625   , 14.674999,\n",
       "       14.724998, 14.774998, 14.824997, 14.875   , 14.924999, 14.974998,\n",
       "       15.024998, 15.074997, 15.125   , 15.174999, 15.224998, 15.274998,\n",
       "       15.324997, 15.375   , 15.424999, 15.474998, 15.524998, 15.574997,\n",
       "       15.625   , 15.674999, 15.724998, 15.774998, 15.824997, 15.875   ,\n",
       "       15.924999, 15.974998, 16.024998, 16.074997, 16.125   , 16.174999,\n",
       "       16.224998, 16.274998, 16.324997, 16.375   , 16.424999, 16.474998,\n",
       "       16.524998, 16.574997, 16.625   , 16.674999])</pre></div></li><li class='xr-var-item'><div class='xr-var-name'><span class='xr-has-index'>longitude</span></div><div class='xr-var-dims'>(longitude)</div><div class='xr-var-dtype'>float64</div><div class='xr-var-preview xr-preview'>-17.48 -17.43 ... -11.43 -11.38</div><input id='attrs-71350969-7b9a-442e-a5a4-57fd724602c1' class='xr-var-attrs-in' type='checkbox' ><label for='attrs-71350969-7b9a-442e-a5a4-57fd724602c1' title='Show/Hide attributes'><svg class='icon xr-icon-file-text2'><use xlink:href='#icon-file-text2'></use></svg></label><input id='data-fa845506-77c3-4e78-9c28-670246c75c9c' class='xr-var-data-in' type='checkbox'><label for='data-fa845506-77c3-4e78-9c28-670246c75c9c' title='Show/Hide data repr'><svg class='icon xr-icon-database'><use xlink:href='#icon-database'></use></svg></label><div class='xr-var-attrs'><dl class='xr-attrs'><dt><span>units :</span></dt><dd>degrees_east</dd><dt><span>standard_name :</span></dt><dd>longitude</dd><dt><span>long_name :</span></dt><dd>longitude</dd><dt><span>axis :</span></dt><dd>X</dd></dl></div><div class='xr-var-data'><pre>array([-17.475   , -17.425001, -17.375   , -17.325001, -17.275002, -17.225   ,\n",
       "       -17.175001, -17.125   , -17.075001, -17.025002, -16.975   , -16.925001,\n",
       "       -16.875   , -16.825001, -16.775002, -16.725   , -16.675001, -16.625   ,\n",
       "       -16.575001, -16.525002, -16.475   , -16.425001, -16.375   , -16.325001,\n",
       "       -16.275002, -16.225   , -16.175001, -16.125   , -16.075001, -16.025002,\n",
       "       -15.975   , -15.925001, -15.875   , -15.825001, -15.775001, -15.725   ,\n",
       "       -15.675001, -15.625   , -15.575001, -15.525001, -15.475   , -15.425001,\n",
       "       -15.375   , -15.325001, -15.275001, -15.225   , -15.175001, -15.125   ,\n",
       "       -15.075001, -15.025001, -14.975   , -14.925001, -14.875   , -14.825001,\n",
       "       -14.775001, -14.725   , -14.675001, -14.625   , -14.575001, -14.525001,\n",
       "       -14.475   , -14.425001, -14.375001, -14.325001, -14.275001, -14.225   ,\n",
       "       -14.175001, -14.125001, -14.075001, -14.025001, -13.975   , -13.925001,\n",
       "       -13.875001, -13.825001, -13.775001, -13.725   , -13.675001, -13.625001,\n",
       "       -13.575001, -13.525001, -13.475   , -13.425001, -13.375001, -13.325001,\n",
       "       -13.275001, -13.225   , -13.175001, -13.125001, -13.075001, -13.025001,\n",
       "       -12.975   , -12.925001, -12.875001, -12.825001, -12.775001, -12.725   ,\n",
       "       -12.675001, -12.625001, -12.575001, -12.525002, -12.475   , -12.425001,\n",
       "       -12.375001, -12.325001, -12.275002, -12.225   , -12.175001, -12.125001,\n",
       "       -12.075001, -12.025002, -11.975   , -11.925001, -11.875001, -11.825001,\n",
       "       -11.775001, -11.725001, -11.675001, -11.625001, -11.575001, -11.525001,\n",
       "       -11.475001, -11.425001, -11.375001])</pre></div></li><li class='xr-var-item'><div class='xr-var-name'><span>spatial_ref</span></div><div class='xr-var-dims'>()</div><div class='xr-var-dtype'>int32</div><div class='xr-var-preview xr-preview'>0</div><input id='attrs-6b1a7b9f-a0b4-47fb-8207-1599a9a69b24' class='xr-var-attrs-in' type='checkbox' ><label for='attrs-6b1a7b9f-a0b4-47fb-8207-1599a9a69b24' title='Show/Hide attributes'><svg class='icon xr-icon-file-text2'><use xlink:href='#icon-file-text2'></use></svg></label><input id='data-0cd6e92c-f8f3-4c74-872f-d3b7bacc37b9' class='xr-var-data-in' type='checkbox'><label for='data-0cd6e92c-f8f3-4c74-872f-d3b7bacc37b9' title='Show/Hide data repr'><svg class='icon xr-icon-database'><use xlink:href='#icon-database'></use></svg></label><div class='xr-var-attrs'><dl class='xr-attrs'><dt><span>crs_wkt :</span></dt><dd>GEOGCS[&quot;WGS 84&quot;,DATUM[&quot;WGS_1984&quot;,SPHEROID[&quot;WGS 84&quot;,6378137,298.257223563,AUTHORITY[&quot;EPSG&quot;,&quot;7030&quot;]],AUTHORITY[&quot;EPSG&quot;,&quot;6326&quot;]],PRIMEM[&quot;Greenwich&quot;,0,AUTHORITY[&quot;EPSG&quot;,&quot;8901&quot;]],UNIT[&quot;degree&quot;,0.0174532925199433,AUTHORITY[&quot;EPSG&quot;,&quot;9122&quot;]],AXIS[&quot;Latitude&quot;,NORTH],AXIS[&quot;Longitude&quot;,EAST],AUTHORITY[&quot;EPSG&quot;,&quot;4326&quot;]]</dd><dt><span>semi_major_axis :</span></dt><dd>6378137.0</dd><dt><span>semi_minor_axis :</span></dt><dd>6356752.314245179</dd><dt><span>inverse_flattening :</span></dt><dd>298.257223563</dd><dt><span>reference_ellipsoid_name :</span></dt><dd>WGS 84</dd><dt><span>longitude_of_prime_meridian :</span></dt><dd>0.0</dd><dt><span>prime_meridian_name :</span></dt><dd>Greenwich</dd><dt><span>geographic_crs_name :</span></dt><dd>WGS 84</dd><dt><span>grid_mapping_name :</span></dt><dd>latitude_longitude</dd><dt><span>spatial_ref :</span></dt><dd>GEOGCS[&quot;WGS 84&quot;,DATUM[&quot;WGS_1984&quot;,SPHEROID[&quot;WGS 84&quot;,6378137,298.257223563,AUTHORITY[&quot;EPSG&quot;,&quot;7030&quot;]],AUTHORITY[&quot;EPSG&quot;,&quot;6326&quot;]],PRIMEM[&quot;Greenwich&quot;,0,AUTHORITY[&quot;EPSG&quot;,&quot;8901&quot;]],UNIT[&quot;degree&quot;,0.0174532925199433,AUTHORITY[&quot;EPSG&quot;,&quot;9122&quot;]],AXIS[&quot;Latitude&quot;,NORTH],AXIS[&quot;Longitude&quot;,EAST],AUTHORITY[&quot;EPSG&quot;,&quot;4326&quot;]]</dd><dt><span>GeoTransform :</span></dt><dd>-20.000000381088004 0.04999999923655158 0.0 -39.999998473166826 0.0 0.04999999809145853</dd></dl></div><div class='xr-var-data'><pre>array(0)</pre></div></li><li class='xr-var-item'><div class='xr-var-name'><span class='xr-has-index'>dayofyear</span></div><div class='xr-var-dims'>(dayofyear)</div><div class='xr-var-dtype'>int64</div><div class='xr-var-preview xr-preview'>1 9 17 25 33 ... 337 345 353 361</div><input id='attrs-d245d34e-6cce-46c8-946f-f289770922ae' class='xr-var-attrs-in' type='checkbox' disabled><label for='attrs-d245d34e-6cce-46c8-946f-f289770922ae' title='Show/Hide attributes'><svg class='icon xr-icon-file-text2'><use xlink:href='#icon-file-text2'></use></svg></label><input id='data-944aca05-f151-491a-9f93-3d4e4149044b' class='xr-var-data-in' type='checkbox'><label for='data-944aca05-f151-491a-9f93-3d4e4149044b' title='Show/Hide data repr'><svg class='icon xr-icon-database'><use xlink:href='#icon-database'></use></svg></label><div class='xr-var-attrs'><dl class='xr-attrs'></dl></div><div class='xr-var-data'><pre>array([  1,   9,  17,  25,  33,  41,  49,  57,  65,  73,  81,  89,  97, 105,\n",
       "       113, 121, 129, 137, 145, 153, 161, 169, 177, 185, 193, 201, 209, 217,\n",
       "       225, 233, 241, 249, 257, 265, 273, 281, 289, 297, 305, 313, 321, 329,\n",
       "       337, 345, 353, 361], dtype=int64)</pre></div></li></ul></div></li><li class='xr-section-item'><input id='section-3461a779-1cf7-42a5-9ac1-63ae4485ff1e' class='xr-section-summary-in' type='checkbox'  checked><label for='section-3461a779-1cf7-42a5-9ac1-63ae4485ff1e' class='xr-section-summary' >Data variables: <span>(1)</span></label><div class='xr-section-inline-details'></div><div class='xr-section-details'><ul class='xr-var-list'><li class='xr-var-item'><div class='xr-var-name'><span>Tmin</span></div><div class='xr-var-dims'>(dayofyear, latitude, longitude)</div><div class='xr-var-dtype'>float32</div><div class='xr-var-preview xr-preview'>dask.array&lt;chunksize=(1, 88, 123), meta=np.ndarray&gt;</div><input id='attrs-abd5dd3b-02b9-425b-8bc3-53838d6e1538' class='xr-var-attrs-in' type='checkbox' disabled><label for='attrs-abd5dd3b-02b9-425b-8bc3-53838d6e1538' title='Show/Hide attributes'><svg class='icon xr-icon-file-text2'><use xlink:href='#icon-file-text2'></use></svg></label><input id='data-f327c9d6-8257-4303-841b-aa0b081d1972' class='xr-var-data-in' type='checkbox'><label for='data-f327c9d6-8257-4303-841b-aa0b081d1972' title='Show/Hide data repr'><svg class='icon xr-icon-database'><use xlink:href='#icon-database'></use></svg></label><div class='xr-var-attrs'><dl class='xr-attrs'></dl></div><div class='xr-var-data'><table>\n",
       "    <tr>\n",
       "        <td>\n",
       "            <table>\n",
       "                <thead>\n",
       "                    <tr>\n",
       "                        <td> </td>\n",
       "                        <th> Array </th>\n",
       "                        <th> Chunk </th>\n",
       "                    </tr>\n",
       "                </thead>\n",
       "                <tbody>\n",
       "                    \n",
       "                    <tr>\n",
       "                        <th> Bytes </th>\n",
       "                        <td> 1.90 MiB </td>\n",
       "                        <td> 42.28 kiB </td>\n",
       "                    </tr>\n",
       "                    \n",
       "                    <tr>\n",
       "                        <th> Shape </th>\n",
       "                        <td> (46, 88, 123) </td>\n",
       "                        <td> (1, 88, 123) </td>\n",
       "                    </tr>\n",
       "                    <tr>\n",
       "                        <th> Count </th>\n",
       "                        <td> 20034 Tasks </td>\n",
       "                        <td> 46 Chunks </td>\n",
       "                    </tr>\n",
       "                    <tr>\n",
       "                    <th> Type </th>\n",
       "                    <td> float32 </td>\n",
       "                    <td> numpy.ndarray </td>\n",
       "                    </tr>\n",
       "                </tbody>\n",
       "            </table>\n",
       "        </td>\n",
       "        <td>\n",
       "        <svg width=\"206\" height=\"162\" style=\"stroke:rgb(0,0,0);stroke-width:1\" >\n",
       "\n",
       "  <!-- Horizontal lines -->\n",
       "  <line x1=\"10\" y1=\"0\" x2=\"36\" y2=\"26\" style=\"stroke-width:2\" />\n",
       "  <line x1=\"10\" y1=\"85\" x2=\"36\" y2=\"112\" style=\"stroke-width:2\" />\n",
       "\n",
       "  <!-- Vertical lines -->\n",
       "  <line x1=\"10\" y1=\"0\" x2=\"10\" y2=\"85\" style=\"stroke-width:2\" />\n",
       "  <line x1=\"11\" y1=\"1\" x2=\"11\" y2=\"87\" />\n",
       "  <line x1=\"12\" y1=\"2\" x2=\"12\" y2=\"88\" />\n",
       "  <line x1=\"14\" y1=\"4\" x2=\"14\" y2=\"89\" />\n",
       "  <line x1=\"15\" y1=\"5\" x2=\"15\" y2=\"91\" />\n",
       "  <line x1=\"16\" y1=\"6\" x2=\"16\" y2=\"92\" />\n",
       "  <line x1=\"18\" y1=\"8\" x2=\"18\" y2=\"93\" />\n",
       "  <line x1=\"19\" y1=\"9\" x2=\"19\" y2=\"95\" />\n",
       "  <line x1=\"20\" y1=\"10\" x2=\"20\" y2=\"96\" />\n",
       "  <line x1=\"22\" y1=\"12\" x2=\"22\" y2=\"97\" />\n",
       "  <line x1=\"23\" y1=\"13\" x2=\"23\" y2=\"99\" />\n",
       "  <line x1=\"24\" y1=\"14\" x2=\"24\" y2=\"100\" />\n",
       "  <line x1=\"26\" y1=\"16\" x2=\"26\" y2=\"102\" />\n",
       "  <line x1=\"27\" y1=\"17\" x2=\"27\" y2=\"103\" />\n",
       "  <line x1=\"28\" y1=\"18\" x2=\"28\" y2=\"104\" />\n",
       "  <line x1=\"30\" y1=\"20\" x2=\"30\" y2=\"106\" />\n",
       "  <line x1=\"31\" y1=\"21\" x2=\"31\" y2=\"107\" />\n",
       "  <line x1=\"33\" y1=\"23\" x2=\"33\" y2=\"109\" />\n",
       "  <line x1=\"34\" y1=\"24\" x2=\"34\" y2=\"110\" />\n",
       "  <line x1=\"36\" y1=\"26\" x2=\"36\" y2=\"112\" style=\"stroke-width:2\" />\n",
       "\n",
       "  <!-- Colored Rectangle -->\n",
       "  <polygon points=\"10.0,0.0 36.39885222381636,26.39885222381636 36.39885222381636,112.25251076040173 10.0,85.85365853658537\" style=\"fill:#8B4903A0;stroke-width:0\"/>\n",
       "\n",
       "  <!-- Horizontal lines -->\n",
       "  <line x1=\"10\" y1=\"0\" x2=\"130\" y2=\"0\" style=\"stroke-width:2\" />\n",
       "  <line x1=\"11\" y1=\"1\" x2=\"131\" y2=\"1\" />\n",
       "  <line x1=\"12\" y1=\"2\" x2=\"132\" y2=\"2\" />\n",
       "  <line x1=\"14\" y1=\"4\" x2=\"134\" y2=\"4\" />\n",
       "  <line x1=\"15\" y1=\"5\" x2=\"135\" y2=\"5\" />\n",
       "  <line x1=\"16\" y1=\"6\" x2=\"136\" y2=\"6\" />\n",
       "  <line x1=\"18\" y1=\"8\" x2=\"138\" y2=\"8\" />\n",
       "  <line x1=\"19\" y1=\"9\" x2=\"139\" y2=\"9\" />\n",
       "  <line x1=\"20\" y1=\"10\" x2=\"140\" y2=\"10\" />\n",
       "  <line x1=\"22\" y1=\"12\" x2=\"142\" y2=\"12\" />\n",
       "  <line x1=\"23\" y1=\"13\" x2=\"143\" y2=\"13\" />\n",
       "  <line x1=\"24\" y1=\"14\" x2=\"144\" y2=\"14\" />\n",
       "  <line x1=\"26\" y1=\"16\" x2=\"146\" y2=\"16\" />\n",
       "  <line x1=\"27\" y1=\"17\" x2=\"147\" y2=\"17\" />\n",
       "  <line x1=\"28\" y1=\"18\" x2=\"148\" y2=\"18\" />\n",
       "  <line x1=\"30\" y1=\"20\" x2=\"150\" y2=\"20\" />\n",
       "  <line x1=\"31\" y1=\"21\" x2=\"151\" y2=\"21\" />\n",
       "  <line x1=\"33\" y1=\"23\" x2=\"153\" y2=\"23\" />\n",
       "  <line x1=\"34\" y1=\"24\" x2=\"154\" y2=\"24\" />\n",
       "  <line x1=\"36\" y1=\"26\" x2=\"156\" y2=\"26\" style=\"stroke-width:2\" />\n",
       "\n",
       "  <!-- Vertical lines -->\n",
       "  <line x1=\"10\" y1=\"0\" x2=\"36\" y2=\"26\" style=\"stroke-width:2\" />\n",
       "  <line x1=\"130\" y1=\"0\" x2=\"156\" y2=\"26\" style=\"stroke-width:2\" />\n",
       "\n",
       "  <!-- Colored Rectangle -->\n",
       "  <polygon points=\"10.0,0.0 130.0,0.0 156.39885222381636,26.39885222381636 36.39885222381636,26.39885222381636\" style=\"fill:#8B4903A0;stroke-width:0\"/>\n",
       "\n",
       "  <!-- Horizontal lines -->\n",
       "  <line x1=\"36\" y1=\"26\" x2=\"156\" y2=\"26\" style=\"stroke-width:2\" />\n",
       "  <line x1=\"36\" y1=\"112\" x2=\"156\" y2=\"112\" style=\"stroke-width:2\" />\n",
       "\n",
       "  <!-- Vertical lines -->\n",
       "  <line x1=\"36\" y1=\"26\" x2=\"36\" y2=\"112\" style=\"stroke-width:2\" />\n",
       "  <line x1=\"156\" y1=\"26\" x2=\"156\" y2=\"112\" style=\"stroke-width:2\" />\n",
       "\n",
       "  <!-- Colored Rectangle -->\n",
       "  <polygon points=\"36.39885222381636,26.39885222381636 156.39885222381636,26.39885222381636 156.39885222381636,112.25251076040173 36.39885222381636,112.25251076040173\" style=\"fill:#ECB172A0;stroke-width:0\"/>\n",
       "\n",
       "  <!-- Text -->\n",
       "  <text x=\"96.398852\" y=\"132.252511\" font-size=\"1.0rem\" font-weight=\"100\" text-anchor=\"middle\" >123</text>\n",
       "  <text x=\"176.398852\" y=\"69.325681\" font-size=\"1.0rem\" font-weight=\"100\" text-anchor=\"middle\" transform=\"rotate(0,176.398852,69.325681)\">88</text>\n",
       "  <text x=\"13.199426\" y=\"119.053085\" font-size=\"1.0rem\" font-weight=\"100\" text-anchor=\"middle\" transform=\"rotate(45,13.199426,119.053085)\">46</text>\n",
       "</svg>\n",
       "        </td>\n",
       "    </tr>\n",
       "</table></div></li></ul></div></li><li class='xr-section-item'><input id='section-813f1abe-4ae3-4645-acd7-454d13af773a' class='xr-section-summary-in' type='checkbox' disabled ><label for='section-813f1abe-4ae3-4645-acd7-454d13af773a' class='xr-section-summary'  title='Expand/collapse section'>Attributes: <span>(0)</span></label><div class='xr-section-inline-details'></div><div class='xr-section-details'><dl class='xr-attrs'></dl></div></li></ul></div></div>"
      ],
      "text/plain": [
       "<xarray.Dataset>\n",
       "Dimensions:      (dayofyear: 46, latitude: 88, longitude: 123)\n",
       "Coordinates:\n",
       "  * latitude     (latitude) float64 12.32 12.38 12.42 ... 16.57 16.62 16.67\n",
       "  * longitude    (longitude) float64 -17.48 -17.43 -17.38 ... -11.43 -11.38\n",
       "    spatial_ref  int32 0\n",
       "  * dayofyear    (dayofyear) int64 1 9 17 25 33 41 ... 321 329 337 345 353 361\n",
       "Data variables:\n",
       "    Tmin         (dayofyear, latitude, longitude) float32 dask.array<chunksize=(1, 88, 123), meta=np.ndarray>"
      ]
     },
     "execution_count": 53,
     "metadata": {},
     "output_type": "execute_result"
    }
   ],
   "source": [
    "grouped_yearly_average = ds_grouped_by_days.groupby('time.dayofyear').mean()\n",
    "grouped_yearly_average"
   ]
  },
  {
   "cell_type": "markdown",
   "id": "06cca112-87aa-4004-b8f1-372e135d53f8",
   "metadata": {},
   "source": [
    "## Export to geotiff "
   ]
  },
  {
   "cell_type": "markdown",
   "id": "1ed591b8-1318-4e34-9f6e-eff63a6def67",
   "metadata": {},
   "source": [
    "### Test 1 "
   ]
  },
  {
   "cell_type": "code",
   "execution_count": 54,
   "id": "99386e9e-7e8f-4ad7-ad68-c180585bead7",
   "metadata": {},
   "outputs": [],
   "source": [
    "# for image in range(limit_lo, limit_up):\n",
    "#     print('Writing... ',\"Image Number: {0}\".format(image))\n",
    "#     grouped_yearly_average.Tmax.isel(dayofyear=image).rio.to_raster(\"./data/output/tmax_senegal_{0}.tif\".format(image))\n",
    "#     #dask.delayed(grouped_yearly_average.isel(dayofyear=image).to_netcdf(\"./data/output/tmax_senegal_{0}.nc\".format(image)))\n",
    "#     #grouped_yearly_average.Tmin.isel(dayofyear=image).rio.to_raster(\"./data/output/tmin_senegal_{0}.tif\".format(image))\n",
    "#     #grouped_yearly_average.precip.isel(dayofyear=image).rio.to_raster(\"./data/output/Prec_senegal_{0}.tif\".format(image))"
   ]
  },
  {
   "cell_type": "markdown",
   "id": "b43380fb-0f1f-4408-86e6-5a9507a25dbb",
   "metadata": {},
   "source": [
    "### Test 2 "
   ]
  },
  {
   "cell_type": "code",
   "execution_count": 42,
   "id": "39e22756-6d68-413d-ab0e-0d6add0349c9",
   "metadata": {},
   "outputs": [],
   "source": [
    "# dayofyear, datasets = zip(*grouped_yearly_average.groupby(\"dayofyear\"))\n",
    "# paths = [\"./data/output/tmax_senegal_{0}.nc\".format(day) for day in dayofyear]\n",
    "# result = xr.save_mfdataset(datasets, paths, compute = True)"
   ]
  },
  {
   "cell_type": "markdown",
   "id": "d5c15f0e-d540-41e2-803c-e0c7f20ade7c",
   "metadata": {},
   "source": [
    "### Test 3 "
   ]
  },
  {
   "cell_type": "code",
   "execution_count": 55,
   "id": "9f7715e1-e796-481c-aa70-be0d9d2ddba8",
   "metadata": {},
   "outputs": [
    {
     "ename": "NameError",
     "evalue": "name 'result' is not defined",
     "output_type": "error",
     "traceback": [
      "\u001b[1;31m---------------------------------------------------------------------------\u001b[0m",
      "\u001b[1;31mNameError\u001b[0m                                 Traceback (most recent call last)",
      "\u001b[1;32m~\\AppData\\Local\\Temp\\ipykernel_18792\\712543285.py\u001b[0m in \u001b[0;36m<module>\u001b[1;34m\u001b[0m\n\u001b[0;32m      2\u001b[0m \u001b[0mimages\u001b[0m \u001b[1;33m=\u001b[0m \u001b[1;33m[\u001b[0m\u001b[0mimage\u001b[0m \u001b[1;32mfor\u001b[0m \u001b[0mimage\u001b[0m \u001b[1;32min\u001b[0m \u001b[0mrange\u001b[0m\u001b[1;33m(\u001b[0m\u001b[1;36m0\u001b[0m\u001b[1;33m,\u001b[0m \u001b[0mlen\u001b[0m\u001b[1;33m(\u001b[0m\u001b[0mdayofyear\u001b[0m\u001b[1;33m)\u001b[0m\u001b[1;33m)\u001b[0m\u001b[1;33m]\u001b[0m\u001b[1;33m\u001b[0m\u001b[1;33m\u001b[0m\u001b[0m\n\u001b[0;32m      3\u001b[0m \u001b[0mresults\u001b[0m \u001b[1;33m=\u001b[0m \u001b[1;33m[\u001b[0m\u001b[0mdatasets\u001b[0m\u001b[1;33m[\u001b[0m\u001b[0mimage\u001b[0m\u001b[1;33m]\u001b[0m\u001b[1;33m.\u001b[0m\u001b[0mTmin\u001b[0m\u001b[1;33m.\u001b[0m\u001b[0mrio\u001b[0m\u001b[1;33m.\u001b[0m\u001b[0mto_raster\u001b[0m\u001b[1;33m(\u001b[0m\u001b[1;34m\"./data/output/tmin_senegal_{0}.tif\"\u001b[0m\u001b[1;33m.\u001b[0m\u001b[0mformat\u001b[0m\u001b[1;33m(\u001b[0m\u001b[0mstr\u001b[0m\u001b[1;33m(\u001b[0m\u001b[0mimage\u001b[0m\u001b[1;33m)\u001b[0m\u001b[1;33m)\u001b[0m\u001b[1;33m)\u001b[0m \u001b[1;32mfor\u001b[0m \u001b[0mimage\u001b[0m \u001b[1;32min\u001b[0m \u001b[0mimages\u001b[0m\u001b[1;33m]\u001b[0m\u001b[1;33m\u001b[0m\u001b[1;33m\u001b[0m\u001b[0m\n\u001b[1;32m----> 4\u001b[1;33m \u001b[0mdask\u001b[0m\u001b[1;33m.\u001b[0m\u001b[0mcompute\u001b[0m\u001b[1;33m(\u001b[0m\u001b[1;33m*\u001b[0m\u001b[0mresult\u001b[0m\u001b[1;33m)\u001b[0m\u001b[1;33m\u001b[0m\u001b[1;33m\u001b[0m\u001b[0m\n\u001b[0m",
      "\u001b[1;31mNameError\u001b[0m: name 'result' is not defined"
     ]
    }
   ],
   "source": [
    "dayofyear, datasets = zip(*grouped_yearly_average.groupby(\"dayofyear\"))\n",
    "images = [image for image in range(0, len(dayofyear))]\n",
    "results = [datasets[image].Tmin.rio.to_raster(\"./data/output/tmin_senegal_{0}.tif\".format(str(image))) for image in images]\n",
    "dask.compute(*result)"
   ]
  },
  {
   "cell_type": "code",
   "execution_count": null,
   "id": "aef5dc41-f235-41cd-bcf4-5335fc6e8ea8",
   "metadata": {},
   "outputs": [],
   "source": [
    "# datasets[1].Tmax.plot() #Funciona"
   ]
  },
  {
   "cell_type": "markdown",
   "id": "8dc66c88-2963-4f85-af01-d927058c11eb",
   "metadata": {},
   "source": [
    "## Visualization"
   ]
  },
  {
   "cell_type": "code",
   "execution_count": null,
   "id": "bea71724-f000-420c-9eba-ec8e57e42e47",
   "metadata": {
    "tags": []
   },
   "outputs": [],
   "source": [
    "ds_tmax.isel(time=45)"
   ]
  },
  {
   "cell_type": "code",
   "execution_count": null,
   "id": "e2ba1723-dbeb-43b7-a1a9-869beaa7bc92",
   "metadata": {},
   "outputs": [],
   "source": [
    "fig = plt.figure(figsize=[12, 5])\n",
    "\n",
    "ax = fig.add_subplot(111, projection=crs.PlateCarree(central_longitude=0))\n",
    "ds.Tmax.isel(time=2).plot.contourf(ax=ax,\n",
    "                  levels=np.arange(0, 55, 2),\n",
    "                  transform=crs.PlateCarree(),\n",
    "                  cbar_kwargs={'label': ds.Tmax.units})\n",
    "ax.coastlines()"
   ]
  },
  {
   "cell_type": "code",
   "execution_count": null,
   "id": "e443c03f-b90c-4c19-99b4-d57bd92d4348",
   "metadata": {},
   "outputs": [],
   "source": [
    "p = ds_test.Tmax.isel(time=1).plot(\n",
    "    subplot_kws=dict(projection=crs.Orthographic(0, 0), facecolor=\"gray\"),\n",
    "    transform=crs.PlateCarree(),)\n",
    "\n",
    "\n",
    "p.axes.set_global()\n",
    "p.colorbar.set_label('Tmax')\n",
    "#p.axes.set_extent((-120,120,50,90))\n",
    "p.axes.coastlines()"
   ]
  },
  {
   "cell_type": "code",
   "execution_count": null,
   "id": "787e7dfa-13bf-4b7e-bfbe-7c281c2583e2",
   "metadata": {},
   "outputs": [],
   "source": [
    "ds_test.time.shape[0]"
   ]
  },
  {
   "cell_type": "code",
   "execution_count": null,
   "id": "006dc17c-9989-4a18-913d-ff2704289c18",
   "metadata": {},
   "outputs": [],
   "source": [
    "proj = crs.Orthographic(0, 0)\n",
    "\n",
    "grouped_yearly_average.Tmax.isel(dayofyear=slice(1, grouped_yearly_average.dayofyear.shape[0], 1)).hvplot.quadmesh(\n",
    "    'x', 'y', projection=proj, project=True, global_extent=False, \n",
    "    cmap='viridis', rasterize=True, dynamic=True, coastline=True, \n",
    "    frame_width=500)"
   ]
  },
  {
   "cell_type": "code",
   "execution_count": null,
   "id": "61244b47-eec0-497f-badf-ced4b47a579d",
   "metadata": {},
   "outputs": [],
   "source": []
  },
  {
   "cell_type": "code",
   "execution_count": null,
   "id": "39eb4409-0d34-4ca8-8381-b32752d39710",
   "metadata": {},
   "outputs": [],
   "source": []
  },
  {
   "cell_type": "code",
   "execution_count": null,
   "id": "636f9d19-23ed-46c7-87fa-dc6380f3dafa",
   "metadata": {},
   "outputs": [],
   "source": []
  },
  {
   "cell_type": "code",
   "execution_count": null,
   "id": "c2b69a5b-4226-4356-bdf0-54f810276de8",
   "metadata": {},
   "outputs": [],
   "source": [
    "# "
   ]
  },
  {
   "cell_type": "code",
   "execution_count": null,
   "id": "41915e60-a6a9-4f17-809c-26b8c186dc24",
   "metadata": {},
   "outputs": [],
   "source": [
    "# geotiff_list = glob.glob(r\"E:/datawarehouse/test/*\")\n",
    "# geotiff_list\n",
    "# def paths_to_datetimeindex(paths):\n",
    "#     #return  [datetime.strptime(date.split('/')[-2], '%Y%m%d') for date in paths]\n",
    "#     paths = [os.path.basename(date) for date in paths]  \n",
    "#     return  [datetime.strptime((str(date.split('.')[1]+'-'+date.split('.')[2]+'-'+date.split('.')[3])), '%Y-%m-%d') for date in paths]\n",
    "# paths_to_datetimeindex(geotiff_list)\n",
    "# time_var = xr.Variable('time', paths_to_datetimeindex(geotiff_list))\n",
    "# geotiffs_da = xr.concat([rioxarray.open_rasterio(i) for i in geotiff_list],\n",
    "#                         dim=time_var)\n",
    "# geotiffs_ds = geotiffs_da.to_dataset('band')\n",
    "# geotiffs_ds = geotiffs_ds.rename({1: 'Tmin'})\n",
    "# geotiffs_ds = geotiffs_ds.rename_dims({'y': 'latitude', 'x':'longitude', 'time':'date'})\n",
    "\n",
    "# geotiffs_ds.attrs\n",
    "# geotiffs_ds_clipped = geotiffs_ds.rio.clip(geometries=gdf.geometry.apply(mapping), crs=gdf.crs)\n",
    "\n",
    "# geotiffs_ds.Tmin.isel(date=7).plot()"
   ]
  },
  {
   "cell_type": "code",
   "execution_count": null,
   "id": "d9bf90d0-eb92-4172-9189-9c417086db7c",
   "metadata": {},
   "outputs": [],
   "source": []
  },
  {
   "cell_type": "code",
   "execution_count": null,
   "id": "fcde25b5-9793-4175-87c1-0b292bbe89e5",
   "metadata": {},
   "outputs": [],
   "source": []
  },
  {
   "cell_type": "code",
   "execution_count": null,
   "id": "bc47b5bc-bea6-42ac-8f25-3208da0dc7a4",
   "metadata": {},
   "outputs": [],
   "source": []
  },
  {
   "cell_type": "code",
   "execution_count": null,
   "id": "1f546222-5290-4490-966f-681780be8241",
   "metadata": {},
   "outputs": [],
   "source": []
  },
  {
   "cell_type": "code",
   "execution_count": null,
   "id": "c03ce8e3-a0ec-4bc0-a4a9-aa018fb3f731",
   "metadata": {},
   "outputs": [],
   "source": []
  }
 ],
 "metadata": {
  "kernelspec": {
   "display_name": "Python 3 (ipykernel)",
   "language": "python",
   "name": "python3"
  },
  "language_info": {
   "codemirror_mode": {
    "name": "ipython",
    "version": 3
   },
   "file_extension": ".py",
   "mimetype": "text/x-python",
   "name": "python",
   "nbconvert_exporter": "python",
   "pygments_lexer": "ipython3",
   "version": "3.7.12"
  }
 },
 "nbformat": 4,
 "nbformat_minor": 5
}
