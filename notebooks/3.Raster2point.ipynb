{
 "cells": [
  {
   "cell_type": "code",
   "execution_count": 16,
   "id": "c3be9780-1cfc-4518-96ce-bf71d83145af",
   "metadata": {},
   "outputs": [],
   "source": [
    "import os\n",
    "import warnings\n",
    "import osr\n",
    "from osgeo  import ogr, gdal\n",
    "import pandas as pd\n",
    "import netCDF4\n",
    "import numpy as np\n",
    "from scipy.interpolate import griddata\n",
    "from shapely.geometry import Point\n",
    "import geopandas as gp\n",
    "from geopandas import GeoSeries \n",
    "import glob\n",
    "from nltk import flatten\n",
    "import fiona"
   ]
  },
  {
   "cell_type": "code",
   "execution_count": 17,
   "id": "d96e54c9-55b7-4457-9eea-51fdc23afb47",
   "metadata": {},
   "outputs": [],
   "source": [
    "%config Completer.use_jedi = False"
   ]
  },
  {
   "cell_type": "code",
   "execution_count": 18,
   "id": "8fec164d-d926-4c7b-a7bb-4c307994bdf9",
   "metadata": {},
   "outputs": [],
   "source": [
    "os.chdir(r\"C:\\Users\\carli\\OneDrive\\Documentos\\Proyectos_de_desarrollo_de_software/Soil_climate_characterization\")"
   ]
  },
  {
   "cell_type": "code",
   "execution_count": 85,
   "id": "69638808-4320-4516-9ce3-4b0243e6cc2f",
   "metadata": {},
   "outputs": [],
   "source": [
    "def extract_point_data_from_rasters(point_shp_layer, listRasters, outfile):\n",
    "\n",
    "    \n",
    "    shapefile = ogr.GetDriverByName(\"GeoJSON\")\n",
    "    shp = shapefile.Open(point_shp_layer, 0)\n",
    "    lyr = shp.GetLayer()\n",
    "    out = []\n",
    "    \n",
    "    \"\"\"\n",
    "    shp = ogr.Open(point_shp_layer)\n",
    "    lyr = shp.GetLayer(0)\n",
    "    out = []\n",
    "    \"\"\"\n",
    "    \n",
    "    \n",
    "    for feat in lyr:\n",
    "        geom = feat.GetGeometryRef()\n",
    "        x, y = geom.GetX(), geom.GetY()\n",
    "        l = []\n",
    "        for rst in listRasters:\n",
    "            img = gdal.Open(rst)\n",
    "            geo_transform = img.GetGeoTransform()\n",
    "            band = img.GetRasterBand(1)\n",
    "            px = int((x - geo_transform[0]) / geo_transform[1])\n",
    "            py = int((y - geo_transform[3]) / geo_transform[5])\n",
    "            \n",
    "            value = band.ReadAsArray(px, py, 1, 1)\n",
    "            \"\"\"\n",
    "            if np.isnan(value) == True:      \n",
    "                value = -9999.9    \n",
    "            elif np.isnan(value) == False:\n",
    "                pass\n",
    "            \"\"\"\n",
    "            l.append((np.round(float(value),2)))\n",
    "        out.append(list(flatten([x,y,l])))\n",
    "        l = []\n",
    "    shp.Destroy()\n",
    "    out = np.array(out)\n",
    "    columns =['Longitude','Latitude']\n",
    "    for i in listRasters:\n",
    "        columns.append(str(os.path.basename(i)).replace('.tif',''))\n",
    "    df = pd.DataFrame(out, columns = columns)\n",
    "    #df = df.replace(0, np.nan)\n",
    "    df = df.dropna()\n",
    "    gdf = gp.GeoDataFrame(df, crs={'init': 'epsg:4326'}, \n",
    "                           geometry=gp.points_from_xy(x=df.Longitude, \n",
    "                                                      y=df.Latitude))\n",
    "    #gdf.crs = \"EPSG:4326\"\n",
    "    #gdf.to_file(outfile, driver= 'GeoJSON')\n",
    "    #gdf = df.dropna()\n",
    "    with fiona.Env(OSR_WKT_FORMAT=\"WKT2_2018\"):\n",
    "        gdf.to_file(outfile, driver= 'GeoJSON')\n",
    "        \n",
    "    return gdf"
   ]
  },
  {
   "cell_type": "markdown",
   "id": "14163e71-bd82-48b3-ab89-34b0dd0708a2",
   "metadata": {},
   "source": [
    "# Climate layers "
   ]
  },
  {
   "cell_type": "code",
   "execution_count": 86,
   "id": "13aa9dea-16c1-4771-a259-9e2b64696d2e",
   "metadata": {},
   "outputs": [],
   "source": [
    "geotiff_list = glob.glob('./data/output/*.tif')"
   ]
  },
  {
   "cell_type": "code",
   "execution_count": 87,
   "id": "df82a3a3-d531-4b62-b6d5-ea5957e8a8d6",
   "metadata": {
    "tags": []
   },
   "outputs": [
    {
     "data": {
      "text/plain": [
       "['./data/output\\\\ET_senegal_corr_0.tif',\n",
       " './data/output\\\\ET_senegal_corr_1.tif',\n",
       " './data/output\\\\ET_senegal_corr_10.tif',\n",
       " './data/output\\\\ET_senegal_corr_11.tif',\n",
       " './data/output\\\\ET_senegal_corr_12.tif',\n",
       " './data/output\\\\ET_senegal_corr_13.tif',\n",
       " './data/output\\\\ET_senegal_corr_14.tif',\n",
       " './data/output\\\\ET_senegal_corr_15.tif',\n",
       " './data/output\\\\ET_senegal_corr_16.tif',\n",
       " './data/output\\\\ET_senegal_corr_17.tif',\n",
       " './data/output\\\\ET_senegal_corr_18.tif',\n",
       " './data/output\\\\ET_senegal_corr_19.tif',\n",
       " './data/output\\\\ET_senegal_corr_2.tif',\n",
       " './data/output\\\\ET_senegal_corr_20.tif',\n",
       " './data/output\\\\ET_senegal_corr_21.tif',\n",
       " './data/output\\\\ET_senegal_corr_22.tif',\n",
       " './data/output\\\\ET_senegal_corr_23.tif',\n",
       " './data/output\\\\ET_senegal_corr_24.tif',\n",
       " './data/output\\\\ET_senegal_corr_25.tif',\n",
       " './data/output\\\\ET_senegal_corr_26.tif',\n",
       " './data/output\\\\ET_senegal_corr_27.tif',\n",
       " './data/output\\\\ET_senegal_corr_28.tif',\n",
       " './data/output\\\\ET_senegal_corr_29.tif',\n",
       " './data/output\\\\ET_senegal_corr_3.tif',\n",
       " './data/output\\\\ET_senegal_corr_30.tif',\n",
       " './data/output\\\\ET_senegal_corr_31.tif',\n",
       " './data/output\\\\ET_senegal_corr_32.tif',\n",
       " './data/output\\\\ET_senegal_corr_33.tif',\n",
       " './data/output\\\\ET_senegal_corr_34.tif',\n",
       " './data/output\\\\ET_senegal_corr_35.tif',\n",
       " './data/output\\\\ET_senegal_corr_36.tif',\n",
       " './data/output\\\\ET_senegal_corr_37.tif',\n",
       " './data/output\\\\ET_senegal_corr_38.tif',\n",
       " './data/output\\\\ET_senegal_corr_39.tif',\n",
       " './data/output\\\\ET_senegal_corr_4.tif',\n",
       " './data/output\\\\ET_senegal_corr_40.tif',\n",
       " './data/output\\\\ET_senegal_corr_41.tif',\n",
       " './data/output\\\\ET_senegal_corr_42.tif',\n",
       " './data/output\\\\ET_senegal_corr_43.tif',\n",
       " './data/output\\\\ET_senegal_corr_44.tif',\n",
       " './data/output\\\\ET_senegal_corr_45.tif',\n",
       " './data/output\\\\ET_senegal_corr_5.tif',\n",
       " './data/output\\\\ET_senegal_corr_6.tif',\n",
       " './data/output\\\\ET_senegal_corr_7.tif',\n",
       " './data/output\\\\ET_senegal_corr_8.tif',\n",
       " './data/output\\\\ET_senegal_corr_9.tif',\n",
       " './data/output\\\\precip_senegal_0.tif',\n",
       " './data/output\\\\precip_senegal_1.tif',\n",
       " './data/output\\\\precip_senegal_10.tif',\n",
       " './data/output\\\\precip_senegal_11.tif',\n",
       " './data/output\\\\precip_senegal_12.tif',\n",
       " './data/output\\\\precip_senegal_13.tif',\n",
       " './data/output\\\\precip_senegal_14.tif',\n",
       " './data/output\\\\precip_senegal_15.tif',\n",
       " './data/output\\\\precip_senegal_16.tif',\n",
       " './data/output\\\\precip_senegal_17.tif',\n",
       " './data/output\\\\precip_senegal_18.tif',\n",
       " './data/output\\\\precip_senegal_19.tif',\n",
       " './data/output\\\\precip_senegal_2.tif',\n",
       " './data/output\\\\precip_senegal_20.tif',\n",
       " './data/output\\\\precip_senegal_21.tif',\n",
       " './data/output\\\\precip_senegal_22.tif',\n",
       " './data/output\\\\precip_senegal_23.tif',\n",
       " './data/output\\\\precip_senegal_24.tif',\n",
       " './data/output\\\\precip_senegal_25.tif',\n",
       " './data/output\\\\precip_senegal_26.tif',\n",
       " './data/output\\\\precip_senegal_27.tif',\n",
       " './data/output\\\\precip_senegal_28.tif',\n",
       " './data/output\\\\precip_senegal_29.tif',\n",
       " './data/output\\\\precip_senegal_3.tif',\n",
       " './data/output\\\\precip_senegal_30.tif',\n",
       " './data/output\\\\precip_senegal_31.tif',\n",
       " './data/output\\\\precip_senegal_32.tif',\n",
       " './data/output\\\\precip_senegal_33.tif',\n",
       " './data/output\\\\precip_senegal_34.tif',\n",
       " './data/output\\\\precip_senegal_35.tif',\n",
       " './data/output\\\\precip_senegal_36.tif',\n",
       " './data/output\\\\precip_senegal_37.tif',\n",
       " './data/output\\\\precip_senegal_38.tif',\n",
       " './data/output\\\\precip_senegal_39.tif',\n",
       " './data/output\\\\precip_senegal_4.tif',\n",
       " './data/output\\\\precip_senegal_40.tif',\n",
       " './data/output\\\\precip_senegal_41.tif',\n",
       " './data/output\\\\precip_senegal_42.tif',\n",
       " './data/output\\\\precip_senegal_43.tif',\n",
       " './data/output\\\\precip_senegal_44.tif',\n",
       " './data/output\\\\precip_senegal_45.tif',\n",
       " './data/output\\\\precip_senegal_5.tif',\n",
       " './data/output\\\\precip_senegal_6.tif',\n",
       " './data/output\\\\precip_senegal_7.tif',\n",
       " './data/output\\\\precip_senegal_8.tif',\n",
       " './data/output\\\\precip_senegal_9.tif',\n",
       " './data/output\\\\tmax_senegal_0.tif',\n",
       " './data/output\\\\tmax_senegal_1.tif',\n",
       " './data/output\\\\tmax_senegal_10.tif',\n",
       " './data/output\\\\tmax_senegal_11.tif',\n",
       " './data/output\\\\tmax_senegal_12.tif',\n",
       " './data/output\\\\tmax_senegal_13.tif',\n",
       " './data/output\\\\tmax_senegal_14.tif',\n",
       " './data/output\\\\tmax_senegal_15.tif',\n",
       " './data/output\\\\tmax_senegal_16.tif',\n",
       " './data/output\\\\tmax_senegal_17.tif',\n",
       " './data/output\\\\tmax_senegal_18.tif',\n",
       " './data/output\\\\tmax_senegal_19.tif',\n",
       " './data/output\\\\tmax_senegal_2.tif',\n",
       " './data/output\\\\tmax_senegal_20.tif',\n",
       " './data/output\\\\tmax_senegal_21.tif',\n",
       " './data/output\\\\tmax_senegal_22.tif',\n",
       " './data/output\\\\tmax_senegal_23.tif',\n",
       " './data/output\\\\tmax_senegal_24.tif',\n",
       " './data/output\\\\tmax_senegal_25.tif',\n",
       " './data/output\\\\tmax_senegal_26.tif',\n",
       " './data/output\\\\tmax_senegal_27.tif',\n",
       " './data/output\\\\tmax_senegal_28.tif',\n",
       " './data/output\\\\tmax_senegal_29.tif',\n",
       " './data/output\\\\tmax_senegal_3.tif',\n",
       " './data/output\\\\tmax_senegal_30.tif',\n",
       " './data/output\\\\tmax_senegal_31.tif',\n",
       " './data/output\\\\tmax_senegal_32.tif',\n",
       " './data/output\\\\tmax_senegal_33.tif',\n",
       " './data/output\\\\tmax_senegal_34.tif',\n",
       " './data/output\\\\tmax_senegal_35.tif',\n",
       " './data/output\\\\tmax_senegal_36.tif',\n",
       " './data/output\\\\tmax_senegal_37.tif',\n",
       " './data/output\\\\tmax_senegal_38.tif',\n",
       " './data/output\\\\tmax_senegal_39.tif',\n",
       " './data/output\\\\tmax_senegal_4.tif',\n",
       " './data/output\\\\tmax_senegal_40.tif',\n",
       " './data/output\\\\tmax_senegal_41.tif',\n",
       " './data/output\\\\tmax_senegal_42.tif',\n",
       " './data/output\\\\tmax_senegal_43.tif',\n",
       " './data/output\\\\tmax_senegal_44.tif',\n",
       " './data/output\\\\tmax_senegal_45.tif',\n",
       " './data/output\\\\tmax_senegal_5.tif',\n",
       " './data/output\\\\tmax_senegal_6.tif',\n",
       " './data/output\\\\tmax_senegal_7.tif',\n",
       " './data/output\\\\tmax_senegal_8.tif',\n",
       " './data/output\\\\tmax_senegal_9.tif',\n",
       " './data/output\\\\tmin_senegal_0.tif',\n",
       " './data/output\\\\tmin_senegal_1.tif',\n",
       " './data/output\\\\tmin_senegal_10.tif',\n",
       " './data/output\\\\tmin_senegal_11.tif',\n",
       " './data/output\\\\tmin_senegal_12.tif',\n",
       " './data/output\\\\tmin_senegal_13.tif',\n",
       " './data/output\\\\tmin_senegal_14.tif',\n",
       " './data/output\\\\tmin_senegal_15.tif',\n",
       " './data/output\\\\tmin_senegal_16.tif',\n",
       " './data/output\\\\tmin_senegal_17.tif',\n",
       " './data/output\\\\tmin_senegal_18.tif',\n",
       " './data/output\\\\tmin_senegal_19.tif',\n",
       " './data/output\\\\tmin_senegal_2.tif',\n",
       " './data/output\\\\tmin_senegal_20.tif',\n",
       " './data/output\\\\tmin_senegal_21.tif',\n",
       " './data/output\\\\tmin_senegal_22.tif',\n",
       " './data/output\\\\tmin_senegal_23.tif',\n",
       " './data/output\\\\tmin_senegal_24.tif',\n",
       " './data/output\\\\tmin_senegal_25.tif',\n",
       " './data/output\\\\tmin_senegal_26.tif',\n",
       " './data/output\\\\tmin_senegal_27.tif',\n",
       " './data/output\\\\tmin_senegal_28.tif',\n",
       " './data/output\\\\tmin_senegal_29.tif',\n",
       " './data/output\\\\tmin_senegal_3.tif',\n",
       " './data/output\\\\tmin_senegal_30.tif',\n",
       " './data/output\\\\tmin_senegal_31.tif',\n",
       " './data/output\\\\tmin_senegal_32.tif',\n",
       " './data/output\\\\tmin_senegal_33.tif',\n",
       " './data/output\\\\tmin_senegal_34.tif',\n",
       " './data/output\\\\tmin_senegal_35.tif',\n",
       " './data/output\\\\tmin_senegal_36.tif',\n",
       " './data/output\\\\tmin_senegal_37.tif',\n",
       " './data/output\\\\tmin_senegal_38.tif',\n",
       " './data/output\\\\tmin_senegal_39.tif',\n",
       " './data/output\\\\tmin_senegal_4.tif',\n",
       " './data/output\\\\tmin_senegal_40.tif',\n",
       " './data/output\\\\tmin_senegal_41.tif',\n",
       " './data/output\\\\tmin_senegal_42.tif',\n",
       " './data/output\\\\tmin_senegal_43.tif',\n",
       " './data/output\\\\tmin_senegal_44.tif',\n",
       " './data/output\\\\tmin_senegal_45.tif',\n",
       " './data/output\\\\tmin_senegal_5.tif',\n",
       " './data/output\\\\tmin_senegal_6.tif',\n",
       " './data/output\\\\tmin_senegal_7.tif',\n",
       " './data/output\\\\tmin_senegal_8.tif',\n",
       " './data/output\\\\tmin_senegal_9.tif']"
      ]
     },
     "execution_count": 87,
     "metadata": {},
     "output_type": "execute_result"
    }
   ],
   "source": [
    "geotiff_list"
   ]
  },
  {
   "cell_type": "code",
   "execution_count": 88,
   "id": "d8dc4f2f-f1b4-4c74-ac56-8a191cb1ee92",
   "metadata": {},
   "outputs": [],
   "source": [
    "point_layer = r'C:\\Users\\carli\\OneDrive\\Documentos\\Proyectos_de_desarrollo_de_software\\Soil_climate_characterization\\data/points.geojson'"
   ]
  },
  {
   "cell_type": "code",
   "execution_count": 89,
   "id": "cb00156b-1793-4d33-aa68-e8e6d155ff9e",
   "metadata": {},
   "outputs": [],
   "source": [
    "outfile = r'C:\\Users\\carli\\OneDrive\\Documentos\\Proyectos_de_desarrollo_de_software\\Soil_climate_characterization\\data/Climate_layers.geojson'"
   ]
  },
  {
   "cell_type": "code",
   "execution_count": 90,
   "id": "5c3deb9c-aa4e-48a6-a4ce-47cbb220088a",
   "metadata": {},
   "outputs": [
    {
     "name": "stderr",
     "output_type": "stream",
     "text": [
      "C:\\Users\\carli\\anaconda3\\envs\\senegal\\lib\\site-packages\\pyproj\\crs\\crs.py:131: FutureWarning: '+init=<authority>:<code>' syntax is deprecated. '<authority>:<code>' is the preferred initialization method. When making the change, be mindful of axis order changes: https://pyproj4.github.io/pyproj/stable/gotchas.html#axis-order-changes-in-proj-6\n",
      "  in_crs_string = _prepare_from_proj_string(in_crs_string)\n"
     ]
    },
    {
     "ename": "UnicodeDecodeError",
     "evalue": "'utf-8' codec can't decode byte 0xf3 in position 105: invalid continuation byte",
     "output_type": "error",
     "traceback": [
      "\u001b[1;31m---------------------------------------------------------------------------\u001b[0m",
      "\u001b[1;31mUnicodeDecodeError\u001b[0m                        Traceback (most recent call last)",
      "\u001b[1;31mUnicodeDecodeError\u001b[0m: 'utf-8' codec can't decode byte 0xf3 in position 105: invalid continuation byte"
     ]
    },
    {
     "name": "stderr",
     "output_type": "stream",
     "text": [
      "Exception ignored in: 'fiona._env.log_error'\n",
      "UnicodeDecodeError: 'utf-8' codec can't decode byte 0xf3 in position 105: invalid continuation byte\n"
     ]
    },
    {
     "ename": "UnicodeDecodeError",
     "evalue": "'utf-8' codec can't decode byte 0xf3 in position 105: invalid continuation byte",
     "output_type": "error",
     "traceback": [
      "\u001b[1;31m---------------------------------------------------------------------------\u001b[0m",
      "\u001b[1;31mUnicodeDecodeError\u001b[0m                        Traceback (most recent call last)",
      "\u001b[1;31mUnicodeDecodeError\u001b[0m: 'utf-8' codec can't decode byte 0xf3 in position 105: invalid continuation byte"
     ]
    },
    {
     "name": "stderr",
     "output_type": "stream",
     "text": [
      "Exception ignored in: 'fiona._env.log_error'\n",
      "UnicodeDecodeError: 'utf-8' codec can't decode byte 0xf3 in position 105: invalid continuation byte\n"
     ]
    },
    {
     "ename": "UnicodeDecodeError",
     "evalue": "'utf-8' codec can't decode byte 0xf3 in position 110: invalid continuation byte",
     "output_type": "error",
     "traceback": [
      "\u001b[1;31m---------------------------------------------------------------------------\u001b[0m",
      "\u001b[1;31mUnicodeDecodeError\u001b[0m                        Traceback (most recent call last)",
      "\u001b[1;31mUnicodeDecodeError\u001b[0m: 'utf-8' codec can't decode byte 0xf3 in position 110: invalid continuation byte"
     ]
    },
    {
     "name": "stderr",
     "output_type": "stream",
     "text": [
      "Exception ignored in: 'fiona._env.log_error'\n",
      "UnicodeDecodeError: 'utf-8' codec can't decode byte 0xf3 in position 110: invalid continuation byte\n"
     ]
    },
    {
     "ename": "UnicodeDecodeError",
     "evalue": "'utf-8' codec can't decode byte 0xf3 in position 110: invalid continuation byte",
     "output_type": "error",
     "traceback": [
      "\u001b[1;31m---------------------------------------------------------------------------\u001b[0m",
      "\u001b[1;31mUnicodeDecodeError\u001b[0m                        Traceback (most recent call last)",
      "\u001b[1;31mUnicodeDecodeError\u001b[0m: 'utf-8' codec can't decode byte 0xf3 in position 110: invalid continuation byte"
     ]
    },
    {
     "name": "stderr",
     "output_type": "stream",
     "text": [
      "Exception ignored in: 'fiona._env.log_error'\n",
      "UnicodeDecodeError: 'utf-8' codec can't decode byte 0xf3 in position 110: invalid continuation byte\n"
     ]
    },
    {
     "ename": "UnicodeDecodeError",
     "evalue": "'utf-8' codec can't decode byte 0xf3 in position 101: invalid continuation byte",
     "output_type": "error",
     "traceback": [
      "\u001b[1;31m---------------------------------------------------------------------------\u001b[0m",
      "\u001b[1;31mUnicodeDecodeError\u001b[0m                        Traceback (most recent call last)",
      "\u001b[1;31mUnicodeDecodeError\u001b[0m: 'utf-8' codec can't decode byte 0xf3 in position 101: invalid continuation byte"
     ]
    },
    {
     "name": "stderr",
     "output_type": "stream",
     "text": [
      "Exception ignored in: 'fiona._env.log_error'\n",
      "UnicodeDecodeError: 'utf-8' codec can't decode byte 0xf3 in position 101: invalid continuation byte\n"
     ]
    },
    {
     "ename": "UnicodeDecodeError",
     "evalue": "'utf-8' codec can't decode byte 0xf3 in position 101: invalid continuation byte",
     "output_type": "error",
     "traceback": [
      "\u001b[1;31m---------------------------------------------------------------------------\u001b[0m",
      "\u001b[1;31mUnicodeDecodeError\u001b[0m                        Traceback (most recent call last)",
      "\u001b[1;31mUnicodeDecodeError\u001b[0m: 'utf-8' codec can't decode byte 0xf3 in position 101: invalid continuation byte"
     ]
    },
    {
     "name": "stderr",
     "output_type": "stream",
     "text": [
      "Exception ignored in: 'fiona._env.log_error'\n",
      "UnicodeDecodeError: 'utf-8' codec can't decode byte 0xf3 in position 101: invalid continuation byte\n"
     ]
    },
    {
     "ename": "UnicodeDecodeError",
     "evalue": "'utf-8' codec can't decode byte 0xf3 in position 100: invalid continuation byte",
     "output_type": "error",
     "traceback": [
      "\u001b[1;31m---------------------------------------------------------------------------\u001b[0m",
      "\u001b[1;31mUnicodeDecodeError\u001b[0m                        Traceback (most recent call last)",
      "\u001b[1;31mUnicodeDecodeError\u001b[0m: 'utf-8' codec can't decode byte 0xf3 in position 100: invalid continuation byte"
     ]
    },
    {
     "name": "stderr",
     "output_type": "stream",
     "text": [
      "Exception ignored in: 'fiona._env.log_error'\n",
      "UnicodeDecodeError: 'utf-8' codec can't decode byte 0xf3 in position 100: invalid continuation byte\n"
     ]
    },
    {
     "ename": "UnicodeDecodeError",
     "evalue": "'utf-8' codec can't decode byte 0xf3 in position 100: invalid continuation byte",
     "output_type": "error",
     "traceback": [
      "\u001b[1;31m---------------------------------------------------------------------------\u001b[0m",
      "\u001b[1;31mUnicodeDecodeError\u001b[0m                        Traceback (most recent call last)",
      "\u001b[1;31mUnicodeDecodeError\u001b[0m: 'utf-8' codec can't decode byte 0xf3 in position 100: invalid continuation byte"
     ]
    },
    {
     "name": "stderr",
     "output_type": "stream",
     "text": [
      "Exception ignored in: 'fiona._env.log_error'\n",
      "UnicodeDecodeError: 'utf-8' codec can't decode byte 0xf3 in position 100: invalid continuation byte\n"
     ]
    },
    {
     "ename": "UnicodeDecodeError",
     "evalue": "'utf-8' codec can't decode byte 0xf3 in position 105: invalid continuation byte",
     "output_type": "error",
     "traceback": [
      "\u001b[1;31m---------------------------------------------------------------------------\u001b[0m",
      "\u001b[1;31mUnicodeDecodeError\u001b[0m                        Traceback (most recent call last)",
      "\u001b[1;31mUnicodeDecodeError\u001b[0m: 'utf-8' codec can't decode byte 0xf3 in position 105: invalid continuation byte"
     ]
    },
    {
     "name": "stderr",
     "output_type": "stream",
     "text": [
      "Exception ignored in: 'fiona._env.log_error'\n",
      "UnicodeDecodeError: 'utf-8' codec can't decode byte 0xf3 in position 105: invalid continuation byte\n"
     ]
    },
    {
     "ename": "UnicodeDecodeError",
     "evalue": "'utf-8' codec can't decode byte 0xf3 in position 105: invalid continuation byte",
     "output_type": "error",
     "traceback": [
      "\u001b[1;31m---------------------------------------------------------------------------\u001b[0m",
      "\u001b[1;31mUnicodeDecodeError\u001b[0m                        Traceback (most recent call last)",
      "\u001b[1;31mUnicodeDecodeError\u001b[0m: 'utf-8' codec can't decode byte 0xf3 in position 105: invalid continuation byte"
     ]
    },
    {
     "name": "stderr",
     "output_type": "stream",
     "text": [
      "Exception ignored in: 'fiona._env.log_error'\n",
      "UnicodeDecodeError: 'utf-8' codec can't decode byte 0xf3 in position 105: invalid continuation byte\n"
     ]
    },
    {
     "ename": "UnicodeDecodeError",
     "evalue": "'utf-8' codec can't decode byte 0xf3 in position 110: invalid continuation byte",
     "output_type": "error",
     "traceback": [
      "\u001b[1;31m---------------------------------------------------------------------------\u001b[0m",
      "\u001b[1;31mUnicodeDecodeError\u001b[0m                        Traceback (most recent call last)",
      "\u001b[1;31mUnicodeDecodeError\u001b[0m: 'utf-8' codec can't decode byte 0xf3 in position 110: invalid continuation byte"
     ]
    },
    {
     "name": "stderr",
     "output_type": "stream",
     "text": [
      "Exception ignored in: 'fiona._env.log_error'\n",
      "UnicodeDecodeError: 'utf-8' codec can't decode byte 0xf3 in position 110: invalid continuation byte\n"
     ]
    },
    {
     "ename": "UnicodeDecodeError",
     "evalue": "'utf-8' codec can't decode byte 0xf3 in position 110: invalid continuation byte",
     "output_type": "error",
     "traceback": [
      "\u001b[1;31m---------------------------------------------------------------------------\u001b[0m",
      "\u001b[1;31mUnicodeDecodeError\u001b[0m                        Traceback (most recent call last)",
      "\u001b[1;31mUnicodeDecodeError\u001b[0m: 'utf-8' codec can't decode byte 0xf3 in position 110: invalid continuation byte"
     ]
    },
    {
     "name": "stderr",
     "output_type": "stream",
     "text": [
      "Exception ignored in: 'fiona._env.log_error'\n",
      "UnicodeDecodeError: 'utf-8' codec can't decode byte 0xf3 in position 110: invalid continuation byte\n"
     ]
    },
    {
     "ename": "UnicodeDecodeError",
     "evalue": "'utf-8' codec can't decode byte 0xf3 in position 101: invalid continuation byte",
     "output_type": "error",
     "traceback": [
      "\u001b[1;31m---------------------------------------------------------------------------\u001b[0m",
      "\u001b[1;31mUnicodeDecodeError\u001b[0m                        Traceback (most recent call last)",
      "\u001b[1;31mUnicodeDecodeError\u001b[0m: 'utf-8' codec can't decode byte 0xf3 in position 101: invalid continuation byte"
     ]
    },
    {
     "name": "stderr",
     "output_type": "stream",
     "text": [
      "Exception ignored in: 'fiona._env.log_error'\n",
      "UnicodeDecodeError: 'utf-8' codec can't decode byte 0xf3 in position 101: invalid continuation byte\n"
     ]
    },
    {
     "ename": "UnicodeDecodeError",
     "evalue": "'utf-8' codec can't decode byte 0xf3 in position 101: invalid continuation byte",
     "output_type": "error",
     "traceback": [
      "\u001b[1;31m---------------------------------------------------------------------------\u001b[0m",
      "\u001b[1;31mUnicodeDecodeError\u001b[0m                        Traceback (most recent call last)",
      "\u001b[1;31mUnicodeDecodeError\u001b[0m: 'utf-8' codec can't decode byte 0xf3 in position 101: invalid continuation byte"
     ]
    },
    {
     "name": "stderr",
     "output_type": "stream",
     "text": [
      "Exception ignored in: 'fiona._env.log_error'\n",
      "UnicodeDecodeError: 'utf-8' codec can't decode byte 0xf3 in position 101: invalid continuation byte\n"
     ]
    },
    {
     "ename": "UnicodeDecodeError",
     "evalue": "'utf-8' codec can't decode byte 0xf3 in position 100: invalid continuation byte",
     "output_type": "error",
     "traceback": [
      "\u001b[1;31m---------------------------------------------------------------------------\u001b[0m",
      "\u001b[1;31mUnicodeDecodeError\u001b[0m                        Traceback (most recent call last)",
      "\u001b[1;31mUnicodeDecodeError\u001b[0m: 'utf-8' codec can't decode byte 0xf3 in position 100: invalid continuation byte"
     ]
    },
    {
     "name": "stderr",
     "output_type": "stream",
     "text": [
      "Exception ignored in: 'fiona._env.log_error'\n",
      "UnicodeDecodeError: 'utf-8' codec can't decode byte 0xf3 in position 100: invalid continuation byte\n"
     ]
    },
    {
     "ename": "UnicodeDecodeError",
     "evalue": "'utf-8' codec can't decode byte 0xf3 in position 100: invalid continuation byte",
     "output_type": "error",
     "traceback": [
      "\u001b[1;31m---------------------------------------------------------------------------\u001b[0m",
      "\u001b[1;31mUnicodeDecodeError\u001b[0m                        Traceback (most recent call last)",
      "\u001b[1;31mUnicodeDecodeError\u001b[0m: 'utf-8' codec can't decode byte 0xf3 in position 100: invalid continuation byte"
     ]
    },
    {
     "name": "stderr",
     "output_type": "stream",
     "text": [
      "Exception ignored in: 'fiona._env.log_error'\n",
      "UnicodeDecodeError: 'utf-8' codec can't decode byte 0xf3 in position 100: invalid continuation byte\n"
     ]
    },
    {
     "ename": "UnicodeDecodeError",
     "evalue": "'utf-8' codec can't decode byte 0xf3 in position 105: invalid continuation byte",
     "output_type": "error",
     "traceback": [
      "\u001b[1;31m---------------------------------------------------------------------------\u001b[0m",
      "\u001b[1;31mUnicodeDecodeError\u001b[0m                        Traceback (most recent call last)",
      "\u001b[1;31mUnicodeDecodeError\u001b[0m: 'utf-8' codec can't decode byte 0xf3 in position 105: invalid continuation byte"
     ]
    },
    {
     "name": "stderr",
     "output_type": "stream",
     "text": [
      "Exception ignored in: 'fiona._env.log_error'\n",
      "UnicodeDecodeError: 'utf-8' codec can't decode byte 0xf3 in position 105: invalid continuation byte\n"
     ]
    },
    {
     "ename": "UnicodeDecodeError",
     "evalue": "'utf-8' codec can't decode byte 0xf3 in position 105: invalid continuation byte",
     "output_type": "error",
     "traceback": [
      "\u001b[1;31m---------------------------------------------------------------------------\u001b[0m",
      "\u001b[1;31mUnicodeDecodeError\u001b[0m                        Traceback (most recent call last)",
      "\u001b[1;31mUnicodeDecodeError\u001b[0m: 'utf-8' codec can't decode byte 0xf3 in position 105: invalid continuation byte"
     ]
    },
    {
     "name": "stderr",
     "output_type": "stream",
     "text": [
      "Exception ignored in: 'fiona._env.log_error'\n",
      "UnicodeDecodeError: 'utf-8' codec can't decode byte 0xf3 in position 105: invalid continuation byte\n"
     ]
    },
    {
     "ename": "UnicodeDecodeError",
     "evalue": "'utf-8' codec can't decode byte 0xf3 in position 110: invalid continuation byte",
     "output_type": "error",
     "traceback": [
      "\u001b[1;31m---------------------------------------------------------------------------\u001b[0m",
      "\u001b[1;31mUnicodeDecodeError\u001b[0m                        Traceback (most recent call last)",
      "\u001b[1;31mUnicodeDecodeError\u001b[0m: 'utf-8' codec can't decode byte 0xf3 in position 110: invalid continuation byte"
     ]
    },
    {
     "name": "stderr",
     "output_type": "stream",
     "text": [
      "Exception ignored in: 'fiona._env.log_error'\n",
      "UnicodeDecodeError: 'utf-8' codec can't decode byte 0xf3 in position 110: invalid continuation byte\n"
     ]
    },
    {
     "ename": "UnicodeDecodeError",
     "evalue": "'utf-8' codec can't decode byte 0xf3 in position 110: invalid continuation byte",
     "output_type": "error",
     "traceback": [
      "\u001b[1;31m---------------------------------------------------------------------------\u001b[0m",
      "\u001b[1;31mUnicodeDecodeError\u001b[0m                        Traceback (most recent call last)",
      "\u001b[1;31mUnicodeDecodeError\u001b[0m: 'utf-8' codec can't decode byte 0xf3 in position 110: invalid continuation byte"
     ]
    },
    {
     "name": "stderr",
     "output_type": "stream",
     "text": [
      "Exception ignored in: 'fiona._env.log_error'\n",
      "UnicodeDecodeError: 'utf-8' codec can't decode byte 0xf3 in position 110: invalid continuation byte\n"
     ]
    },
    {
     "ename": "UnicodeDecodeError",
     "evalue": "'utf-8' codec can't decode byte 0xf3 in position 101: invalid continuation byte",
     "output_type": "error",
     "traceback": [
      "\u001b[1;31m---------------------------------------------------------------------------\u001b[0m",
      "\u001b[1;31mUnicodeDecodeError\u001b[0m                        Traceback (most recent call last)",
      "\u001b[1;31mUnicodeDecodeError\u001b[0m: 'utf-8' codec can't decode byte 0xf3 in position 101: invalid continuation byte"
     ]
    },
    {
     "name": "stderr",
     "output_type": "stream",
     "text": [
      "Exception ignored in: 'fiona._env.log_error'\n",
      "UnicodeDecodeError: 'utf-8' codec can't decode byte 0xf3 in position 101: invalid continuation byte\n"
     ]
    },
    {
     "ename": "UnicodeDecodeError",
     "evalue": "'utf-8' codec can't decode byte 0xf3 in position 101: invalid continuation byte",
     "output_type": "error",
     "traceback": [
      "\u001b[1;31m---------------------------------------------------------------------------\u001b[0m",
      "\u001b[1;31mUnicodeDecodeError\u001b[0m                        Traceback (most recent call last)",
      "\u001b[1;31mUnicodeDecodeError\u001b[0m: 'utf-8' codec can't decode byte 0xf3 in position 101: invalid continuation byte"
     ]
    },
    {
     "name": "stderr",
     "output_type": "stream",
     "text": [
      "Exception ignored in: 'fiona._env.log_error'\n",
      "UnicodeDecodeError: 'utf-8' codec can't decode byte 0xf3 in position 101: invalid continuation byte\n"
     ]
    },
    {
     "ename": "UnicodeDecodeError",
     "evalue": "'utf-8' codec can't decode byte 0xf3 in position 100: invalid continuation byte",
     "output_type": "error",
     "traceback": [
      "\u001b[1;31m---------------------------------------------------------------------------\u001b[0m",
      "\u001b[1;31mUnicodeDecodeError\u001b[0m                        Traceback (most recent call last)",
      "\u001b[1;31mUnicodeDecodeError\u001b[0m: 'utf-8' codec can't decode byte 0xf3 in position 100: invalid continuation byte"
     ]
    },
    {
     "name": "stderr",
     "output_type": "stream",
     "text": [
      "Exception ignored in: 'fiona._env.log_error'\n",
      "UnicodeDecodeError: 'utf-8' codec can't decode byte 0xf3 in position 100: invalid continuation byte\n"
     ]
    },
    {
     "ename": "UnicodeDecodeError",
     "evalue": "'utf-8' codec can't decode byte 0xf3 in position 100: invalid continuation byte",
     "output_type": "error",
     "traceback": [
      "\u001b[1;31m---------------------------------------------------------------------------\u001b[0m",
      "\u001b[1;31mUnicodeDecodeError\u001b[0m                        Traceback (most recent call last)",
      "\u001b[1;31mUnicodeDecodeError\u001b[0m: 'utf-8' codec can't decode byte 0xf3 in position 100: invalid continuation byte"
     ]
    },
    {
     "name": "stderr",
     "output_type": "stream",
     "text": [
      "Exception ignored in: 'fiona._env.log_error'\n",
      "UnicodeDecodeError: 'utf-8' codec can't decode byte 0xf3 in position 100: invalid continuation byte\n"
     ]
    },
    {
     "ename": "UnicodeDecodeError",
     "evalue": "'utf-8' codec can't decode byte 0xf3 in position 105: invalid continuation byte",
     "output_type": "error",
     "traceback": [
      "\u001b[1;31m---------------------------------------------------------------------------\u001b[0m",
      "\u001b[1;31mUnicodeDecodeError\u001b[0m                        Traceback (most recent call last)",
      "\u001b[1;31mUnicodeDecodeError\u001b[0m: 'utf-8' codec can't decode byte 0xf3 in position 105: invalid continuation byte"
     ]
    },
    {
     "name": "stderr",
     "output_type": "stream",
     "text": [
      "Exception ignored in: 'fiona._env.log_error'\n",
      "UnicodeDecodeError: 'utf-8' codec can't decode byte 0xf3 in position 105: invalid continuation byte\n"
     ]
    },
    {
     "ename": "UnicodeDecodeError",
     "evalue": "'utf-8' codec can't decode byte 0xf3 in position 105: invalid continuation byte",
     "output_type": "error",
     "traceback": [
      "\u001b[1;31m---------------------------------------------------------------------------\u001b[0m",
      "\u001b[1;31mUnicodeDecodeError\u001b[0m                        Traceback (most recent call last)",
      "\u001b[1;31mUnicodeDecodeError\u001b[0m: 'utf-8' codec can't decode byte 0xf3 in position 105: invalid continuation byte"
     ]
    },
    {
     "name": "stderr",
     "output_type": "stream",
     "text": [
      "Exception ignored in: 'fiona._env.log_error'\n",
      "UnicodeDecodeError: 'utf-8' codec can't decode byte 0xf3 in position 105: invalid continuation byte\n"
     ]
    },
    {
     "ename": "UnicodeDecodeError",
     "evalue": "'utf-8' codec can't decode byte 0xf3 in position 110: invalid continuation byte",
     "output_type": "error",
     "traceback": [
      "\u001b[1;31m---------------------------------------------------------------------------\u001b[0m",
      "\u001b[1;31mUnicodeDecodeError\u001b[0m                        Traceback (most recent call last)",
      "\u001b[1;31mUnicodeDecodeError\u001b[0m: 'utf-8' codec can't decode byte 0xf3 in position 110: invalid continuation byte"
     ]
    },
    {
     "name": "stderr",
     "output_type": "stream",
     "text": [
      "Exception ignored in: 'fiona._env.log_error'\n",
      "UnicodeDecodeError: 'utf-8' codec can't decode byte 0xf3 in position 110: invalid continuation byte\n"
     ]
    },
    {
     "ename": "UnicodeDecodeError",
     "evalue": "'utf-8' codec can't decode byte 0xf3 in position 110: invalid continuation byte",
     "output_type": "error",
     "traceback": [
      "\u001b[1;31m---------------------------------------------------------------------------\u001b[0m",
      "\u001b[1;31mUnicodeDecodeError\u001b[0m                        Traceback (most recent call last)",
      "\u001b[1;31mUnicodeDecodeError\u001b[0m: 'utf-8' codec can't decode byte 0xf3 in position 110: invalid continuation byte"
     ]
    },
    {
     "name": "stderr",
     "output_type": "stream",
     "text": [
      "Exception ignored in: 'fiona._env.log_error'\n",
      "UnicodeDecodeError: 'utf-8' codec can't decode byte 0xf3 in position 110: invalid continuation byte\n"
     ]
    },
    {
     "ename": "UnicodeDecodeError",
     "evalue": "'utf-8' codec can't decode byte 0xf3 in position 101: invalid continuation byte",
     "output_type": "error",
     "traceback": [
      "\u001b[1;31m---------------------------------------------------------------------------\u001b[0m",
      "\u001b[1;31mUnicodeDecodeError\u001b[0m                        Traceback (most recent call last)",
      "\u001b[1;31mUnicodeDecodeError\u001b[0m: 'utf-8' codec can't decode byte 0xf3 in position 101: invalid continuation byte"
     ]
    },
    {
     "name": "stderr",
     "output_type": "stream",
     "text": [
      "Exception ignored in: 'fiona._env.log_error'\n",
      "UnicodeDecodeError: 'utf-8' codec can't decode byte 0xf3 in position 101: invalid continuation byte\n"
     ]
    },
    {
     "ename": "UnicodeDecodeError",
     "evalue": "'utf-8' codec can't decode byte 0xf3 in position 101: invalid continuation byte",
     "output_type": "error",
     "traceback": [
      "\u001b[1;31m---------------------------------------------------------------------------\u001b[0m",
      "\u001b[1;31mUnicodeDecodeError\u001b[0m                        Traceback (most recent call last)",
      "\u001b[1;31mUnicodeDecodeError\u001b[0m: 'utf-8' codec can't decode byte 0xf3 in position 101: invalid continuation byte"
     ]
    },
    {
     "name": "stderr",
     "output_type": "stream",
     "text": [
      "Exception ignored in: 'fiona._env.log_error'\n",
      "UnicodeDecodeError: 'utf-8' codec can't decode byte 0xf3 in position 101: invalid continuation byte\n"
     ]
    },
    {
     "ename": "UnicodeDecodeError",
     "evalue": "'utf-8' codec can't decode byte 0xf3 in position 100: invalid continuation byte",
     "output_type": "error",
     "traceback": [
      "\u001b[1;31m---------------------------------------------------------------------------\u001b[0m",
      "\u001b[1;31mUnicodeDecodeError\u001b[0m                        Traceback (most recent call last)",
      "\u001b[1;31mUnicodeDecodeError\u001b[0m: 'utf-8' codec can't decode byte 0xf3 in position 100: invalid continuation byte"
     ]
    },
    {
     "name": "stderr",
     "output_type": "stream",
     "text": [
      "Exception ignored in: 'fiona._env.log_error'\n",
      "UnicodeDecodeError: 'utf-8' codec can't decode byte 0xf3 in position 100: invalid continuation byte\n"
     ]
    },
    {
     "ename": "UnicodeDecodeError",
     "evalue": "'utf-8' codec can't decode byte 0xf3 in position 100: invalid continuation byte",
     "output_type": "error",
     "traceback": [
      "\u001b[1;31m---------------------------------------------------------------------------\u001b[0m",
      "\u001b[1;31mUnicodeDecodeError\u001b[0m                        Traceback (most recent call last)",
      "\u001b[1;31mUnicodeDecodeError\u001b[0m: 'utf-8' codec can't decode byte 0xf3 in position 100: invalid continuation byte"
     ]
    },
    {
     "name": "stderr",
     "output_type": "stream",
     "text": [
      "Exception ignored in: 'fiona._env.log_error'\n",
      "UnicodeDecodeError: 'utf-8' codec can't decode byte 0xf3 in position 100: invalid continuation byte\n"
     ]
    },
    {
     "data": {
      "text/html": [
       "<div>\n",
       "<style scoped>\n",
       "    .dataframe tbody tr th:only-of-type {\n",
       "        vertical-align: middle;\n",
       "    }\n",
       "\n",
       "    .dataframe tbody tr th {\n",
       "        vertical-align: top;\n",
       "    }\n",
       "\n",
       "    .dataframe thead th {\n",
       "        text-align: right;\n",
       "    }\n",
       "</style>\n",
       "<table border=\"1\" class=\"dataframe\">\n",
       "  <thead>\n",
       "    <tr style=\"text-align: right;\">\n",
       "      <th></th>\n",
       "      <th>Longitude</th>\n",
       "      <th>Latitude</th>\n",
       "      <th>ET_senegal_corr_0</th>\n",
       "      <th>ET_senegal_corr_1</th>\n",
       "      <th>ET_senegal_corr_10</th>\n",
       "      <th>ET_senegal_corr_11</th>\n",
       "      <th>ET_senegal_corr_12</th>\n",
       "      <th>ET_senegal_corr_13</th>\n",
       "      <th>ET_senegal_corr_14</th>\n",
       "      <th>ET_senegal_corr_15</th>\n",
       "      <th>...</th>\n",
       "      <th>tmin_senegal_42</th>\n",
       "      <th>tmin_senegal_43</th>\n",
       "      <th>tmin_senegal_44</th>\n",
       "      <th>tmin_senegal_45</th>\n",
       "      <th>tmin_senegal_5</th>\n",
       "      <th>tmin_senegal_6</th>\n",
       "      <th>tmin_senegal_7</th>\n",
       "      <th>tmin_senegal_8</th>\n",
       "      <th>tmin_senegal_9</th>\n",
       "      <th>geometry</th>\n",
       "    </tr>\n",
       "  </thead>\n",
       "  <tbody>\n",
       "    <tr>\n",
       "      <th>0</th>\n",
       "      <td>-12.325001</td>\n",
       "      <td>12.324998</td>\n",
       "      <td>7.32</td>\n",
       "      <td>7.32</td>\n",
       "      <td>0.63</td>\n",
       "      <td>0.81</td>\n",
       "      <td>0.79</td>\n",
       "      <td>1.25</td>\n",
       "      <td>2.16</td>\n",
       "      <td>3.06</td>\n",
       "      <td>...</td>\n",
       "      <td>18.47</td>\n",
       "      <td>18.05</td>\n",
       "      <td>17.78</td>\n",
       "      <td>17.42</td>\n",
       "      <td>20.11</td>\n",
       "      <td>21.36</td>\n",
       "      <td>22.08</td>\n",
       "      <td>23.08</td>\n",
       "      <td>23.65</td>\n",
       "      <td>POINT (-12.32500 12.32500)</td>\n",
       "    </tr>\n",
       "    <tr>\n",
       "      <th>1</th>\n",
       "      <td>-16.725000</td>\n",
       "      <td>12.374998</td>\n",
       "      <td>0.00</td>\n",
       "      <td>0.00</td>\n",
       "      <td>0.00</td>\n",
       "      <td>0.00</td>\n",
       "      <td>0.00</td>\n",
       "      <td>0.00</td>\n",
       "      <td>0.00</td>\n",
       "      <td>0.00</td>\n",
       "      <td>...</td>\n",
       "      <td>25.60</td>\n",
       "      <td>24.82</td>\n",
       "      <td>24.24</td>\n",
       "      <td>23.70</td>\n",
       "      <td>25.24</td>\n",
       "      <td>25.30</td>\n",
       "      <td>25.42</td>\n",
       "      <td>25.29</td>\n",
       "      <td>25.29</td>\n",
       "      <td>POINT (-16.72500 12.37500)</td>\n",
       "    </tr>\n",
       "    <tr>\n",
       "      <th>2</th>\n",
       "      <td>-16.675000</td>\n",
       "      <td>12.374998</td>\n",
       "      <td>28.74</td>\n",
       "      <td>28.74</td>\n",
       "      <td>49.49</td>\n",
       "      <td>74.46</td>\n",
       "      <td>89.56</td>\n",
       "      <td>100.76</td>\n",
       "      <td>104.33</td>\n",
       "      <td>103.62</td>\n",
       "      <td>...</td>\n",
       "      <td>24.73</td>\n",
       "      <td>23.94</td>\n",
       "      <td>23.39</td>\n",
       "      <td>22.88</td>\n",
       "      <td>24.39</td>\n",
       "      <td>24.50</td>\n",
       "      <td>24.68</td>\n",
       "      <td>24.59</td>\n",
       "      <td>24.61</td>\n",
       "      <td>POINT (-16.67500 12.37500)</td>\n",
       "    </tr>\n",
       "    <tr>\n",
       "      <th>3</th>\n",
       "      <td>-16.625000</td>\n",
       "      <td>12.374998</td>\n",
       "      <td>69.72</td>\n",
       "      <td>69.72</td>\n",
       "      <td>79.67</td>\n",
       "      <td>84.36</td>\n",
       "      <td>87.63</td>\n",
       "      <td>90.52</td>\n",
       "      <td>99.20</td>\n",
       "      <td>106.98</td>\n",
       "      <td>...</td>\n",
       "      <td>23.34</td>\n",
       "      <td>22.56</td>\n",
       "      <td>22.04</td>\n",
       "      <td>21.56</td>\n",
       "      <td>22.90</td>\n",
       "      <td>23.08</td>\n",
       "      <td>23.28</td>\n",
       "      <td>23.23</td>\n",
       "      <td>23.27</td>\n",
       "      <td>POINT (-16.62500 12.37500)</td>\n",
       "    </tr>\n",
       "    <tr>\n",
       "      <th>4</th>\n",
       "      <td>-16.575000</td>\n",
       "      <td>12.374998</td>\n",
       "      <td>141.75</td>\n",
       "      <td>141.75</td>\n",
       "      <td>167.29</td>\n",
       "      <td>163.88</td>\n",
       "      <td>164.96</td>\n",
       "      <td>181.22</td>\n",
       "      <td>177.45</td>\n",
       "      <td>184.56</td>\n",
       "      <td>...</td>\n",
       "      <td>21.76</td>\n",
       "      <td>20.98</td>\n",
       "      <td>20.49</td>\n",
       "      <td>20.06</td>\n",
       "      <td>21.12</td>\n",
       "      <td>21.40</td>\n",
       "      <td>21.65</td>\n",
       "      <td>21.66</td>\n",
       "      <td>21.73</td>\n",
       "      <td>POINT (-16.57500 12.37500)</td>\n",
       "    </tr>\n",
       "    <tr>\n",
       "      <th>...</th>\n",
       "      <td>...</td>\n",
       "      <td>...</td>\n",
       "      <td>...</td>\n",
       "      <td>...</td>\n",
       "      <td>...</td>\n",
       "      <td>...</td>\n",
       "      <td>...</td>\n",
       "      <td>...</td>\n",
       "      <td>...</td>\n",
       "      <td>...</td>\n",
       "      <td>...</td>\n",
       "      <td>...</td>\n",
       "      <td>...</td>\n",
       "      <td>...</td>\n",
       "      <td>...</td>\n",
       "      <td>...</td>\n",
       "      <td>...</td>\n",
       "      <td>...</td>\n",
       "      <td>...</td>\n",
       "      <td>...</td>\n",
       "      <td>...</td>\n",
       "    </tr>\n",
       "    <tr>\n",
       "      <th>6568</th>\n",
       "      <td>-14.625001</td>\n",
       "      <td>16.624998</td>\n",
       "      <td>9.98</td>\n",
       "      <td>9.98</td>\n",
       "      <td>3.10</td>\n",
       "      <td>2.71</td>\n",
       "      <td>2.18</td>\n",
       "      <td>1.74</td>\n",
       "      <td>1.26</td>\n",
       "      <td>1.03</td>\n",
       "      <td>...</td>\n",
       "      <td>21.29</td>\n",
       "      <td>20.35</td>\n",
       "      <td>20.01</td>\n",
       "      <td>19.41</td>\n",
       "      <td>20.77</td>\n",
       "      <td>21.53</td>\n",
       "      <td>21.81</td>\n",
       "      <td>22.61</td>\n",
       "      <td>23.02</td>\n",
       "      <td>POINT (-14.62500 16.62500)</td>\n",
       "    </tr>\n",
       "    <tr>\n",
       "      <th>6569</th>\n",
       "      <td>-14.525001</td>\n",
       "      <td>16.624998</td>\n",
       "      <td>5.89</td>\n",
       "      <td>5.89</td>\n",
       "      <td>1.93</td>\n",
       "      <td>1.65</td>\n",
       "      <td>1.19</td>\n",
       "      <td>1.18</td>\n",
       "      <td>0.63</td>\n",
       "      <td>0.44</td>\n",
       "      <td>...</td>\n",
       "      <td>21.28</td>\n",
       "      <td>20.31</td>\n",
       "      <td>19.99</td>\n",
       "      <td>19.38</td>\n",
       "      <td>20.78</td>\n",
       "      <td>21.54</td>\n",
       "      <td>21.82</td>\n",
       "      <td>22.64</td>\n",
       "      <td>23.07</td>\n",
       "      <td>POINT (-14.52500 16.62500)</td>\n",
       "    </tr>\n",
       "    <tr>\n",
       "      <th>6571</th>\n",
       "      <td>-14.425001</td>\n",
       "      <td>16.624998</td>\n",
       "      <td>17.92</td>\n",
       "      <td>17.92</td>\n",
       "      <td>4.39</td>\n",
       "      <td>3.96</td>\n",
       "      <td>3.18</td>\n",
       "      <td>2.62</td>\n",
       "      <td>1.75</td>\n",
       "      <td>1.48</td>\n",
       "      <td>...</td>\n",
       "      <td>21.29</td>\n",
       "      <td>20.30</td>\n",
       "      <td>19.99</td>\n",
       "      <td>19.37</td>\n",
       "      <td>20.92</td>\n",
       "      <td>21.68</td>\n",
       "      <td>22.00</td>\n",
       "      <td>22.84</td>\n",
       "      <td>23.28</td>\n",
       "      <td>POINT (-14.42500 16.62500)</td>\n",
       "    </tr>\n",
       "    <tr>\n",
       "      <th>6572</th>\n",
       "      <td>-14.375001</td>\n",
       "      <td>16.624998</td>\n",
       "      <td>3.64</td>\n",
       "      <td>3.64</td>\n",
       "      <td>2.24</td>\n",
       "      <td>1.87</td>\n",
       "      <td>1.49</td>\n",
       "      <td>1.47</td>\n",
       "      <td>1.21</td>\n",
       "      <td>0.88</td>\n",
       "      <td>...</td>\n",
       "      <td>21.28</td>\n",
       "      <td>20.28</td>\n",
       "      <td>19.98</td>\n",
       "      <td>19.35</td>\n",
       "      <td>20.92</td>\n",
       "      <td>21.67</td>\n",
       "      <td>21.99</td>\n",
       "      <td>22.84</td>\n",
       "      <td>23.30</td>\n",
       "      <td>POINT (-14.37500 16.62500)</td>\n",
       "    </tr>\n",
       "    <tr>\n",
       "      <th>6573</th>\n",
       "      <td>-14.975001</td>\n",
       "      <td>16.674998</td>\n",
       "      <td>7.70</td>\n",
       "      <td>7.70</td>\n",
       "      <td>5.46</td>\n",
       "      <td>5.04</td>\n",
       "      <td>4.76</td>\n",
       "      <td>4.87</td>\n",
       "      <td>3.68</td>\n",
       "      <td>3.28</td>\n",
       "      <td>...</td>\n",
       "      <td>21.17</td>\n",
       "      <td>20.26</td>\n",
       "      <td>19.94</td>\n",
       "      <td>19.37</td>\n",
       "      <td>20.56</td>\n",
       "      <td>21.31</td>\n",
       "      <td>21.59</td>\n",
       "      <td>22.31</td>\n",
       "      <td>22.64</td>\n",
       "      <td>POINT (-14.97500 16.67500)</td>\n",
       "    </tr>\n",
       "  </tbody>\n",
       "</table>\n",
       "<p>6553 rows × 187 columns</p>\n",
       "</div>"
      ],
      "text/plain": [
       "      Longitude   Latitude  ET_senegal_corr_0  ET_senegal_corr_1  \\\n",
       "0    -12.325001  12.324998               7.32               7.32   \n",
       "1    -16.725000  12.374998               0.00               0.00   \n",
       "2    -16.675000  12.374998              28.74              28.74   \n",
       "3    -16.625000  12.374998              69.72              69.72   \n",
       "4    -16.575000  12.374998             141.75             141.75   \n",
       "...         ...        ...                ...                ...   \n",
       "6568 -14.625001  16.624998               9.98               9.98   \n",
       "6569 -14.525001  16.624998               5.89               5.89   \n",
       "6571 -14.425001  16.624998              17.92              17.92   \n",
       "6572 -14.375001  16.624998               3.64               3.64   \n",
       "6573 -14.975001  16.674998               7.70               7.70   \n",
       "\n",
       "      ET_senegal_corr_10  ET_senegal_corr_11  ET_senegal_corr_12  \\\n",
       "0                   0.63                0.81                0.79   \n",
       "1                   0.00                0.00                0.00   \n",
       "2                  49.49               74.46               89.56   \n",
       "3                  79.67               84.36               87.63   \n",
       "4                 167.29              163.88              164.96   \n",
       "...                  ...                 ...                 ...   \n",
       "6568                3.10                2.71                2.18   \n",
       "6569                1.93                1.65                1.19   \n",
       "6571                4.39                3.96                3.18   \n",
       "6572                2.24                1.87                1.49   \n",
       "6573                5.46                5.04                4.76   \n",
       "\n",
       "      ET_senegal_corr_13  ET_senegal_corr_14  ET_senegal_corr_15  ...  \\\n",
       "0                   1.25                2.16                3.06  ...   \n",
       "1                   0.00                0.00                0.00  ...   \n",
       "2                 100.76              104.33              103.62  ...   \n",
       "3                  90.52               99.20              106.98  ...   \n",
       "4                 181.22              177.45              184.56  ...   \n",
       "...                  ...                 ...                 ...  ...   \n",
       "6568                1.74                1.26                1.03  ...   \n",
       "6569                1.18                0.63                0.44  ...   \n",
       "6571                2.62                1.75                1.48  ...   \n",
       "6572                1.47                1.21                0.88  ...   \n",
       "6573                4.87                3.68                3.28  ...   \n",
       "\n",
       "      tmin_senegal_42  tmin_senegal_43  tmin_senegal_44  tmin_senegal_45  \\\n",
       "0               18.47            18.05            17.78            17.42   \n",
       "1               25.60            24.82            24.24            23.70   \n",
       "2               24.73            23.94            23.39            22.88   \n",
       "3               23.34            22.56            22.04            21.56   \n",
       "4               21.76            20.98            20.49            20.06   \n",
       "...               ...              ...              ...              ...   \n",
       "6568            21.29            20.35            20.01            19.41   \n",
       "6569            21.28            20.31            19.99            19.38   \n",
       "6571            21.29            20.30            19.99            19.37   \n",
       "6572            21.28            20.28            19.98            19.35   \n",
       "6573            21.17            20.26            19.94            19.37   \n",
       "\n",
       "      tmin_senegal_5  tmin_senegal_6  tmin_senegal_7  tmin_senegal_8  \\\n",
       "0              20.11           21.36           22.08           23.08   \n",
       "1              25.24           25.30           25.42           25.29   \n",
       "2              24.39           24.50           24.68           24.59   \n",
       "3              22.90           23.08           23.28           23.23   \n",
       "4              21.12           21.40           21.65           21.66   \n",
       "...              ...             ...             ...             ...   \n",
       "6568           20.77           21.53           21.81           22.61   \n",
       "6569           20.78           21.54           21.82           22.64   \n",
       "6571           20.92           21.68           22.00           22.84   \n",
       "6572           20.92           21.67           21.99           22.84   \n",
       "6573           20.56           21.31           21.59           22.31   \n",
       "\n",
       "      tmin_senegal_9                    geometry  \n",
       "0              23.65  POINT (-12.32500 12.32500)  \n",
       "1              25.29  POINT (-16.72500 12.37500)  \n",
       "2              24.61  POINT (-16.67500 12.37500)  \n",
       "3              23.27  POINT (-16.62500 12.37500)  \n",
       "4              21.73  POINT (-16.57500 12.37500)  \n",
       "...              ...                         ...  \n",
       "6568           23.02  POINT (-14.62500 16.62500)  \n",
       "6569           23.07  POINT (-14.52500 16.62500)  \n",
       "6571           23.28  POINT (-14.42500 16.62500)  \n",
       "6572           23.30  POINT (-14.37500 16.62500)  \n",
       "6573           22.64  POINT (-14.97500 16.67500)  \n",
       "\n",
       "[6553 rows x 187 columns]"
      ]
     },
     "execution_count": 90,
     "metadata": {},
     "output_type": "execute_result"
    }
   ],
   "source": [
    "extract_point_data_from_rasters(point_layer, geotiff_list, outfile)"
   ]
  },
  {
   "cell_type": "markdown",
   "id": "edd2f669-ee34-42cc-8c23-3488e82c3717",
   "metadata": {},
   "source": [
    "# Land Capability "
   ]
  },
  {
   "cell_type": "code",
   "execution_count": null,
   "id": "68a39cc8-5960-40f5-a10e-c28e0944fcaf",
   "metadata": {},
   "outputs": [],
   "source": []
  },
  {
   "cell_type": "code",
   "execution_count": 91,
   "id": "7137ecf5-0110-4f5a-930b-ef4e256ff900",
   "metadata": {},
   "outputs": [],
   "source": [
    "geotiff_list = glob.glob('./data/LandCapability/resampled/*.tif')"
   ]
  },
  {
   "cell_type": "code",
   "execution_count": 92,
   "id": "d33802f5-91bd-45ed-966b-f5dba7926053",
   "metadata": {
    "collapsed": true,
    "jupyter": {
     "outputs_hidden": true
    },
    "tags": []
   },
   "outputs": [
    {
     "data": {
      "text/plain": [
       "['./data/LandCapability/resampled\\\\corr_Senegal_bdod_0-5cm_mean_clipped.tif',\n",
       " './data/LandCapability/resampled\\\\corr_Senegal_bdod_100-200cm_mean_clipped.tif',\n",
       " './data/LandCapability/resampled\\\\corr_Senegal_bdod_15-30cm_mean_clipped.tif',\n",
       " './data/LandCapability/resampled\\\\corr_Senegal_bdod_30-60cm_mean_clipped.tif',\n",
       " './data/LandCapability/resampled\\\\corr_Senegal_bdod_5-15cm_mean_clipped.tif',\n",
       " './data/LandCapability/resampled\\\\corr_Senegal_bdod_60-100cm_mean_clipped.tif',\n",
       " './data/LandCapability/resampled\\\\corr_Senegal_cec_0-5cm_mean_clipped.tif',\n",
       " './data/LandCapability/resampled\\\\corr_Senegal_cec_100-200cm_mean_clipped.tif',\n",
       " './data/LandCapability/resampled\\\\corr_Senegal_cec_15-30cm_mean_clipped.tif',\n",
       " './data/LandCapability/resampled\\\\corr_Senegal_cec_30-60cm_mean_clipped.tif',\n",
       " './data/LandCapability/resampled\\\\corr_Senegal_cec_5-15cm_mean_clipped.tif',\n",
       " './data/LandCapability/resampled\\\\corr_Senegal_cec_60-100cm_mean_clipped.tif',\n",
       " './data/LandCapability/resampled\\\\corr_Senegal_cfvo_0-5cm_mean_clipped.tif',\n",
       " './data/LandCapability/resampled\\\\corr_Senegal_cfvo_100-200cm_mean_clipped.tif',\n",
       " './data/LandCapability/resampled\\\\corr_Senegal_cfvo_15-30cm_mean_clipped.tif',\n",
       " './data/LandCapability/resampled\\\\corr_Senegal_cfvo_30-60cm_mean_clipped.tif',\n",
       " './data/LandCapability/resampled\\\\corr_Senegal_cfvo_5-15cm_mean_clipped.tif',\n",
       " './data/LandCapability/resampled\\\\corr_Senegal_cfvo_60-100cm_mean_clipped.tif',\n",
       " './data/LandCapability/resampled\\\\corr_Senegal_clay_0-5cm_mean_clipped.tif',\n",
       " './data/LandCapability/resampled\\\\corr_Senegal_clay_100-200cm_mean_clipped.tif',\n",
       " './data/LandCapability/resampled\\\\corr_Senegal_clay_15-30cm_mean_clipped.tif',\n",
       " './data/LandCapability/resampled\\\\corr_Senegal_clay_30-60cm_mean_clipped.tif',\n",
       " './data/LandCapability/resampled\\\\corr_Senegal_clay_5-15cm_mean_clipped.tif',\n",
       " './data/LandCapability/resampled\\\\corr_Senegal_clay_60-100cm_mean_clipped.tif',\n",
       " './data/LandCapability/resampled\\\\corr_Senegal_nitrogen_0-5cm_mean_clipped.tif',\n",
       " './data/LandCapability/resampled\\\\corr_Senegal_nitrogen_100-200cm_mean_clipped.tif',\n",
       " './data/LandCapability/resampled\\\\corr_Senegal_nitrogen_15-30cm_mean_clipped.tif',\n",
       " './data/LandCapability/resampled\\\\corr_Senegal_nitrogen_30-60cm_mean_clipped.tif',\n",
       " './data/LandCapability/resampled\\\\corr_Senegal_nitrogen_5-15cm_mean_clipped.tif',\n",
       " './data/LandCapability/resampled\\\\corr_Senegal_nitrogen_60-100cm_mean_clipped.tif',\n",
       " './data/LandCapability/resampled\\\\corr_Senegal_phh2o_0-5cm_mean_clipped.tif',\n",
       " './data/LandCapability/resampled\\\\corr_Senegal_phh2o_100-200cm_mean_clipped.tif',\n",
       " './data/LandCapability/resampled\\\\corr_Senegal_phh2o_15-30cm_mean_clipped.tif',\n",
       " './data/LandCapability/resampled\\\\corr_Senegal_phh2o_30-60cm_mean_clipped.tif',\n",
       " './data/LandCapability/resampled\\\\corr_Senegal_phh2o_5-15cm_mean_clipped.tif',\n",
       " './data/LandCapability/resampled\\\\corr_Senegal_phh2o_60-100cm_mean_clipped.tif',\n",
       " './data/LandCapability/resampled\\\\corr_Senegal_sand_0-5cm_mean_clipped.tif',\n",
       " './data/LandCapability/resampled\\\\corr_Senegal_sand_100-200cm_mean_clipped.tif',\n",
       " './data/LandCapability/resampled\\\\corr_Senegal_sand_15-30cm_mean_clipped.tif',\n",
       " './data/LandCapability/resampled\\\\corr_Senegal_sand_30-60cm_mean_clipped.tif',\n",
       " './data/LandCapability/resampled\\\\corr_Senegal_sand_5-15cm_mean_clipped.tif',\n",
       " './data/LandCapability/resampled\\\\corr_Senegal_sand_60-100cm_mean_clipped.tif',\n",
       " './data/LandCapability/resampled\\\\corr_Senegal_silt_0-5cm_mean_clipped.tif',\n",
       " './data/LandCapability/resampled\\\\corr_Senegal_silt_100-200cm_mean_clipped.tif',\n",
       " './data/LandCapability/resampled\\\\corr_Senegal_silt_15-30cm_mean_clipped.tif',\n",
       " './data/LandCapability/resampled\\\\corr_Senegal_silt_30-60cm_mean_clipped.tif',\n",
       " './data/LandCapability/resampled\\\\corr_Senegal_silt_5-15cm_mean_clipped.tif',\n",
       " './data/LandCapability/resampled\\\\corr_Senegal_silt_60-100cm_mean_clipped.tif',\n",
       " './data/LandCapability/resampled\\\\corr_Senegal_soc_0-5cm_mean_clipped.tif',\n",
       " './data/LandCapability/resampled\\\\corr_Senegal_soc_100-200cm_mean_clipped.tif',\n",
       " './data/LandCapability/resampled\\\\corr_Senegal_soc_15-30cm_mean_clipped.tif',\n",
       " './data/LandCapability/resampled\\\\corr_Senegal_soc_30-60cm_mean_clipped.tif',\n",
       " './data/LandCapability/resampled\\\\corr_Senegal_soc_5-15cm_mean_clipped.tif',\n",
       " './data/LandCapability/resampled\\\\corr_Senegal_soc_60-100cm_mean_clipped.tif']"
      ]
     },
     "execution_count": 92,
     "metadata": {},
     "output_type": "execute_result"
    }
   ],
   "source": [
    "geotiff_list"
   ]
  },
  {
   "cell_type": "code",
   "execution_count": 93,
   "id": "56e18639-9b74-436c-bfc6-c1b4f6a265cd",
   "metadata": {},
   "outputs": [],
   "source": [
    "outfile = r'C:\\Users\\carli\\OneDrive\\Documentos\\Proyectos_de_desarrollo_de_software\\Soil_climate_characterization\\data/Land_capability_layers.geojson'"
   ]
  },
  {
   "cell_type": "code",
   "execution_count": 94,
   "id": "7282a69d-2328-4021-84c2-c1a426c711f7",
   "metadata": {},
   "outputs": [
    {
     "name": "stderr",
     "output_type": "stream",
     "text": [
      "C:\\Users\\carli\\anaconda3\\envs\\senegal\\lib\\site-packages\\pyproj\\crs\\crs.py:131: FutureWarning: '+init=<authority>:<code>' syntax is deprecated. '<authority>:<code>' is the preferred initialization method. When making the change, be mindful of axis order changes: https://pyproj4.github.io/pyproj/stable/gotchas.html#axis-order-changes-in-proj-6\n",
      "  in_crs_string = _prepare_from_proj_string(in_crs_string)\n"
     ]
    },
    {
     "ename": "UnicodeDecodeError",
     "evalue": "'utf-8' codec can't decode byte 0xf3 in position 105: invalid continuation byte",
     "output_type": "error",
     "traceback": [
      "\u001b[1;31m---------------------------------------------------------------------------\u001b[0m",
      "\u001b[1;31mUnicodeDecodeError\u001b[0m                        Traceback (most recent call last)",
      "\u001b[1;31mUnicodeDecodeError\u001b[0m: 'utf-8' codec can't decode byte 0xf3 in position 105: invalid continuation byte"
     ]
    },
    {
     "name": "stderr",
     "output_type": "stream",
     "text": [
      "Exception ignored in: 'fiona._env.log_error'\n",
      "UnicodeDecodeError: 'utf-8' codec can't decode byte 0xf3 in position 105: invalid continuation byte\n"
     ]
    },
    {
     "ename": "UnicodeDecodeError",
     "evalue": "'utf-8' codec can't decode byte 0xf3 in position 105: invalid continuation byte",
     "output_type": "error",
     "traceback": [
      "\u001b[1;31m---------------------------------------------------------------------------\u001b[0m",
      "\u001b[1;31mUnicodeDecodeError\u001b[0m                        Traceback (most recent call last)",
      "\u001b[1;31mUnicodeDecodeError\u001b[0m: 'utf-8' codec can't decode byte 0xf3 in position 105: invalid continuation byte"
     ]
    },
    {
     "name": "stderr",
     "output_type": "stream",
     "text": [
      "Exception ignored in: 'fiona._env.log_error'\n",
      "UnicodeDecodeError: 'utf-8' codec can't decode byte 0xf3 in position 105: invalid continuation byte\n"
     ]
    },
    {
     "ename": "UnicodeDecodeError",
     "evalue": "'utf-8' codec can't decode byte 0xf3 in position 110: invalid continuation byte",
     "output_type": "error",
     "traceback": [
      "\u001b[1;31m---------------------------------------------------------------------------\u001b[0m",
      "\u001b[1;31mUnicodeDecodeError\u001b[0m                        Traceback (most recent call last)",
      "\u001b[1;31mUnicodeDecodeError\u001b[0m: 'utf-8' codec can't decode byte 0xf3 in position 110: invalid continuation byte"
     ]
    },
    {
     "name": "stderr",
     "output_type": "stream",
     "text": [
      "Exception ignored in: 'fiona._env.log_error'\n",
      "UnicodeDecodeError: 'utf-8' codec can't decode byte 0xf3 in position 110: invalid continuation byte\n"
     ]
    },
    {
     "ename": "UnicodeDecodeError",
     "evalue": "'utf-8' codec can't decode byte 0xf3 in position 110: invalid continuation byte",
     "output_type": "error",
     "traceback": [
      "\u001b[1;31m---------------------------------------------------------------------------\u001b[0m",
      "\u001b[1;31mUnicodeDecodeError\u001b[0m                        Traceback (most recent call last)",
      "\u001b[1;31mUnicodeDecodeError\u001b[0m: 'utf-8' codec can't decode byte 0xf3 in position 110: invalid continuation byte"
     ]
    },
    {
     "name": "stderr",
     "output_type": "stream",
     "text": [
      "Exception ignored in: 'fiona._env.log_error'\n",
      "UnicodeDecodeError: 'utf-8' codec can't decode byte 0xf3 in position 110: invalid continuation byte\n"
     ]
    },
    {
     "ename": "UnicodeDecodeError",
     "evalue": "'utf-8' codec can't decode byte 0xf3 in position 101: invalid continuation byte",
     "output_type": "error",
     "traceback": [
      "\u001b[1;31m---------------------------------------------------------------------------\u001b[0m",
      "\u001b[1;31mUnicodeDecodeError\u001b[0m                        Traceback (most recent call last)",
      "\u001b[1;31mUnicodeDecodeError\u001b[0m: 'utf-8' codec can't decode byte 0xf3 in position 101: invalid continuation byte"
     ]
    },
    {
     "name": "stderr",
     "output_type": "stream",
     "text": [
      "Exception ignored in: 'fiona._env.log_error'\n",
      "UnicodeDecodeError: 'utf-8' codec can't decode byte 0xf3 in position 101: invalid continuation byte\n"
     ]
    },
    {
     "ename": "UnicodeDecodeError",
     "evalue": "'utf-8' codec can't decode byte 0xf3 in position 101: invalid continuation byte",
     "output_type": "error",
     "traceback": [
      "\u001b[1;31m---------------------------------------------------------------------------\u001b[0m",
      "\u001b[1;31mUnicodeDecodeError\u001b[0m                        Traceback (most recent call last)",
      "\u001b[1;31mUnicodeDecodeError\u001b[0m: 'utf-8' codec can't decode byte 0xf3 in position 101: invalid continuation byte"
     ]
    },
    {
     "name": "stderr",
     "output_type": "stream",
     "text": [
      "Exception ignored in: 'fiona._env.log_error'\n",
      "UnicodeDecodeError: 'utf-8' codec can't decode byte 0xf3 in position 101: invalid continuation byte\n"
     ]
    },
    {
     "ename": "UnicodeDecodeError",
     "evalue": "'utf-8' codec can't decode byte 0xf3 in position 100: invalid continuation byte",
     "output_type": "error",
     "traceback": [
      "\u001b[1;31m---------------------------------------------------------------------------\u001b[0m",
      "\u001b[1;31mUnicodeDecodeError\u001b[0m                        Traceback (most recent call last)",
      "\u001b[1;31mUnicodeDecodeError\u001b[0m: 'utf-8' codec can't decode byte 0xf3 in position 100: invalid continuation byte"
     ]
    },
    {
     "name": "stderr",
     "output_type": "stream",
     "text": [
      "Exception ignored in: 'fiona._env.log_error'\n",
      "UnicodeDecodeError: 'utf-8' codec can't decode byte 0xf3 in position 100: invalid continuation byte\n"
     ]
    },
    {
     "ename": "UnicodeDecodeError",
     "evalue": "'utf-8' codec can't decode byte 0xf3 in position 100: invalid continuation byte",
     "output_type": "error",
     "traceback": [
      "\u001b[1;31m---------------------------------------------------------------------------\u001b[0m",
      "\u001b[1;31mUnicodeDecodeError\u001b[0m                        Traceback (most recent call last)",
      "\u001b[1;31mUnicodeDecodeError\u001b[0m: 'utf-8' codec can't decode byte 0xf3 in position 100: invalid continuation byte"
     ]
    },
    {
     "name": "stderr",
     "output_type": "stream",
     "text": [
      "Exception ignored in: 'fiona._env.log_error'\n",
      "UnicodeDecodeError: 'utf-8' codec can't decode byte 0xf3 in position 100: invalid continuation byte\n"
     ]
    },
    {
     "ename": "UnicodeDecodeError",
     "evalue": "'utf-8' codec can't decode byte 0xf3 in position 105: invalid continuation byte",
     "output_type": "error",
     "traceback": [
      "\u001b[1;31m---------------------------------------------------------------------------\u001b[0m",
      "\u001b[1;31mUnicodeDecodeError\u001b[0m                        Traceback (most recent call last)",
      "\u001b[1;31mUnicodeDecodeError\u001b[0m: 'utf-8' codec can't decode byte 0xf3 in position 105: invalid continuation byte"
     ]
    },
    {
     "name": "stderr",
     "output_type": "stream",
     "text": [
      "Exception ignored in: 'fiona._env.log_error'\n",
      "UnicodeDecodeError: 'utf-8' codec can't decode byte 0xf3 in position 105: invalid continuation byte\n"
     ]
    },
    {
     "ename": "UnicodeDecodeError",
     "evalue": "'utf-8' codec can't decode byte 0xf3 in position 105: invalid continuation byte",
     "output_type": "error",
     "traceback": [
      "\u001b[1;31m---------------------------------------------------------------------------\u001b[0m",
      "\u001b[1;31mUnicodeDecodeError\u001b[0m                        Traceback (most recent call last)",
      "\u001b[1;31mUnicodeDecodeError\u001b[0m: 'utf-8' codec can't decode byte 0xf3 in position 105: invalid continuation byte"
     ]
    },
    {
     "name": "stderr",
     "output_type": "stream",
     "text": [
      "Exception ignored in: 'fiona._env.log_error'\n",
      "UnicodeDecodeError: 'utf-8' codec can't decode byte 0xf3 in position 105: invalid continuation byte\n"
     ]
    },
    {
     "ename": "UnicodeDecodeError",
     "evalue": "'utf-8' codec can't decode byte 0xf3 in position 110: invalid continuation byte",
     "output_type": "error",
     "traceback": [
      "\u001b[1;31m---------------------------------------------------------------------------\u001b[0m",
      "\u001b[1;31mUnicodeDecodeError\u001b[0m                        Traceback (most recent call last)",
      "\u001b[1;31mUnicodeDecodeError\u001b[0m: 'utf-8' codec can't decode byte 0xf3 in position 110: invalid continuation byte"
     ]
    },
    {
     "name": "stderr",
     "output_type": "stream",
     "text": [
      "Exception ignored in: 'fiona._env.log_error'\n",
      "UnicodeDecodeError: 'utf-8' codec can't decode byte 0xf3 in position 110: invalid continuation byte\n"
     ]
    },
    {
     "ename": "UnicodeDecodeError",
     "evalue": "'utf-8' codec can't decode byte 0xf3 in position 110: invalid continuation byte",
     "output_type": "error",
     "traceback": [
      "\u001b[1;31m---------------------------------------------------------------------------\u001b[0m",
      "\u001b[1;31mUnicodeDecodeError\u001b[0m                        Traceback (most recent call last)",
      "\u001b[1;31mUnicodeDecodeError\u001b[0m: 'utf-8' codec can't decode byte 0xf3 in position 110: invalid continuation byte"
     ]
    },
    {
     "name": "stderr",
     "output_type": "stream",
     "text": [
      "Exception ignored in: 'fiona._env.log_error'\n",
      "UnicodeDecodeError: 'utf-8' codec can't decode byte 0xf3 in position 110: invalid continuation byte\n"
     ]
    },
    {
     "ename": "UnicodeDecodeError",
     "evalue": "'utf-8' codec can't decode byte 0xf3 in position 101: invalid continuation byte",
     "output_type": "error",
     "traceback": [
      "\u001b[1;31m---------------------------------------------------------------------------\u001b[0m",
      "\u001b[1;31mUnicodeDecodeError\u001b[0m                        Traceback (most recent call last)",
      "\u001b[1;31mUnicodeDecodeError\u001b[0m: 'utf-8' codec can't decode byte 0xf3 in position 101: invalid continuation byte"
     ]
    },
    {
     "name": "stderr",
     "output_type": "stream",
     "text": [
      "Exception ignored in: 'fiona._env.log_error'\n",
      "UnicodeDecodeError: 'utf-8' codec can't decode byte 0xf3 in position 101: invalid continuation byte\n"
     ]
    },
    {
     "ename": "UnicodeDecodeError",
     "evalue": "'utf-8' codec can't decode byte 0xf3 in position 101: invalid continuation byte",
     "output_type": "error",
     "traceback": [
      "\u001b[1;31m---------------------------------------------------------------------------\u001b[0m",
      "\u001b[1;31mUnicodeDecodeError\u001b[0m                        Traceback (most recent call last)",
      "\u001b[1;31mUnicodeDecodeError\u001b[0m: 'utf-8' codec can't decode byte 0xf3 in position 101: invalid continuation byte"
     ]
    },
    {
     "name": "stderr",
     "output_type": "stream",
     "text": [
      "Exception ignored in: 'fiona._env.log_error'\n",
      "UnicodeDecodeError: 'utf-8' codec can't decode byte 0xf3 in position 101: invalid continuation byte\n"
     ]
    },
    {
     "ename": "UnicodeDecodeError",
     "evalue": "'utf-8' codec can't decode byte 0xf3 in position 100: invalid continuation byte",
     "output_type": "error",
     "traceback": [
      "\u001b[1;31m---------------------------------------------------------------------------\u001b[0m",
      "\u001b[1;31mUnicodeDecodeError\u001b[0m                        Traceback (most recent call last)",
      "\u001b[1;31mUnicodeDecodeError\u001b[0m: 'utf-8' codec can't decode byte 0xf3 in position 100: invalid continuation byte"
     ]
    },
    {
     "name": "stderr",
     "output_type": "stream",
     "text": [
      "Exception ignored in: 'fiona._env.log_error'\n",
      "UnicodeDecodeError: 'utf-8' codec can't decode byte 0xf3 in position 100: invalid continuation byte\n"
     ]
    },
    {
     "ename": "UnicodeDecodeError",
     "evalue": "'utf-8' codec can't decode byte 0xf3 in position 100: invalid continuation byte",
     "output_type": "error",
     "traceback": [
      "\u001b[1;31m---------------------------------------------------------------------------\u001b[0m",
      "\u001b[1;31mUnicodeDecodeError\u001b[0m                        Traceback (most recent call last)",
      "\u001b[1;31mUnicodeDecodeError\u001b[0m: 'utf-8' codec can't decode byte 0xf3 in position 100: invalid continuation byte"
     ]
    },
    {
     "name": "stderr",
     "output_type": "stream",
     "text": [
      "Exception ignored in: 'fiona._env.log_error'\n",
      "UnicodeDecodeError: 'utf-8' codec can't decode byte 0xf3 in position 100: invalid continuation byte\n"
     ]
    },
    {
     "ename": "UnicodeDecodeError",
     "evalue": "'utf-8' codec can't decode byte 0xf3 in position 105: invalid continuation byte",
     "output_type": "error",
     "traceback": [
      "\u001b[1;31m---------------------------------------------------------------------------\u001b[0m",
      "\u001b[1;31mUnicodeDecodeError\u001b[0m                        Traceback (most recent call last)",
      "\u001b[1;31mUnicodeDecodeError\u001b[0m: 'utf-8' codec can't decode byte 0xf3 in position 105: invalid continuation byte"
     ]
    },
    {
     "name": "stderr",
     "output_type": "stream",
     "text": [
      "Exception ignored in: 'fiona._env.log_error'\n",
      "UnicodeDecodeError: 'utf-8' codec can't decode byte 0xf3 in position 105: invalid continuation byte\n"
     ]
    },
    {
     "ename": "UnicodeDecodeError",
     "evalue": "'utf-8' codec can't decode byte 0xf3 in position 105: invalid continuation byte",
     "output_type": "error",
     "traceback": [
      "\u001b[1;31m---------------------------------------------------------------------------\u001b[0m",
      "\u001b[1;31mUnicodeDecodeError\u001b[0m                        Traceback (most recent call last)",
      "\u001b[1;31mUnicodeDecodeError\u001b[0m: 'utf-8' codec can't decode byte 0xf3 in position 105: invalid continuation byte"
     ]
    },
    {
     "name": "stderr",
     "output_type": "stream",
     "text": [
      "Exception ignored in: 'fiona._env.log_error'\n",
      "UnicodeDecodeError: 'utf-8' codec can't decode byte 0xf3 in position 105: invalid continuation byte\n"
     ]
    },
    {
     "ename": "UnicodeDecodeError",
     "evalue": "'utf-8' codec can't decode byte 0xf3 in position 110: invalid continuation byte",
     "output_type": "error",
     "traceback": [
      "\u001b[1;31m---------------------------------------------------------------------------\u001b[0m",
      "\u001b[1;31mUnicodeDecodeError\u001b[0m                        Traceback (most recent call last)",
      "\u001b[1;31mUnicodeDecodeError\u001b[0m: 'utf-8' codec can't decode byte 0xf3 in position 110: invalid continuation byte"
     ]
    },
    {
     "name": "stderr",
     "output_type": "stream",
     "text": [
      "Exception ignored in: 'fiona._env.log_error'\n",
      "UnicodeDecodeError: 'utf-8' codec can't decode byte 0xf3 in position 110: invalid continuation byte\n"
     ]
    },
    {
     "ename": "UnicodeDecodeError",
     "evalue": "'utf-8' codec can't decode byte 0xf3 in position 110: invalid continuation byte",
     "output_type": "error",
     "traceback": [
      "\u001b[1;31m---------------------------------------------------------------------------\u001b[0m",
      "\u001b[1;31mUnicodeDecodeError\u001b[0m                        Traceback (most recent call last)",
      "\u001b[1;31mUnicodeDecodeError\u001b[0m: 'utf-8' codec can't decode byte 0xf3 in position 110: invalid continuation byte"
     ]
    },
    {
     "name": "stderr",
     "output_type": "stream",
     "text": [
      "Exception ignored in: 'fiona._env.log_error'\n",
      "UnicodeDecodeError: 'utf-8' codec can't decode byte 0xf3 in position 110: invalid continuation byte\n"
     ]
    },
    {
     "ename": "UnicodeDecodeError",
     "evalue": "'utf-8' codec can't decode byte 0xf3 in position 101: invalid continuation byte",
     "output_type": "error",
     "traceback": [
      "\u001b[1;31m---------------------------------------------------------------------------\u001b[0m",
      "\u001b[1;31mUnicodeDecodeError\u001b[0m                        Traceback (most recent call last)",
      "\u001b[1;31mUnicodeDecodeError\u001b[0m: 'utf-8' codec can't decode byte 0xf3 in position 101: invalid continuation byte"
     ]
    },
    {
     "name": "stderr",
     "output_type": "stream",
     "text": [
      "Exception ignored in: 'fiona._env.log_error'\n",
      "UnicodeDecodeError: 'utf-8' codec can't decode byte 0xf3 in position 101: invalid continuation byte\n"
     ]
    },
    {
     "ename": "UnicodeDecodeError",
     "evalue": "'utf-8' codec can't decode byte 0xf3 in position 101: invalid continuation byte",
     "output_type": "error",
     "traceback": [
      "\u001b[1;31m---------------------------------------------------------------------------\u001b[0m",
      "\u001b[1;31mUnicodeDecodeError\u001b[0m                        Traceback (most recent call last)",
      "\u001b[1;31mUnicodeDecodeError\u001b[0m: 'utf-8' codec can't decode byte 0xf3 in position 101: invalid continuation byte"
     ]
    },
    {
     "name": "stderr",
     "output_type": "stream",
     "text": [
      "Exception ignored in: 'fiona._env.log_error'\n",
      "UnicodeDecodeError: 'utf-8' codec can't decode byte 0xf3 in position 101: invalid continuation byte\n"
     ]
    },
    {
     "ename": "UnicodeDecodeError",
     "evalue": "'utf-8' codec can't decode byte 0xf3 in position 100: invalid continuation byte",
     "output_type": "error",
     "traceback": [
      "\u001b[1;31m---------------------------------------------------------------------------\u001b[0m",
      "\u001b[1;31mUnicodeDecodeError\u001b[0m                        Traceback (most recent call last)",
      "\u001b[1;31mUnicodeDecodeError\u001b[0m: 'utf-8' codec can't decode byte 0xf3 in position 100: invalid continuation byte"
     ]
    },
    {
     "name": "stderr",
     "output_type": "stream",
     "text": [
      "Exception ignored in: 'fiona._env.log_error'\n",
      "UnicodeDecodeError: 'utf-8' codec can't decode byte 0xf3 in position 100: invalid continuation byte\n"
     ]
    },
    {
     "ename": "UnicodeDecodeError",
     "evalue": "'utf-8' codec can't decode byte 0xf3 in position 100: invalid continuation byte",
     "output_type": "error",
     "traceback": [
      "\u001b[1;31m---------------------------------------------------------------------------\u001b[0m",
      "\u001b[1;31mUnicodeDecodeError\u001b[0m                        Traceback (most recent call last)",
      "\u001b[1;31mUnicodeDecodeError\u001b[0m: 'utf-8' codec can't decode byte 0xf3 in position 100: invalid continuation byte"
     ]
    },
    {
     "name": "stderr",
     "output_type": "stream",
     "text": [
      "Exception ignored in: 'fiona._env.log_error'\n",
      "UnicodeDecodeError: 'utf-8' codec can't decode byte 0xf3 in position 100: invalid continuation byte\n"
     ]
    },
    {
     "ename": "UnicodeDecodeError",
     "evalue": "'utf-8' codec can't decode byte 0xf3 in position 105: invalid continuation byte",
     "output_type": "error",
     "traceback": [
      "\u001b[1;31m---------------------------------------------------------------------------\u001b[0m",
      "\u001b[1;31mUnicodeDecodeError\u001b[0m                        Traceback (most recent call last)",
      "\u001b[1;31mUnicodeDecodeError\u001b[0m: 'utf-8' codec can't decode byte 0xf3 in position 105: invalid continuation byte"
     ]
    },
    {
     "name": "stderr",
     "output_type": "stream",
     "text": [
      "Exception ignored in: 'fiona._env.log_error'\n",
      "UnicodeDecodeError: 'utf-8' codec can't decode byte 0xf3 in position 105: invalid continuation byte\n"
     ]
    },
    {
     "ename": "UnicodeDecodeError",
     "evalue": "'utf-8' codec can't decode byte 0xf3 in position 105: invalid continuation byte",
     "output_type": "error",
     "traceback": [
      "\u001b[1;31m---------------------------------------------------------------------------\u001b[0m",
      "\u001b[1;31mUnicodeDecodeError\u001b[0m                        Traceback (most recent call last)",
      "\u001b[1;31mUnicodeDecodeError\u001b[0m: 'utf-8' codec can't decode byte 0xf3 in position 105: invalid continuation byte"
     ]
    },
    {
     "name": "stderr",
     "output_type": "stream",
     "text": [
      "Exception ignored in: 'fiona._env.log_error'\n",
      "UnicodeDecodeError: 'utf-8' codec can't decode byte 0xf3 in position 105: invalid continuation byte\n"
     ]
    },
    {
     "ename": "UnicodeDecodeError",
     "evalue": "'utf-8' codec can't decode byte 0xf3 in position 110: invalid continuation byte",
     "output_type": "error",
     "traceback": [
      "\u001b[1;31m---------------------------------------------------------------------------\u001b[0m",
      "\u001b[1;31mUnicodeDecodeError\u001b[0m                        Traceback (most recent call last)",
      "\u001b[1;31mUnicodeDecodeError\u001b[0m: 'utf-8' codec can't decode byte 0xf3 in position 110: invalid continuation byte"
     ]
    },
    {
     "name": "stderr",
     "output_type": "stream",
     "text": [
      "Exception ignored in: 'fiona._env.log_error'\n",
      "UnicodeDecodeError: 'utf-8' codec can't decode byte 0xf3 in position 110: invalid continuation byte\n"
     ]
    },
    {
     "ename": "UnicodeDecodeError",
     "evalue": "'utf-8' codec can't decode byte 0xf3 in position 110: invalid continuation byte",
     "output_type": "error",
     "traceback": [
      "\u001b[1;31m---------------------------------------------------------------------------\u001b[0m",
      "\u001b[1;31mUnicodeDecodeError\u001b[0m                        Traceback (most recent call last)",
      "\u001b[1;31mUnicodeDecodeError\u001b[0m: 'utf-8' codec can't decode byte 0xf3 in position 110: invalid continuation byte"
     ]
    },
    {
     "name": "stderr",
     "output_type": "stream",
     "text": [
      "Exception ignored in: 'fiona._env.log_error'\n",
      "UnicodeDecodeError: 'utf-8' codec can't decode byte 0xf3 in position 110: invalid continuation byte\n"
     ]
    },
    {
     "ename": "UnicodeDecodeError",
     "evalue": "'utf-8' codec can't decode byte 0xf3 in position 101: invalid continuation byte",
     "output_type": "error",
     "traceback": [
      "\u001b[1;31m---------------------------------------------------------------------------\u001b[0m",
      "\u001b[1;31mUnicodeDecodeError\u001b[0m                        Traceback (most recent call last)",
      "\u001b[1;31mUnicodeDecodeError\u001b[0m: 'utf-8' codec can't decode byte 0xf3 in position 101: invalid continuation byte"
     ]
    },
    {
     "name": "stderr",
     "output_type": "stream",
     "text": [
      "Exception ignored in: 'fiona._env.log_error'\n",
      "UnicodeDecodeError: 'utf-8' codec can't decode byte 0xf3 in position 101: invalid continuation byte\n"
     ]
    },
    {
     "ename": "UnicodeDecodeError",
     "evalue": "'utf-8' codec can't decode byte 0xf3 in position 101: invalid continuation byte",
     "output_type": "error",
     "traceback": [
      "\u001b[1;31m---------------------------------------------------------------------------\u001b[0m",
      "\u001b[1;31mUnicodeDecodeError\u001b[0m                        Traceback (most recent call last)",
      "\u001b[1;31mUnicodeDecodeError\u001b[0m: 'utf-8' codec can't decode byte 0xf3 in position 101: invalid continuation byte"
     ]
    },
    {
     "name": "stderr",
     "output_type": "stream",
     "text": [
      "Exception ignored in: 'fiona._env.log_error'\n",
      "UnicodeDecodeError: 'utf-8' codec can't decode byte 0xf3 in position 101: invalid continuation byte\n"
     ]
    },
    {
     "ename": "UnicodeDecodeError",
     "evalue": "'utf-8' codec can't decode byte 0xf3 in position 100: invalid continuation byte",
     "output_type": "error",
     "traceback": [
      "\u001b[1;31m---------------------------------------------------------------------------\u001b[0m",
      "\u001b[1;31mUnicodeDecodeError\u001b[0m                        Traceback (most recent call last)",
      "\u001b[1;31mUnicodeDecodeError\u001b[0m: 'utf-8' codec can't decode byte 0xf3 in position 100: invalid continuation byte"
     ]
    },
    {
     "name": "stderr",
     "output_type": "stream",
     "text": [
      "Exception ignored in: 'fiona._env.log_error'\n",
      "UnicodeDecodeError: 'utf-8' codec can't decode byte 0xf3 in position 100: invalid continuation byte\n"
     ]
    },
    {
     "ename": "UnicodeDecodeError",
     "evalue": "'utf-8' codec can't decode byte 0xf3 in position 100: invalid continuation byte",
     "output_type": "error",
     "traceback": [
      "\u001b[1;31m---------------------------------------------------------------------------\u001b[0m",
      "\u001b[1;31mUnicodeDecodeError\u001b[0m                        Traceback (most recent call last)",
      "\u001b[1;31mUnicodeDecodeError\u001b[0m: 'utf-8' codec can't decode byte 0xf3 in position 100: invalid continuation byte"
     ]
    },
    {
     "name": "stderr",
     "output_type": "stream",
     "text": [
      "Exception ignored in: 'fiona._env.log_error'\n",
      "UnicodeDecodeError: 'utf-8' codec can't decode byte 0xf3 in position 100: invalid continuation byte\n"
     ]
    },
    {
     "data": {
      "text/html": [
       "<div>\n",
       "<style scoped>\n",
       "    .dataframe tbody tr th:only-of-type {\n",
       "        vertical-align: middle;\n",
       "    }\n",
       "\n",
       "    .dataframe tbody tr th {\n",
       "        vertical-align: top;\n",
       "    }\n",
       "\n",
       "    .dataframe thead th {\n",
       "        text-align: right;\n",
       "    }\n",
       "</style>\n",
       "<table border=\"1\" class=\"dataframe\">\n",
       "  <thead>\n",
       "    <tr style=\"text-align: right;\">\n",
       "      <th></th>\n",
       "      <th>Longitude</th>\n",
       "      <th>Latitude</th>\n",
       "      <th>corr_Senegal_bdod_0-5cm_mean_clipped</th>\n",
       "      <th>corr_Senegal_bdod_100-200cm_mean_clipped</th>\n",
       "      <th>corr_Senegal_bdod_15-30cm_mean_clipped</th>\n",
       "      <th>corr_Senegal_bdod_30-60cm_mean_clipped</th>\n",
       "      <th>corr_Senegal_bdod_5-15cm_mean_clipped</th>\n",
       "      <th>corr_Senegal_bdod_60-100cm_mean_clipped</th>\n",
       "      <th>corr_Senegal_cec_0-5cm_mean_clipped</th>\n",
       "      <th>corr_Senegal_cec_100-200cm_mean_clipped</th>\n",
       "      <th>...</th>\n",
       "      <th>corr_Senegal_silt_30-60cm_mean_clipped</th>\n",
       "      <th>corr_Senegal_silt_5-15cm_mean_clipped</th>\n",
       "      <th>corr_Senegal_silt_60-100cm_mean_clipped</th>\n",
       "      <th>corr_Senegal_soc_0-5cm_mean_clipped</th>\n",
       "      <th>corr_Senegal_soc_100-200cm_mean_clipped</th>\n",
       "      <th>corr_Senegal_soc_15-30cm_mean_clipped</th>\n",
       "      <th>corr_Senegal_soc_30-60cm_mean_clipped</th>\n",
       "      <th>corr_Senegal_soc_5-15cm_mean_clipped</th>\n",
       "      <th>corr_Senegal_soc_60-100cm_mean_clipped</th>\n",
       "      <th>geometry</th>\n",
       "    </tr>\n",
       "  </thead>\n",
       "  <tbody>\n",
       "    <tr>\n",
       "      <th>0</th>\n",
       "      <td>-12.325001</td>\n",
       "      <td>12.324998</td>\n",
       "      <td>0.0</td>\n",
       "      <td>0.0</td>\n",
       "      <td>0.0</td>\n",
       "      <td>0.0</td>\n",
       "      <td>0.0</td>\n",
       "      <td>0.0</td>\n",
       "      <td>0.0</td>\n",
       "      <td>0.0</td>\n",
       "      <td>...</td>\n",
       "      <td>0.0</td>\n",
       "      <td>0.0</td>\n",
       "      <td>0.0</td>\n",
       "      <td>0.0</td>\n",
       "      <td>0.0</td>\n",
       "      <td>0.0</td>\n",
       "      <td>0.0</td>\n",
       "      <td>0.0</td>\n",
       "      <td>0.0</td>\n",
       "      <td>POINT (-12.32500 12.32500)</td>\n",
       "    </tr>\n",
       "    <tr>\n",
       "      <th>1</th>\n",
       "      <td>-16.725000</td>\n",
       "      <td>12.374998</td>\n",
       "      <td>121.0</td>\n",
       "      <td>121.0</td>\n",
       "      <td>124.0</td>\n",
       "      <td>124.0</td>\n",
       "      <td>123.0</td>\n",
       "      <td>120.0</td>\n",
       "      <td>123.0</td>\n",
       "      <td>108.0</td>\n",
       "      <td>...</td>\n",
       "      <td>284.0</td>\n",
       "      <td>285.0</td>\n",
       "      <td>256.0</td>\n",
       "      <td>390.0</td>\n",
       "      <td>0.0</td>\n",
       "      <td>373.0</td>\n",
       "      <td>400.0</td>\n",
       "      <td>307.0</td>\n",
       "      <td>353.0</td>\n",
       "      <td>POINT (-16.72500 12.37500)</td>\n",
       "    </tr>\n",
       "    <tr>\n",
       "      <th>2</th>\n",
       "      <td>-16.675000</td>\n",
       "      <td>12.374998</td>\n",
       "      <td>89.0</td>\n",
       "      <td>95.0</td>\n",
       "      <td>92.0</td>\n",
       "      <td>92.0</td>\n",
       "      <td>90.0</td>\n",
       "      <td>93.0</td>\n",
       "      <td>151.0</td>\n",
       "      <td>126.0</td>\n",
       "      <td>...</td>\n",
       "      <td>292.0</td>\n",
       "      <td>311.0</td>\n",
       "      <td>268.0</td>\n",
       "      <td>485.0</td>\n",
       "      <td>0.0</td>\n",
       "      <td>507.0</td>\n",
       "      <td>540.0</td>\n",
       "      <td>384.0</td>\n",
       "      <td>524.0</td>\n",
       "      <td>POINT (-16.67500 12.37500)</td>\n",
       "    </tr>\n",
       "    <tr>\n",
       "      <th>3</th>\n",
       "      <td>-16.625000</td>\n",
       "      <td>12.374998</td>\n",
       "      <td>93.0</td>\n",
       "      <td>95.0</td>\n",
       "      <td>94.0</td>\n",
       "      <td>94.0</td>\n",
       "      <td>92.0</td>\n",
       "      <td>94.0</td>\n",
       "      <td>141.0</td>\n",
       "      <td>119.0</td>\n",
       "      <td>...</td>\n",
       "      <td>284.0</td>\n",
       "      <td>318.0</td>\n",
       "      <td>265.0</td>\n",
       "      <td>654.0</td>\n",
       "      <td>0.0</td>\n",
       "      <td>467.0</td>\n",
       "      <td>463.0</td>\n",
       "      <td>563.0</td>\n",
       "      <td>421.0</td>\n",
       "      <td>POINT (-16.62500 12.37500)</td>\n",
       "    </tr>\n",
       "    <tr>\n",
       "      <th>4</th>\n",
       "      <td>-16.575000</td>\n",
       "      <td>12.374998</td>\n",
       "      <td>94.0</td>\n",
       "      <td>94.0</td>\n",
       "      <td>97.0</td>\n",
       "      <td>95.0</td>\n",
       "      <td>93.0</td>\n",
       "      <td>93.0</td>\n",
       "      <td>157.0</td>\n",
       "      <td>135.0</td>\n",
       "      <td>...</td>\n",
       "      <td>293.0</td>\n",
       "      <td>309.0</td>\n",
       "      <td>289.0</td>\n",
       "      <td>511.0</td>\n",
       "      <td>0.0</td>\n",
       "      <td>271.0</td>\n",
       "      <td>281.0</td>\n",
       "      <td>416.0</td>\n",
       "      <td>197.0</td>\n",
       "      <td>POINT (-16.57500 12.37500)</td>\n",
       "    </tr>\n",
       "    <tr>\n",
       "      <th>...</th>\n",
       "      <td>...</td>\n",
       "      <td>...</td>\n",
       "      <td>...</td>\n",
       "      <td>...</td>\n",
       "      <td>...</td>\n",
       "      <td>...</td>\n",
       "      <td>...</td>\n",
       "      <td>...</td>\n",
       "      <td>...</td>\n",
       "      <td>...</td>\n",
       "      <td>...</td>\n",
       "      <td>...</td>\n",
       "      <td>...</td>\n",
       "      <td>...</td>\n",
       "      <td>...</td>\n",
       "      <td>...</td>\n",
       "      <td>...</td>\n",
       "      <td>...</td>\n",
       "      <td>...</td>\n",
       "      <td>...</td>\n",
       "      <td>...</td>\n",
       "    </tr>\n",
       "    <tr>\n",
       "      <th>6569</th>\n",
       "      <td>-14.525001</td>\n",
       "      <td>16.624998</td>\n",
       "      <td>142.0</td>\n",
       "      <td>145.0</td>\n",
       "      <td>144.0</td>\n",
       "      <td>144.0</td>\n",
       "      <td>142.0</td>\n",
       "      <td>144.0</td>\n",
       "      <td>93.0</td>\n",
       "      <td>100.0</td>\n",
       "      <td>...</td>\n",
       "      <td>141.0</td>\n",
       "      <td>141.0</td>\n",
       "      <td>143.0</td>\n",
       "      <td>126.0</td>\n",
       "      <td>139.0</td>\n",
       "      <td>160.0</td>\n",
       "      <td>125.0</td>\n",
       "      <td>114.0</td>\n",
       "      <td>137.0</td>\n",
       "      <td>POINT (-14.52500 16.62500)</td>\n",
       "    </tr>\n",
       "    <tr>\n",
       "      <th>6570</th>\n",
       "      <td>-14.475001</td>\n",
       "      <td>16.624998</td>\n",
       "      <td>147.0</td>\n",
       "      <td>147.0</td>\n",
       "      <td>149.0</td>\n",
       "      <td>145.0</td>\n",
       "      <td>148.0</td>\n",
       "      <td>145.0</td>\n",
       "      <td>96.0</td>\n",
       "      <td>108.0</td>\n",
       "      <td>...</td>\n",
       "      <td>187.0</td>\n",
       "      <td>198.0</td>\n",
       "      <td>192.0</td>\n",
       "      <td>138.0</td>\n",
       "      <td>136.0</td>\n",
       "      <td>183.0</td>\n",
       "      <td>113.0</td>\n",
       "      <td>120.0</td>\n",
       "      <td>135.0</td>\n",
       "      <td>POINT (-14.47500 16.62500)</td>\n",
       "    </tr>\n",
       "    <tr>\n",
       "      <th>6571</th>\n",
       "      <td>-14.425001</td>\n",
       "      <td>16.624998</td>\n",
       "      <td>144.0</td>\n",
       "      <td>147.0</td>\n",
       "      <td>143.0</td>\n",
       "      <td>145.0</td>\n",
       "      <td>142.0</td>\n",
       "      <td>146.0</td>\n",
       "      <td>109.0</td>\n",
       "      <td>117.0</td>\n",
       "      <td>...</td>\n",
       "      <td>170.0</td>\n",
       "      <td>174.0</td>\n",
       "      <td>173.0</td>\n",
       "      <td>129.0</td>\n",
       "      <td>141.0</td>\n",
       "      <td>183.0</td>\n",
       "      <td>119.0</td>\n",
       "      <td>121.0</td>\n",
       "      <td>134.0</td>\n",
       "      <td>POINT (-14.42500 16.62500)</td>\n",
       "    </tr>\n",
       "    <tr>\n",
       "      <th>6572</th>\n",
       "      <td>-14.375001</td>\n",
       "      <td>16.624998</td>\n",
       "      <td>144.0</td>\n",
       "      <td>146.0</td>\n",
       "      <td>146.0</td>\n",
       "      <td>144.0</td>\n",
       "      <td>142.0</td>\n",
       "      <td>145.0</td>\n",
       "      <td>86.0</td>\n",
       "      <td>77.0</td>\n",
       "      <td>...</td>\n",
       "      <td>168.0</td>\n",
       "      <td>183.0</td>\n",
       "      <td>163.0</td>\n",
       "      <td>129.0</td>\n",
       "      <td>154.0</td>\n",
       "      <td>149.0</td>\n",
       "      <td>133.0</td>\n",
       "      <td>112.0</td>\n",
       "      <td>151.0</td>\n",
       "      <td>POINT (-14.37500 16.62500)</td>\n",
       "    </tr>\n",
       "    <tr>\n",
       "      <th>6573</th>\n",
       "      <td>-14.975001</td>\n",
       "      <td>16.674998</td>\n",
       "      <td>148.0</td>\n",
       "      <td>149.0</td>\n",
       "      <td>149.0</td>\n",
       "      <td>148.0</td>\n",
       "      <td>149.0</td>\n",
       "      <td>148.0</td>\n",
       "      <td>70.0</td>\n",
       "      <td>68.0</td>\n",
       "      <td>...</td>\n",
       "      <td>150.0</td>\n",
       "      <td>151.0</td>\n",
       "      <td>152.0</td>\n",
       "      <td>73.0</td>\n",
       "      <td>59.0</td>\n",
       "      <td>90.0</td>\n",
       "      <td>35.0</td>\n",
       "      <td>58.0</td>\n",
       "      <td>56.0</td>\n",
       "      <td>POINT (-14.97500 16.67500)</td>\n",
       "    </tr>\n",
       "  </tbody>\n",
       "</table>\n",
       "<p>6574 rows × 57 columns</p>\n",
       "</div>"
      ],
      "text/plain": [
       "      Longitude   Latitude  corr_Senegal_bdod_0-5cm_mean_clipped  \\\n",
       "0    -12.325001  12.324998                                   0.0   \n",
       "1    -16.725000  12.374998                                 121.0   \n",
       "2    -16.675000  12.374998                                  89.0   \n",
       "3    -16.625000  12.374998                                  93.0   \n",
       "4    -16.575000  12.374998                                  94.0   \n",
       "...         ...        ...                                   ...   \n",
       "6569 -14.525001  16.624998                                 142.0   \n",
       "6570 -14.475001  16.624998                                 147.0   \n",
       "6571 -14.425001  16.624998                                 144.0   \n",
       "6572 -14.375001  16.624998                                 144.0   \n",
       "6573 -14.975001  16.674998                                 148.0   \n",
       "\n",
       "      corr_Senegal_bdod_100-200cm_mean_clipped  \\\n",
       "0                                          0.0   \n",
       "1                                        121.0   \n",
       "2                                         95.0   \n",
       "3                                         95.0   \n",
       "4                                         94.0   \n",
       "...                                        ...   \n",
       "6569                                     145.0   \n",
       "6570                                     147.0   \n",
       "6571                                     147.0   \n",
       "6572                                     146.0   \n",
       "6573                                     149.0   \n",
       "\n",
       "      corr_Senegal_bdod_15-30cm_mean_clipped  \\\n",
       "0                                        0.0   \n",
       "1                                      124.0   \n",
       "2                                       92.0   \n",
       "3                                       94.0   \n",
       "4                                       97.0   \n",
       "...                                      ...   \n",
       "6569                                   144.0   \n",
       "6570                                   149.0   \n",
       "6571                                   143.0   \n",
       "6572                                   146.0   \n",
       "6573                                   149.0   \n",
       "\n",
       "      corr_Senegal_bdod_30-60cm_mean_clipped  \\\n",
       "0                                        0.0   \n",
       "1                                      124.0   \n",
       "2                                       92.0   \n",
       "3                                       94.0   \n",
       "4                                       95.0   \n",
       "...                                      ...   \n",
       "6569                                   144.0   \n",
       "6570                                   145.0   \n",
       "6571                                   145.0   \n",
       "6572                                   144.0   \n",
       "6573                                   148.0   \n",
       "\n",
       "      corr_Senegal_bdod_5-15cm_mean_clipped  \\\n",
       "0                                       0.0   \n",
       "1                                     123.0   \n",
       "2                                      90.0   \n",
       "3                                      92.0   \n",
       "4                                      93.0   \n",
       "...                                     ...   \n",
       "6569                                  142.0   \n",
       "6570                                  148.0   \n",
       "6571                                  142.0   \n",
       "6572                                  142.0   \n",
       "6573                                  149.0   \n",
       "\n",
       "      corr_Senegal_bdod_60-100cm_mean_clipped  \\\n",
       "0                                         0.0   \n",
       "1                                       120.0   \n",
       "2                                        93.0   \n",
       "3                                        94.0   \n",
       "4                                        93.0   \n",
       "...                                       ...   \n",
       "6569                                    144.0   \n",
       "6570                                    145.0   \n",
       "6571                                    146.0   \n",
       "6572                                    145.0   \n",
       "6573                                    148.0   \n",
       "\n",
       "      corr_Senegal_cec_0-5cm_mean_clipped  \\\n",
       "0                                     0.0   \n",
       "1                                   123.0   \n",
       "2                                   151.0   \n",
       "3                                   141.0   \n",
       "4                                   157.0   \n",
       "...                                   ...   \n",
       "6569                                 93.0   \n",
       "6570                                 96.0   \n",
       "6571                                109.0   \n",
       "6572                                 86.0   \n",
       "6573                                 70.0   \n",
       "\n",
       "      corr_Senegal_cec_100-200cm_mean_clipped  ...  \\\n",
       "0                                         0.0  ...   \n",
       "1                                       108.0  ...   \n",
       "2                                       126.0  ...   \n",
       "3                                       119.0  ...   \n",
       "4                                       135.0  ...   \n",
       "...                                       ...  ...   \n",
       "6569                                    100.0  ...   \n",
       "6570                                    108.0  ...   \n",
       "6571                                    117.0  ...   \n",
       "6572                                     77.0  ...   \n",
       "6573                                     68.0  ...   \n",
       "\n",
       "      corr_Senegal_silt_30-60cm_mean_clipped  \\\n",
       "0                                        0.0   \n",
       "1                                      284.0   \n",
       "2                                      292.0   \n",
       "3                                      284.0   \n",
       "4                                      293.0   \n",
       "...                                      ...   \n",
       "6569                                   141.0   \n",
       "6570                                   187.0   \n",
       "6571                                   170.0   \n",
       "6572                                   168.0   \n",
       "6573                                   150.0   \n",
       "\n",
       "      corr_Senegal_silt_5-15cm_mean_clipped  \\\n",
       "0                                       0.0   \n",
       "1                                     285.0   \n",
       "2                                     311.0   \n",
       "3                                     318.0   \n",
       "4                                     309.0   \n",
       "...                                     ...   \n",
       "6569                                  141.0   \n",
       "6570                                  198.0   \n",
       "6571                                  174.0   \n",
       "6572                                  183.0   \n",
       "6573                                  151.0   \n",
       "\n",
       "      corr_Senegal_silt_60-100cm_mean_clipped  \\\n",
       "0                                         0.0   \n",
       "1                                       256.0   \n",
       "2                                       268.0   \n",
       "3                                       265.0   \n",
       "4                                       289.0   \n",
       "...                                       ...   \n",
       "6569                                    143.0   \n",
       "6570                                    192.0   \n",
       "6571                                    173.0   \n",
       "6572                                    163.0   \n",
       "6573                                    152.0   \n",
       "\n",
       "      corr_Senegal_soc_0-5cm_mean_clipped  \\\n",
       "0                                     0.0   \n",
       "1                                   390.0   \n",
       "2                                   485.0   \n",
       "3                                   654.0   \n",
       "4                                   511.0   \n",
       "...                                   ...   \n",
       "6569                                126.0   \n",
       "6570                                138.0   \n",
       "6571                                129.0   \n",
       "6572                                129.0   \n",
       "6573                                 73.0   \n",
       "\n",
       "      corr_Senegal_soc_100-200cm_mean_clipped  \\\n",
       "0                                         0.0   \n",
       "1                                         0.0   \n",
       "2                                         0.0   \n",
       "3                                         0.0   \n",
       "4                                         0.0   \n",
       "...                                       ...   \n",
       "6569                                    139.0   \n",
       "6570                                    136.0   \n",
       "6571                                    141.0   \n",
       "6572                                    154.0   \n",
       "6573                                     59.0   \n",
       "\n",
       "      corr_Senegal_soc_15-30cm_mean_clipped  \\\n",
       "0                                       0.0   \n",
       "1                                     373.0   \n",
       "2                                     507.0   \n",
       "3                                     467.0   \n",
       "4                                     271.0   \n",
       "...                                     ...   \n",
       "6569                                  160.0   \n",
       "6570                                  183.0   \n",
       "6571                                  183.0   \n",
       "6572                                  149.0   \n",
       "6573                                   90.0   \n",
       "\n",
       "      corr_Senegal_soc_30-60cm_mean_clipped  \\\n",
       "0                                       0.0   \n",
       "1                                     400.0   \n",
       "2                                     540.0   \n",
       "3                                     463.0   \n",
       "4                                     281.0   \n",
       "...                                     ...   \n",
       "6569                                  125.0   \n",
       "6570                                  113.0   \n",
       "6571                                  119.0   \n",
       "6572                                  133.0   \n",
       "6573                                   35.0   \n",
       "\n",
       "      corr_Senegal_soc_5-15cm_mean_clipped  \\\n",
       "0                                      0.0   \n",
       "1                                    307.0   \n",
       "2                                    384.0   \n",
       "3                                    563.0   \n",
       "4                                    416.0   \n",
       "...                                    ...   \n",
       "6569                                 114.0   \n",
       "6570                                 120.0   \n",
       "6571                                 121.0   \n",
       "6572                                 112.0   \n",
       "6573                                  58.0   \n",
       "\n",
       "      corr_Senegal_soc_60-100cm_mean_clipped                    geometry  \n",
       "0                                        0.0  POINT (-12.32500 12.32500)  \n",
       "1                                      353.0  POINT (-16.72500 12.37500)  \n",
       "2                                      524.0  POINT (-16.67500 12.37500)  \n",
       "3                                      421.0  POINT (-16.62500 12.37500)  \n",
       "4                                      197.0  POINT (-16.57500 12.37500)  \n",
       "...                                      ...                         ...  \n",
       "6569                                   137.0  POINT (-14.52500 16.62500)  \n",
       "6570                                   135.0  POINT (-14.47500 16.62500)  \n",
       "6571                                   134.0  POINT (-14.42500 16.62500)  \n",
       "6572                                   151.0  POINT (-14.37500 16.62500)  \n",
       "6573                                    56.0  POINT (-14.97500 16.67500)  \n",
       "\n",
       "[6574 rows x 57 columns]"
      ]
     },
     "execution_count": 94,
     "metadata": {},
     "output_type": "execute_result"
    }
   ],
   "source": [
    "extract_point_data_from_rasters(point_layer, geotiff_list, outfile)"
   ]
  },
  {
   "cell_type": "markdown",
   "id": "344d06b3-15af-4f83-971a-14b504237be8",
   "metadata": {},
   "source": [
    "# Land Degradation "
   ]
  },
  {
   "cell_type": "code",
   "execution_count": null,
   "id": "abe77351-2722-4c80-9025-780343823574",
   "metadata": {},
   "outputs": [],
   "source": []
  },
  {
   "cell_type": "code",
   "execution_count": 95,
   "id": "acf9e410-8988-4142-a444-3da4db118539",
   "metadata": {},
   "outputs": [],
   "source": [
    "geotiff_list = glob.glob('./data/LandDegradation/resampled/*.tif')"
   ]
  },
  {
   "cell_type": "code",
   "execution_count": 96,
   "id": "aa3f3dec-4dfc-4c6e-b3d8-99a896727083",
   "metadata": {},
   "outputs": [
    {
     "data": {
      "text/plain": [
       "['./data/LandDegradation/resampled\\\\corr_averageofEOS.tif',\n",
       " './data/LandDegradation/resampled\\\\corr_averageofLOS.tif',\n",
       " './data/LandDegradation/resampled\\\\corr_averageofmaxEVI.tif',\n",
       " './data/LandDegradation/resampled\\\\corr_averageofminEVI.tif',\n",
       " './data/LandDegradation/resampled\\\\corr_averageofSOS.tif',\n",
       " './data/LandDegradation/resampled\\\\corr_maxEVIslope.tif',\n",
       " './data/LandDegradation/resampled\\\\corr_minEVIslope.tif',\n",
       " './data/LandDegradation/resampled\\\\corr_PhenTrendEOSslope.tif',\n",
       " './data/LandDegradation/resampled\\\\corr_PhenTrendLOSslope.tif',\n",
       " './data/LandDegradation/resampled\\\\corr_PhenTrendSOSslope.tif',\n",
       " './data/LandDegradation/resampled\\\\corr_STDofEOS.tif',\n",
       " './data/LandDegradation/resampled\\\\corr_STDofLOS.tif',\n",
       " './data/LandDegradation/resampled\\\\corr_stdofmaxEVI.tif',\n",
       " './data/LandDegradation/resampled\\\\corr_stdofminEVI.tif',\n",
       " './data/LandDegradation/resampled\\\\corr_STDofSOS.tif']"
      ]
     },
     "execution_count": 96,
     "metadata": {},
     "output_type": "execute_result"
    }
   ],
   "source": [
    "geotiff_list"
   ]
  },
  {
   "cell_type": "code",
   "execution_count": 97,
   "id": "9d252cee-f7f3-4894-a054-c0d23aea465a",
   "metadata": {},
   "outputs": [],
   "source": [
    "outfile = r'C:\\Users\\carli\\OneDrive\\Documentos\\Proyectos_de_desarrollo_de_software\\Soil_climate_characterization\\data/Land_degradation_layers.geojson'"
   ]
  },
  {
   "cell_type": "code",
   "execution_count": 98,
   "id": "ed284d46-4af6-4f08-aa8a-fdb55e05883d",
   "metadata": {},
   "outputs": [
    {
     "name": "stderr",
     "output_type": "stream",
     "text": [
      "C:\\Users\\carli\\anaconda3\\envs\\senegal\\lib\\site-packages\\pyproj\\crs\\crs.py:131: FutureWarning: '+init=<authority>:<code>' syntax is deprecated. '<authority>:<code>' is the preferred initialization method. When making the change, be mindful of axis order changes: https://pyproj4.github.io/pyproj/stable/gotchas.html#axis-order-changes-in-proj-6\n",
      "  in_crs_string = _prepare_from_proj_string(in_crs_string)\n"
     ]
    },
    {
     "ename": "UnicodeDecodeError",
     "evalue": "'utf-8' codec can't decode byte 0xf3 in position 105: invalid continuation byte",
     "output_type": "error",
     "traceback": [
      "\u001b[1;31m---------------------------------------------------------------------------\u001b[0m",
      "\u001b[1;31mUnicodeDecodeError\u001b[0m                        Traceback (most recent call last)",
      "\u001b[1;31mUnicodeDecodeError\u001b[0m: 'utf-8' codec can't decode byte 0xf3 in position 105: invalid continuation byte"
     ]
    },
    {
     "name": "stderr",
     "output_type": "stream",
     "text": [
      "Exception ignored in: 'fiona._env.log_error'\n",
      "UnicodeDecodeError: 'utf-8' codec can't decode byte 0xf3 in position 105: invalid continuation byte\n"
     ]
    },
    {
     "ename": "UnicodeDecodeError",
     "evalue": "'utf-8' codec can't decode byte 0xf3 in position 105: invalid continuation byte",
     "output_type": "error",
     "traceback": [
      "\u001b[1;31m---------------------------------------------------------------------------\u001b[0m",
      "\u001b[1;31mUnicodeDecodeError\u001b[0m                        Traceback (most recent call last)",
      "\u001b[1;31mUnicodeDecodeError\u001b[0m: 'utf-8' codec can't decode byte 0xf3 in position 105: invalid continuation byte"
     ]
    },
    {
     "name": "stderr",
     "output_type": "stream",
     "text": [
      "Exception ignored in: 'fiona._env.log_error'\n",
      "UnicodeDecodeError: 'utf-8' codec can't decode byte 0xf3 in position 105: invalid continuation byte\n"
     ]
    },
    {
     "ename": "UnicodeDecodeError",
     "evalue": "'utf-8' codec can't decode byte 0xf3 in position 110: invalid continuation byte",
     "output_type": "error",
     "traceback": [
      "\u001b[1;31m---------------------------------------------------------------------------\u001b[0m",
      "\u001b[1;31mUnicodeDecodeError\u001b[0m                        Traceback (most recent call last)",
      "\u001b[1;31mUnicodeDecodeError\u001b[0m: 'utf-8' codec can't decode byte 0xf3 in position 110: invalid continuation byte"
     ]
    },
    {
     "name": "stderr",
     "output_type": "stream",
     "text": [
      "Exception ignored in: 'fiona._env.log_error'\n",
      "UnicodeDecodeError: 'utf-8' codec can't decode byte 0xf3 in position 110: invalid continuation byte\n"
     ]
    },
    {
     "ename": "UnicodeDecodeError",
     "evalue": "'utf-8' codec can't decode byte 0xf3 in position 110: invalid continuation byte",
     "output_type": "error",
     "traceback": [
      "\u001b[1;31m---------------------------------------------------------------------------\u001b[0m",
      "\u001b[1;31mUnicodeDecodeError\u001b[0m                        Traceback (most recent call last)",
      "\u001b[1;31mUnicodeDecodeError\u001b[0m: 'utf-8' codec can't decode byte 0xf3 in position 110: invalid continuation byte"
     ]
    },
    {
     "name": "stderr",
     "output_type": "stream",
     "text": [
      "Exception ignored in: 'fiona._env.log_error'\n",
      "UnicodeDecodeError: 'utf-8' codec can't decode byte 0xf3 in position 110: invalid continuation byte\n"
     ]
    },
    {
     "ename": "UnicodeDecodeError",
     "evalue": "'utf-8' codec can't decode byte 0xf3 in position 101: invalid continuation byte",
     "output_type": "error",
     "traceback": [
      "\u001b[1;31m---------------------------------------------------------------------------\u001b[0m",
      "\u001b[1;31mUnicodeDecodeError\u001b[0m                        Traceback (most recent call last)",
      "\u001b[1;31mUnicodeDecodeError\u001b[0m: 'utf-8' codec can't decode byte 0xf3 in position 101: invalid continuation byte"
     ]
    },
    {
     "name": "stderr",
     "output_type": "stream",
     "text": [
      "Exception ignored in: 'fiona._env.log_error'\n",
      "UnicodeDecodeError: 'utf-8' codec can't decode byte 0xf3 in position 101: invalid continuation byte\n"
     ]
    },
    {
     "ename": "UnicodeDecodeError",
     "evalue": "'utf-8' codec can't decode byte 0xf3 in position 101: invalid continuation byte",
     "output_type": "error",
     "traceback": [
      "\u001b[1;31m---------------------------------------------------------------------------\u001b[0m",
      "\u001b[1;31mUnicodeDecodeError\u001b[0m                        Traceback (most recent call last)",
      "\u001b[1;31mUnicodeDecodeError\u001b[0m: 'utf-8' codec can't decode byte 0xf3 in position 101: invalid continuation byte"
     ]
    },
    {
     "name": "stderr",
     "output_type": "stream",
     "text": [
      "Exception ignored in: 'fiona._env.log_error'\n",
      "UnicodeDecodeError: 'utf-8' codec can't decode byte 0xf3 in position 101: invalid continuation byte\n"
     ]
    },
    {
     "ename": "UnicodeDecodeError",
     "evalue": "'utf-8' codec can't decode byte 0xf3 in position 100: invalid continuation byte",
     "output_type": "error",
     "traceback": [
      "\u001b[1;31m---------------------------------------------------------------------------\u001b[0m",
      "\u001b[1;31mUnicodeDecodeError\u001b[0m                        Traceback (most recent call last)",
      "\u001b[1;31mUnicodeDecodeError\u001b[0m: 'utf-8' codec can't decode byte 0xf3 in position 100: invalid continuation byte"
     ]
    },
    {
     "name": "stderr",
     "output_type": "stream",
     "text": [
      "Exception ignored in: 'fiona._env.log_error'\n",
      "UnicodeDecodeError: 'utf-8' codec can't decode byte 0xf3 in position 100: invalid continuation byte\n"
     ]
    },
    {
     "ename": "UnicodeDecodeError",
     "evalue": "'utf-8' codec can't decode byte 0xf3 in position 100: invalid continuation byte",
     "output_type": "error",
     "traceback": [
      "\u001b[1;31m---------------------------------------------------------------------------\u001b[0m",
      "\u001b[1;31mUnicodeDecodeError\u001b[0m                        Traceback (most recent call last)",
      "\u001b[1;31mUnicodeDecodeError\u001b[0m: 'utf-8' codec can't decode byte 0xf3 in position 100: invalid continuation byte"
     ]
    },
    {
     "name": "stderr",
     "output_type": "stream",
     "text": [
      "Exception ignored in: 'fiona._env.log_error'\n",
      "UnicodeDecodeError: 'utf-8' codec can't decode byte 0xf3 in position 100: invalid continuation byte\n"
     ]
    },
    {
     "ename": "UnicodeDecodeError",
     "evalue": "'utf-8' codec can't decode byte 0xf3 in position 105: invalid continuation byte",
     "output_type": "error",
     "traceback": [
      "\u001b[1;31m---------------------------------------------------------------------------\u001b[0m",
      "\u001b[1;31mUnicodeDecodeError\u001b[0m                        Traceback (most recent call last)",
      "\u001b[1;31mUnicodeDecodeError\u001b[0m: 'utf-8' codec can't decode byte 0xf3 in position 105: invalid continuation byte"
     ]
    },
    {
     "name": "stderr",
     "output_type": "stream",
     "text": [
      "Exception ignored in: 'fiona._env.log_error'\n",
      "UnicodeDecodeError: 'utf-8' codec can't decode byte 0xf3 in position 105: invalid continuation byte\n"
     ]
    },
    {
     "ename": "UnicodeDecodeError",
     "evalue": "'utf-8' codec can't decode byte 0xf3 in position 105: invalid continuation byte",
     "output_type": "error",
     "traceback": [
      "\u001b[1;31m---------------------------------------------------------------------------\u001b[0m",
      "\u001b[1;31mUnicodeDecodeError\u001b[0m                        Traceback (most recent call last)",
      "\u001b[1;31mUnicodeDecodeError\u001b[0m: 'utf-8' codec can't decode byte 0xf3 in position 105: invalid continuation byte"
     ]
    },
    {
     "name": "stderr",
     "output_type": "stream",
     "text": [
      "Exception ignored in: 'fiona._env.log_error'\n",
      "UnicodeDecodeError: 'utf-8' codec can't decode byte 0xf3 in position 105: invalid continuation byte\n"
     ]
    },
    {
     "ename": "UnicodeDecodeError",
     "evalue": "'utf-8' codec can't decode byte 0xf3 in position 110: invalid continuation byte",
     "output_type": "error",
     "traceback": [
      "\u001b[1;31m---------------------------------------------------------------------------\u001b[0m",
      "\u001b[1;31mUnicodeDecodeError\u001b[0m                        Traceback (most recent call last)",
      "\u001b[1;31mUnicodeDecodeError\u001b[0m: 'utf-8' codec can't decode byte 0xf3 in position 110: invalid continuation byte"
     ]
    },
    {
     "name": "stderr",
     "output_type": "stream",
     "text": [
      "Exception ignored in: 'fiona._env.log_error'\n",
      "UnicodeDecodeError: 'utf-8' codec can't decode byte 0xf3 in position 110: invalid continuation byte\n"
     ]
    },
    {
     "ename": "UnicodeDecodeError",
     "evalue": "'utf-8' codec can't decode byte 0xf3 in position 110: invalid continuation byte",
     "output_type": "error",
     "traceback": [
      "\u001b[1;31m---------------------------------------------------------------------------\u001b[0m",
      "\u001b[1;31mUnicodeDecodeError\u001b[0m                        Traceback (most recent call last)",
      "\u001b[1;31mUnicodeDecodeError\u001b[0m: 'utf-8' codec can't decode byte 0xf3 in position 110: invalid continuation byte"
     ]
    },
    {
     "name": "stderr",
     "output_type": "stream",
     "text": [
      "Exception ignored in: 'fiona._env.log_error'\n",
      "UnicodeDecodeError: 'utf-8' codec can't decode byte 0xf3 in position 110: invalid continuation byte\n"
     ]
    },
    {
     "ename": "UnicodeDecodeError",
     "evalue": "'utf-8' codec can't decode byte 0xf3 in position 101: invalid continuation byte",
     "output_type": "error",
     "traceback": [
      "\u001b[1;31m---------------------------------------------------------------------------\u001b[0m",
      "\u001b[1;31mUnicodeDecodeError\u001b[0m                        Traceback (most recent call last)",
      "\u001b[1;31mUnicodeDecodeError\u001b[0m: 'utf-8' codec can't decode byte 0xf3 in position 101: invalid continuation byte"
     ]
    },
    {
     "name": "stderr",
     "output_type": "stream",
     "text": [
      "Exception ignored in: 'fiona._env.log_error'\n",
      "UnicodeDecodeError: 'utf-8' codec can't decode byte 0xf3 in position 101: invalid continuation byte\n"
     ]
    },
    {
     "ename": "UnicodeDecodeError",
     "evalue": "'utf-8' codec can't decode byte 0xf3 in position 101: invalid continuation byte",
     "output_type": "error",
     "traceback": [
      "\u001b[1;31m---------------------------------------------------------------------------\u001b[0m",
      "\u001b[1;31mUnicodeDecodeError\u001b[0m                        Traceback (most recent call last)",
      "\u001b[1;31mUnicodeDecodeError\u001b[0m: 'utf-8' codec can't decode byte 0xf3 in position 101: invalid continuation byte"
     ]
    },
    {
     "name": "stderr",
     "output_type": "stream",
     "text": [
      "Exception ignored in: 'fiona._env.log_error'\n",
      "UnicodeDecodeError: 'utf-8' codec can't decode byte 0xf3 in position 101: invalid continuation byte\n"
     ]
    },
    {
     "ename": "UnicodeDecodeError",
     "evalue": "'utf-8' codec can't decode byte 0xf3 in position 100: invalid continuation byte",
     "output_type": "error",
     "traceback": [
      "\u001b[1;31m---------------------------------------------------------------------------\u001b[0m",
      "\u001b[1;31mUnicodeDecodeError\u001b[0m                        Traceback (most recent call last)",
      "\u001b[1;31mUnicodeDecodeError\u001b[0m: 'utf-8' codec can't decode byte 0xf3 in position 100: invalid continuation byte"
     ]
    },
    {
     "name": "stderr",
     "output_type": "stream",
     "text": [
      "Exception ignored in: 'fiona._env.log_error'\n",
      "UnicodeDecodeError: 'utf-8' codec can't decode byte 0xf3 in position 100: invalid continuation byte\n"
     ]
    },
    {
     "ename": "UnicodeDecodeError",
     "evalue": "'utf-8' codec can't decode byte 0xf3 in position 100: invalid continuation byte",
     "output_type": "error",
     "traceback": [
      "\u001b[1;31m---------------------------------------------------------------------------\u001b[0m",
      "\u001b[1;31mUnicodeDecodeError\u001b[0m                        Traceback (most recent call last)",
      "\u001b[1;31mUnicodeDecodeError\u001b[0m: 'utf-8' codec can't decode byte 0xf3 in position 100: invalid continuation byte"
     ]
    },
    {
     "name": "stderr",
     "output_type": "stream",
     "text": [
      "Exception ignored in: 'fiona._env.log_error'\n",
      "UnicodeDecodeError: 'utf-8' codec can't decode byte 0xf3 in position 100: invalid continuation byte\n"
     ]
    },
    {
     "ename": "UnicodeDecodeError",
     "evalue": "'utf-8' codec can't decode byte 0xf3 in position 105: invalid continuation byte",
     "output_type": "error",
     "traceback": [
      "\u001b[1;31m---------------------------------------------------------------------------\u001b[0m",
      "\u001b[1;31mUnicodeDecodeError\u001b[0m                        Traceback (most recent call last)",
      "\u001b[1;31mUnicodeDecodeError\u001b[0m: 'utf-8' codec can't decode byte 0xf3 in position 105: invalid continuation byte"
     ]
    },
    {
     "name": "stderr",
     "output_type": "stream",
     "text": [
      "Exception ignored in: 'fiona._env.log_error'\n",
      "UnicodeDecodeError: 'utf-8' codec can't decode byte 0xf3 in position 105: invalid continuation byte\n"
     ]
    },
    {
     "ename": "UnicodeDecodeError",
     "evalue": "'utf-8' codec can't decode byte 0xf3 in position 105: invalid continuation byte",
     "output_type": "error",
     "traceback": [
      "\u001b[1;31m---------------------------------------------------------------------------\u001b[0m",
      "\u001b[1;31mUnicodeDecodeError\u001b[0m                        Traceback (most recent call last)",
      "\u001b[1;31mUnicodeDecodeError\u001b[0m: 'utf-8' codec can't decode byte 0xf3 in position 105: invalid continuation byte"
     ]
    },
    {
     "name": "stderr",
     "output_type": "stream",
     "text": [
      "Exception ignored in: 'fiona._env.log_error'\n",
      "UnicodeDecodeError: 'utf-8' codec can't decode byte 0xf3 in position 105: invalid continuation byte\n"
     ]
    },
    {
     "ename": "UnicodeDecodeError",
     "evalue": "'utf-8' codec can't decode byte 0xf3 in position 110: invalid continuation byte",
     "output_type": "error",
     "traceback": [
      "\u001b[1;31m---------------------------------------------------------------------------\u001b[0m",
      "\u001b[1;31mUnicodeDecodeError\u001b[0m                        Traceback (most recent call last)",
      "\u001b[1;31mUnicodeDecodeError\u001b[0m: 'utf-8' codec can't decode byte 0xf3 in position 110: invalid continuation byte"
     ]
    },
    {
     "name": "stderr",
     "output_type": "stream",
     "text": [
      "Exception ignored in: 'fiona._env.log_error'\n",
      "UnicodeDecodeError: 'utf-8' codec can't decode byte 0xf3 in position 110: invalid continuation byte\n"
     ]
    },
    {
     "ename": "UnicodeDecodeError",
     "evalue": "'utf-8' codec can't decode byte 0xf3 in position 110: invalid continuation byte",
     "output_type": "error",
     "traceback": [
      "\u001b[1;31m---------------------------------------------------------------------------\u001b[0m",
      "\u001b[1;31mUnicodeDecodeError\u001b[0m                        Traceback (most recent call last)",
      "\u001b[1;31mUnicodeDecodeError\u001b[0m: 'utf-8' codec can't decode byte 0xf3 in position 110: invalid continuation byte"
     ]
    },
    {
     "name": "stderr",
     "output_type": "stream",
     "text": [
      "Exception ignored in: 'fiona._env.log_error'\n",
      "UnicodeDecodeError: 'utf-8' codec can't decode byte 0xf3 in position 110: invalid continuation byte\n"
     ]
    },
    {
     "ename": "UnicodeDecodeError",
     "evalue": "'utf-8' codec can't decode byte 0xf3 in position 101: invalid continuation byte",
     "output_type": "error",
     "traceback": [
      "\u001b[1;31m---------------------------------------------------------------------------\u001b[0m",
      "\u001b[1;31mUnicodeDecodeError\u001b[0m                        Traceback (most recent call last)",
      "\u001b[1;31mUnicodeDecodeError\u001b[0m: 'utf-8' codec can't decode byte 0xf3 in position 101: invalid continuation byte"
     ]
    },
    {
     "name": "stderr",
     "output_type": "stream",
     "text": [
      "Exception ignored in: 'fiona._env.log_error'\n",
      "UnicodeDecodeError: 'utf-8' codec can't decode byte 0xf3 in position 101: invalid continuation byte\n"
     ]
    },
    {
     "ename": "UnicodeDecodeError",
     "evalue": "'utf-8' codec can't decode byte 0xf3 in position 101: invalid continuation byte",
     "output_type": "error",
     "traceback": [
      "\u001b[1;31m---------------------------------------------------------------------------\u001b[0m",
      "\u001b[1;31mUnicodeDecodeError\u001b[0m                        Traceback (most recent call last)",
      "\u001b[1;31mUnicodeDecodeError\u001b[0m: 'utf-8' codec can't decode byte 0xf3 in position 101: invalid continuation byte"
     ]
    },
    {
     "name": "stderr",
     "output_type": "stream",
     "text": [
      "Exception ignored in: 'fiona._env.log_error'\n",
      "UnicodeDecodeError: 'utf-8' codec can't decode byte 0xf3 in position 101: invalid continuation byte\n"
     ]
    },
    {
     "ename": "UnicodeDecodeError",
     "evalue": "'utf-8' codec can't decode byte 0xf3 in position 100: invalid continuation byte",
     "output_type": "error",
     "traceback": [
      "\u001b[1;31m---------------------------------------------------------------------------\u001b[0m",
      "\u001b[1;31mUnicodeDecodeError\u001b[0m                        Traceback (most recent call last)",
      "\u001b[1;31mUnicodeDecodeError\u001b[0m: 'utf-8' codec can't decode byte 0xf3 in position 100: invalid continuation byte"
     ]
    },
    {
     "name": "stderr",
     "output_type": "stream",
     "text": [
      "Exception ignored in: 'fiona._env.log_error'\n",
      "UnicodeDecodeError: 'utf-8' codec can't decode byte 0xf3 in position 100: invalid continuation byte\n"
     ]
    },
    {
     "ename": "UnicodeDecodeError",
     "evalue": "'utf-8' codec can't decode byte 0xf3 in position 100: invalid continuation byte",
     "output_type": "error",
     "traceback": [
      "\u001b[1;31m---------------------------------------------------------------------------\u001b[0m",
      "\u001b[1;31mUnicodeDecodeError\u001b[0m                        Traceback (most recent call last)",
      "\u001b[1;31mUnicodeDecodeError\u001b[0m: 'utf-8' codec can't decode byte 0xf3 in position 100: invalid continuation byte"
     ]
    },
    {
     "name": "stderr",
     "output_type": "stream",
     "text": [
      "Exception ignored in: 'fiona._env.log_error'\n",
      "UnicodeDecodeError: 'utf-8' codec can't decode byte 0xf3 in position 100: invalid continuation byte\n"
     ]
    },
    {
     "ename": "UnicodeDecodeError",
     "evalue": "'utf-8' codec can't decode byte 0xf3 in position 105: invalid continuation byte",
     "output_type": "error",
     "traceback": [
      "\u001b[1;31m---------------------------------------------------------------------------\u001b[0m",
      "\u001b[1;31mUnicodeDecodeError\u001b[0m                        Traceback (most recent call last)",
      "\u001b[1;31mUnicodeDecodeError\u001b[0m: 'utf-8' codec can't decode byte 0xf3 in position 105: invalid continuation byte"
     ]
    },
    {
     "name": "stderr",
     "output_type": "stream",
     "text": [
      "Exception ignored in: 'fiona._env.log_error'\n",
      "UnicodeDecodeError: 'utf-8' codec can't decode byte 0xf3 in position 105: invalid continuation byte\n"
     ]
    },
    {
     "ename": "UnicodeDecodeError",
     "evalue": "'utf-8' codec can't decode byte 0xf3 in position 105: invalid continuation byte",
     "output_type": "error",
     "traceback": [
      "\u001b[1;31m---------------------------------------------------------------------------\u001b[0m",
      "\u001b[1;31mUnicodeDecodeError\u001b[0m                        Traceback (most recent call last)",
      "\u001b[1;31mUnicodeDecodeError\u001b[0m: 'utf-8' codec can't decode byte 0xf3 in position 105: invalid continuation byte"
     ]
    },
    {
     "name": "stderr",
     "output_type": "stream",
     "text": [
      "Exception ignored in: 'fiona._env.log_error'\n",
      "UnicodeDecodeError: 'utf-8' codec can't decode byte 0xf3 in position 105: invalid continuation byte\n"
     ]
    },
    {
     "ename": "UnicodeDecodeError",
     "evalue": "'utf-8' codec can't decode byte 0xf3 in position 110: invalid continuation byte",
     "output_type": "error",
     "traceback": [
      "\u001b[1;31m---------------------------------------------------------------------------\u001b[0m",
      "\u001b[1;31mUnicodeDecodeError\u001b[0m                        Traceback (most recent call last)",
      "\u001b[1;31mUnicodeDecodeError\u001b[0m: 'utf-8' codec can't decode byte 0xf3 in position 110: invalid continuation byte"
     ]
    },
    {
     "name": "stderr",
     "output_type": "stream",
     "text": [
      "Exception ignored in: 'fiona._env.log_error'\n",
      "UnicodeDecodeError: 'utf-8' codec can't decode byte 0xf3 in position 110: invalid continuation byte\n"
     ]
    },
    {
     "ename": "UnicodeDecodeError",
     "evalue": "'utf-8' codec can't decode byte 0xf3 in position 110: invalid continuation byte",
     "output_type": "error",
     "traceback": [
      "\u001b[1;31m---------------------------------------------------------------------------\u001b[0m",
      "\u001b[1;31mUnicodeDecodeError\u001b[0m                        Traceback (most recent call last)",
      "\u001b[1;31mUnicodeDecodeError\u001b[0m: 'utf-8' codec can't decode byte 0xf3 in position 110: invalid continuation byte"
     ]
    },
    {
     "name": "stderr",
     "output_type": "stream",
     "text": [
      "Exception ignored in: 'fiona._env.log_error'\n",
      "UnicodeDecodeError: 'utf-8' codec can't decode byte 0xf3 in position 110: invalid continuation byte\n"
     ]
    },
    {
     "ename": "UnicodeDecodeError",
     "evalue": "'utf-8' codec can't decode byte 0xf3 in position 101: invalid continuation byte",
     "output_type": "error",
     "traceback": [
      "\u001b[1;31m---------------------------------------------------------------------------\u001b[0m",
      "\u001b[1;31mUnicodeDecodeError\u001b[0m                        Traceback (most recent call last)",
      "\u001b[1;31mUnicodeDecodeError\u001b[0m: 'utf-8' codec can't decode byte 0xf3 in position 101: invalid continuation byte"
     ]
    },
    {
     "name": "stderr",
     "output_type": "stream",
     "text": [
      "Exception ignored in: 'fiona._env.log_error'\n",
      "UnicodeDecodeError: 'utf-8' codec can't decode byte 0xf3 in position 101: invalid continuation byte\n"
     ]
    },
    {
     "ename": "UnicodeDecodeError",
     "evalue": "'utf-8' codec can't decode byte 0xf3 in position 101: invalid continuation byte",
     "output_type": "error",
     "traceback": [
      "\u001b[1;31m---------------------------------------------------------------------------\u001b[0m",
      "\u001b[1;31mUnicodeDecodeError\u001b[0m                        Traceback (most recent call last)",
      "\u001b[1;31mUnicodeDecodeError\u001b[0m: 'utf-8' codec can't decode byte 0xf3 in position 101: invalid continuation byte"
     ]
    },
    {
     "name": "stderr",
     "output_type": "stream",
     "text": [
      "Exception ignored in: 'fiona._env.log_error'\n",
      "UnicodeDecodeError: 'utf-8' codec can't decode byte 0xf3 in position 101: invalid continuation byte\n"
     ]
    },
    {
     "ename": "UnicodeDecodeError",
     "evalue": "'utf-8' codec can't decode byte 0xf3 in position 100: invalid continuation byte",
     "output_type": "error",
     "traceback": [
      "\u001b[1;31m---------------------------------------------------------------------------\u001b[0m",
      "\u001b[1;31mUnicodeDecodeError\u001b[0m                        Traceback (most recent call last)",
      "\u001b[1;31mUnicodeDecodeError\u001b[0m: 'utf-8' codec can't decode byte 0xf3 in position 100: invalid continuation byte"
     ]
    },
    {
     "name": "stderr",
     "output_type": "stream",
     "text": [
      "Exception ignored in: 'fiona._env.log_error'\n",
      "UnicodeDecodeError: 'utf-8' codec can't decode byte 0xf3 in position 100: invalid continuation byte\n"
     ]
    },
    {
     "ename": "UnicodeDecodeError",
     "evalue": "'utf-8' codec can't decode byte 0xf3 in position 100: invalid continuation byte",
     "output_type": "error",
     "traceback": [
      "\u001b[1;31m---------------------------------------------------------------------------\u001b[0m",
      "\u001b[1;31mUnicodeDecodeError\u001b[0m                        Traceback (most recent call last)",
      "\u001b[1;31mUnicodeDecodeError\u001b[0m: 'utf-8' codec can't decode byte 0xf3 in position 100: invalid continuation byte"
     ]
    },
    {
     "name": "stderr",
     "output_type": "stream",
     "text": [
      "Exception ignored in: 'fiona._env.log_error'\n",
      "UnicodeDecodeError: 'utf-8' codec can't decode byte 0xf3 in position 100: invalid continuation byte\n"
     ]
    },
    {
     "data": {
      "text/html": [
       "<div>\n",
       "<style scoped>\n",
       "    .dataframe tbody tr th:only-of-type {\n",
       "        vertical-align: middle;\n",
       "    }\n",
       "\n",
       "    .dataframe tbody tr th {\n",
       "        vertical-align: top;\n",
       "    }\n",
       "\n",
       "    .dataframe thead th {\n",
       "        text-align: right;\n",
       "    }\n",
       "</style>\n",
       "<table border=\"1\" class=\"dataframe\">\n",
       "  <thead>\n",
       "    <tr style=\"text-align: right;\">\n",
       "      <th></th>\n",
       "      <th>Longitude</th>\n",
       "      <th>Latitude</th>\n",
       "      <th>corr_averageofEOS</th>\n",
       "      <th>corr_averageofLOS</th>\n",
       "      <th>corr_averageofmaxEVI</th>\n",
       "      <th>corr_averageofminEVI</th>\n",
       "      <th>corr_averageofSOS</th>\n",
       "      <th>corr_maxEVIslope</th>\n",
       "      <th>corr_minEVIslope</th>\n",
       "      <th>corr_PhenTrendEOSslope</th>\n",
       "      <th>corr_PhenTrendLOSslope</th>\n",
       "      <th>corr_PhenTrendSOSslope</th>\n",
       "      <th>corr_STDofEOS</th>\n",
       "      <th>corr_STDofLOS</th>\n",
       "      <th>corr_stdofmaxEVI</th>\n",
       "      <th>corr_stdofminEVI</th>\n",
       "      <th>corr_STDofSOS</th>\n",
       "      <th>geometry</th>\n",
       "    </tr>\n",
       "  </thead>\n",
       "  <tbody>\n",
       "    <tr>\n",
       "      <th>1</th>\n",
       "      <td>-16.725000</td>\n",
       "      <td>12.374998</td>\n",
       "      <td>291.42</td>\n",
       "      <td>113.16</td>\n",
       "      <td>0.49</td>\n",
       "      <td>0.44</td>\n",
       "      <td>178.26</td>\n",
       "      <td>0.0</td>\n",
       "      <td>0.0</td>\n",
       "      <td>0.0</td>\n",
       "      <td>0.0</td>\n",
       "      <td>0.0</td>\n",
       "      <td>16.01</td>\n",
       "      <td>19.83</td>\n",
       "      <td>0.10</td>\n",
       "      <td>0.08</td>\n",
       "      <td>13.59</td>\n",
       "      <td>POINT (-16.72500 12.37500)</td>\n",
       "    </tr>\n",
       "    <tr>\n",
       "      <th>2</th>\n",
       "      <td>-16.675000</td>\n",
       "      <td>12.374998</td>\n",
       "      <td>280.78</td>\n",
       "      <td>129.44</td>\n",
       "      <td>0.36</td>\n",
       "      <td>0.16</td>\n",
       "      <td>151.33</td>\n",
       "      <td>0.0</td>\n",
       "      <td>0.0</td>\n",
       "      <td>0.0</td>\n",
       "      <td>0.0</td>\n",
       "      <td>0.0</td>\n",
       "      <td>17.10</td>\n",
       "      <td>21.09</td>\n",
       "      <td>0.03</td>\n",
       "      <td>0.03</td>\n",
       "      <td>10.19</td>\n",
       "      <td>POINT (-16.67500 12.37500)</td>\n",
       "    </tr>\n",
       "    <tr>\n",
       "      <th>3</th>\n",
       "      <td>-16.625000</td>\n",
       "      <td>12.374998</td>\n",
       "      <td>276.05</td>\n",
       "      <td>115.11</td>\n",
       "      <td>0.54</td>\n",
       "      <td>0.27</td>\n",
       "      <td>160.95</td>\n",
       "      <td>0.0</td>\n",
       "      <td>0.0</td>\n",
       "      <td>0.0</td>\n",
       "      <td>0.0</td>\n",
       "      <td>0.0</td>\n",
       "      <td>19.60</td>\n",
       "      <td>24.26</td>\n",
       "      <td>0.05</td>\n",
       "      <td>0.03</td>\n",
       "      <td>11.49</td>\n",
       "      <td>POINT (-16.62500 12.37500)</td>\n",
       "    </tr>\n",
       "    <tr>\n",
       "      <th>4</th>\n",
       "      <td>-16.575000</td>\n",
       "      <td>12.374998</td>\n",
       "      <td>279.56</td>\n",
       "      <td>112.28</td>\n",
       "      <td>0.59</td>\n",
       "      <td>0.37</td>\n",
       "      <td>167.28</td>\n",
       "      <td>0.0</td>\n",
       "      <td>0.0</td>\n",
       "      <td>0.0</td>\n",
       "      <td>0.0</td>\n",
       "      <td>0.0</td>\n",
       "      <td>19.80</td>\n",
       "      <td>32.20</td>\n",
       "      <td>0.06</td>\n",
       "      <td>0.04</td>\n",
       "      <td>29.11</td>\n",
       "      <td>POINT (-16.57500 12.37500)</td>\n",
       "    </tr>\n",
       "    <tr>\n",
       "      <th>5</th>\n",
       "      <td>-16.525000</td>\n",
       "      <td>12.374998</td>\n",
       "      <td>288.44</td>\n",
       "      <td>108.61</td>\n",
       "      <td>0.56</td>\n",
       "      <td>0.34</td>\n",
       "      <td>179.83</td>\n",
       "      <td>0.0</td>\n",
       "      <td>0.0</td>\n",
       "      <td>0.0</td>\n",
       "      <td>0.0</td>\n",
       "      <td>0.0</td>\n",
       "      <td>18.00</td>\n",
       "      <td>20.36</td>\n",
       "      <td>0.06</td>\n",
       "      <td>0.03</td>\n",
       "      <td>19.70</td>\n",
       "      <td>POINT (-16.52500 12.37500)</td>\n",
       "    </tr>\n",
       "    <tr>\n",
       "      <th>...</th>\n",
       "      <td>...</td>\n",
       "      <td>...</td>\n",
       "      <td>...</td>\n",
       "      <td>...</td>\n",
       "      <td>...</td>\n",
       "      <td>...</td>\n",
       "      <td>...</td>\n",
       "      <td>...</td>\n",
       "      <td>...</td>\n",
       "      <td>...</td>\n",
       "      <td>...</td>\n",
       "      <td>...</td>\n",
       "      <td>...</td>\n",
       "      <td>...</td>\n",
       "      <td>...</td>\n",
       "      <td>...</td>\n",
       "      <td>...</td>\n",
       "      <td>...</td>\n",
       "    </tr>\n",
       "    <tr>\n",
       "      <th>6569</th>\n",
       "      <td>-14.525001</td>\n",
       "      <td>16.624998</td>\n",
       "      <td>0.00</td>\n",
       "      <td>0.00</td>\n",
       "      <td>0.16</td>\n",
       "      <td>0.12</td>\n",
       "      <td>0.00</td>\n",
       "      <td>0.0</td>\n",
       "      <td>0.0</td>\n",
       "      <td>0.0</td>\n",
       "      <td>0.0</td>\n",
       "      <td>0.0</td>\n",
       "      <td>0.00</td>\n",
       "      <td>0.00</td>\n",
       "      <td>0.04</td>\n",
       "      <td>0.01</td>\n",
       "      <td>0.00</td>\n",
       "      <td>POINT (-14.52500 16.62500)</td>\n",
       "    </tr>\n",
       "    <tr>\n",
       "      <th>6570</th>\n",
       "      <td>-14.475001</td>\n",
       "      <td>16.624998</td>\n",
       "      <td>0.00</td>\n",
       "      <td>0.00</td>\n",
       "      <td>0.13</td>\n",
       "      <td>0.10</td>\n",
       "      <td>0.00</td>\n",
       "      <td>0.0</td>\n",
       "      <td>0.0</td>\n",
       "      <td>0.0</td>\n",
       "      <td>0.0</td>\n",
       "      <td>0.0</td>\n",
       "      <td>0.00</td>\n",
       "      <td>0.00</td>\n",
       "      <td>0.01</td>\n",
       "      <td>0.01</td>\n",
       "      <td>0.00</td>\n",
       "      <td>POINT (-14.47500 16.62500)</td>\n",
       "    </tr>\n",
       "    <tr>\n",
       "      <th>6571</th>\n",
       "      <td>-14.425001</td>\n",
       "      <td>16.624998</td>\n",
       "      <td>0.00</td>\n",
       "      <td>0.00</td>\n",
       "      <td>0.22</td>\n",
       "      <td>0.13</td>\n",
       "      <td>0.00</td>\n",
       "      <td>0.0</td>\n",
       "      <td>0.0</td>\n",
       "      <td>0.0</td>\n",
       "      <td>0.0</td>\n",
       "      <td>0.0</td>\n",
       "      <td>0.00</td>\n",
       "      <td>0.00</td>\n",
       "      <td>0.05</td>\n",
       "      <td>0.01</td>\n",
       "      <td>0.00</td>\n",
       "      <td>POINT (-14.42500 16.62500)</td>\n",
       "    </tr>\n",
       "    <tr>\n",
       "      <th>6572</th>\n",
       "      <td>-14.375001</td>\n",
       "      <td>16.624998</td>\n",
       "      <td>0.00</td>\n",
       "      <td>0.00</td>\n",
       "      <td>0.20</td>\n",
       "      <td>0.12</td>\n",
       "      <td>0.00</td>\n",
       "      <td>0.0</td>\n",
       "      <td>0.0</td>\n",
       "      <td>0.0</td>\n",
       "      <td>0.0</td>\n",
       "      <td>0.0</td>\n",
       "      <td>0.00</td>\n",
       "      <td>0.00</td>\n",
       "      <td>0.04</td>\n",
       "      <td>0.04</td>\n",
       "      <td>0.00</td>\n",
       "      <td>POINT (-14.37500 16.62500)</td>\n",
       "    </tr>\n",
       "    <tr>\n",
       "      <th>6573</th>\n",
       "      <td>-14.975001</td>\n",
       "      <td>16.674998</td>\n",
       "      <td>0.00</td>\n",
       "      <td>0.00</td>\n",
       "      <td>0.21</td>\n",
       "      <td>0.12</td>\n",
       "      <td>0.00</td>\n",
       "      <td>0.0</td>\n",
       "      <td>0.0</td>\n",
       "      <td>0.0</td>\n",
       "      <td>0.0</td>\n",
       "      <td>0.0</td>\n",
       "      <td>0.00</td>\n",
       "      <td>0.00</td>\n",
       "      <td>0.03</td>\n",
       "      <td>0.03</td>\n",
       "      <td>0.00</td>\n",
       "      <td>POINT (-14.97500 16.67500)</td>\n",
       "    </tr>\n",
       "  </tbody>\n",
       "</table>\n",
       "<p>6394 rows × 18 columns</p>\n",
       "</div>"
      ],
      "text/plain": [
       "      Longitude   Latitude  corr_averageofEOS  corr_averageofLOS  \\\n",
       "1    -16.725000  12.374998             291.42             113.16   \n",
       "2    -16.675000  12.374998             280.78             129.44   \n",
       "3    -16.625000  12.374998             276.05             115.11   \n",
       "4    -16.575000  12.374998             279.56             112.28   \n",
       "5    -16.525000  12.374998             288.44             108.61   \n",
       "...         ...        ...                ...                ...   \n",
       "6569 -14.525001  16.624998               0.00               0.00   \n",
       "6570 -14.475001  16.624998               0.00               0.00   \n",
       "6571 -14.425001  16.624998               0.00               0.00   \n",
       "6572 -14.375001  16.624998               0.00               0.00   \n",
       "6573 -14.975001  16.674998               0.00               0.00   \n",
       "\n",
       "      corr_averageofmaxEVI  corr_averageofminEVI  corr_averageofSOS  \\\n",
       "1                     0.49                  0.44             178.26   \n",
       "2                     0.36                  0.16             151.33   \n",
       "3                     0.54                  0.27             160.95   \n",
       "4                     0.59                  0.37             167.28   \n",
       "5                     0.56                  0.34             179.83   \n",
       "...                    ...                   ...                ...   \n",
       "6569                  0.16                  0.12               0.00   \n",
       "6570                  0.13                  0.10               0.00   \n",
       "6571                  0.22                  0.13               0.00   \n",
       "6572                  0.20                  0.12               0.00   \n",
       "6573                  0.21                  0.12               0.00   \n",
       "\n",
       "      corr_maxEVIslope  corr_minEVIslope  corr_PhenTrendEOSslope  \\\n",
       "1                  0.0               0.0                     0.0   \n",
       "2                  0.0               0.0                     0.0   \n",
       "3                  0.0               0.0                     0.0   \n",
       "4                  0.0               0.0                     0.0   \n",
       "5                  0.0               0.0                     0.0   \n",
       "...                ...               ...                     ...   \n",
       "6569               0.0               0.0                     0.0   \n",
       "6570               0.0               0.0                     0.0   \n",
       "6571               0.0               0.0                     0.0   \n",
       "6572               0.0               0.0                     0.0   \n",
       "6573               0.0               0.0                     0.0   \n",
       "\n",
       "      corr_PhenTrendLOSslope  corr_PhenTrendSOSslope  corr_STDofEOS  \\\n",
       "1                        0.0                     0.0          16.01   \n",
       "2                        0.0                     0.0          17.10   \n",
       "3                        0.0                     0.0          19.60   \n",
       "4                        0.0                     0.0          19.80   \n",
       "5                        0.0                     0.0          18.00   \n",
       "...                      ...                     ...            ...   \n",
       "6569                     0.0                     0.0           0.00   \n",
       "6570                     0.0                     0.0           0.00   \n",
       "6571                     0.0                     0.0           0.00   \n",
       "6572                     0.0                     0.0           0.00   \n",
       "6573                     0.0                     0.0           0.00   \n",
       "\n",
       "      corr_STDofLOS  corr_stdofmaxEVI  corr_stdofminEVI  corr_STDofSOS  \\\n",
       "1             19.83              0.10              0.08          13.59   \n",
       "2             21.09              0.03              0.03          10.19   \n",
       "3             24.26              0.05              0.03          11.49   \n",
       "4             32.20              0.06              0.04          29.11   \n",
       "5             20.36              0.06              0.03          19.70   \n",
       "...             ...               ...               ...            ...   \n",
       "6569           0.00              0.04              0.01           0.00   \n",
       "6570           0.00              0.01              0.01           0.00   \n",
       "6571           0.00              0.05              0.01           0.00   \n",
       "6572           0.00              0.04              0.04           0.00   \n",
       "6573           0.00              0.03              0.03           0.00   \n",
       "\n",
       "                        geometry  \n",
       "1     POINT (-16.72500 12.37500)  \n",
       "2     POINT (-16.67500 12.37500)  \n",
       "3     POINT (-16.62500 12.37500)  \n",
       "4     POINT (-16.57500 12.37500)  \n",
       "5     POINT (-16.52500 12.37500)  \n",
       "...                          ...  \n",
       "6569  POINT (-14.52500 16.62500)  \n",
       "6570  POINT (-14.47500 16.62500)  \n",
       "6571  POINT (-14.42500 16.62500)  \n",
       "6572  POINT (-14.37500 16.62500)  \n",
       "6573  POINT (-14.97500 16.67500)  \n",
       "\n",
       "[6394 rows x 18 columns]"
      ]
     },
     "execution_count": 98,
     "metadata": {},
     "output_type": "execute_result"
    }
   ],
   "source": [
    "extract_point_data_from_rasters(point_layer, geotiff_list, outfile)"
   ]
  },
  {
   "cell_type": "markdown",
   "id": "121f162e-abf0-4d04-8000-9d024ff19217",
   "metadata": {},
   "source": [
    "## All Layers"
   ]
  },
  {
   "cell_type": "code",
   "execution_count": 101,
   "id": "851c1c7e-d058-48f3-8506-778244e184ec",
   "metadata": {},
   "outputs": [],
   "source": [
    "geotiff_list = glob.glob('./data/all_layers/*.tif')"
   ]
  },
  {
   "cell_type": "code",
   "execution_count": 102,
   "id": "d2dfadb0-16ae-4e8f-b1ac-d58096bdb61e",
   "metadata": {
    "collapsed": true,
    "jupyter": {
     "outputs_hidden": true
    },
    "tags": []
   },
   "outputs": [
    {
     "data": {
      "text/plain": [
       "['./data/all_layers\\\\corr_averageofEOS.tif',\n",
       " './data/all_layers\\\\corr_averageofLOS.tif',\n",
       " './data/all_layers\\\\corr_averageofmaxEVI.tif',\n",
       " './data/all_layers\\\\corr_averageofminEVI.tif',\n",
       " './data/all_layers\\\\corr_averageofSOS.tif',\n",
       " './data/all_layers\\\\corr_maxEVIslope.tif',\n",
       " './data/all_layers\\\\corr_minEVIslope.tif',\n",
       " './data/all_layers\\\\corr_PhenTrendEOSslope.tif',\n",
       " './data/all_layers\\\\corr_PhenTrendLOSslope.tif',\n",
       " './data/all_layers\\\\corr_PhenTrendSOSslope.tif',\n",
       " './data/all_layers\\\\corr_Senegal_bdod_0-5cm_mean_clipped.tif',\n",
       " './data/all_layers\\\\corr_Senegal_bdod_100-200cm_mean_clipped.tif',\n",
       " './data/all_layers\\\\corr_Senegal_bdod_15-30cm_mean_clipped.tif',\n",
       " './data/all_layers\\\\corr_Senegal_bdod_30-60cm_mean_clipped.tif',\n",
       " './data/all_layers\\\\corr_Senegal_bdod_5-15cm_mean_clipped.tif',\n",
       " './data/all_layers\\\\corr_Senegal_bdod_60-100cm_mean_clipped.tif',\n",
       " './data/all_layers\\\\corr_Senegal_cec_0-5cm_mean_clipped.tif',\n",
       " './data/all_layers\\\\corr_Senegal_cec_100-200cm_mean_clipped.tif',\n",
       " './data/all_layers\\\\corr_Senegal_cec_15-30cm_mean_clipped.tif',\n",
       " './data/all_layers\\\\corr_Senegal_cec_30-60cm_mean_clipped.tif',\n",
       " './data/all_layers\\\\corr_Senegal_cec_5-15cm_mean_clipped.tif',\n",
       " './data/all_layers\\\\corr_Senegal_cec_60-100cm_mean_clipped.tif',\n",
       " './data/all_layers\\\\corr_Senegal_cfvo_0-5cm_mean_clipped.tif',\n",
       " './data/all_layers\\\\corr_Senegal_cfvo_100-200cm_mean_clipped.tif',\n",
       " './data/all_layers\\\\corr_Senegal_cfvo_15-30cm_mean_clipped.tif',\n",
       " './data/all_layers\\\\corr_Senegal_cfvo_30-60cm_mean_clipped.tif',\n",
       " './data/all_layers\\\\corr_Senegal_cfvo_5-15cm_mean_clipped.tif',\n",
       " './data/all_layers\\\\corr_Senegal_cfvo_60-100cm_mean_clipped.tif',\n",
       " './data/all_layers\\\\corr_Senegal_clay_0-5cm_mean_clipped.tif',\n",
       " './data/all_layers\\\\corr_Senegal_clay_100-200cm_mean_clipped.tif',\n",
       " './data/all_layers\\\\corr_Senegal_clay_15-30cm_mean_clipped.tif',\n",
       " './data/all_layers\\\\corr_Senegal_clay_30-60cm_mean_clipped.tif',\n",
       " './data/all_layers\\\\corr_Senegal_clay_5-15cm_mean_clipped.tif',\n",
       " './data/all_layers\\\\corr_Senegal_clay_60-100cm_mean_clipped.tif',\n",
       " './data/all_layers\\\\corr_Senegal_nitrogen_0-5cm_mean_clipped.tif',\n",
       " './data/all_layers\\\\corr_Senegal_nitrogen_100-200cm_mean_clipped.tif',\n",
       " './data/all_layers\\\\corr_Senegal_nitrogen_15-30cm_mean_clipped.tif',\n",
       " './data/all_layers\\\\corr_Senegal_nitrogen_30-60cm_mean_clipped.tif',\n",
       " './data/all_layers\\\\corr_Senegal_nitrogen_5-15cm_mean_clipped.tif',\n",
       " './data/all_layers\\\\corr_Senegal_nitrogen_60-100cm_mean_clipped.tif',\n",
       " './data/all_layers\\\\corr_Senegal_phh2o_0-5cm_mean_clipped.tif',\n",
       " './data/all_layers\\\\corr_Senegal_phh2o_100-200cm_mean_clipped.tif',\n",
       " './data/all_layers\\\\corr_Senegal_phh2o_15-30cm_mean_clipped.tif',\n",
       " './data/all_layers\\\\corr_Senegal_phh2o_30-60cm_mean_clipped.tif',\n",
       " './data/all_layers\\\\corr_Senegal_phh2o_5-15cm_mean_clipped.tif',\n",
       " './data/all_layers\\\\corr_Senegal_phh2o_60-100cm_mean_clipped.tif',\n",
       " './data/all_layers\\\\corr_Senegal_sand_0-5cm_mean_clipped.tif',\n",
       " './data/all_layers\\\\corr_Senegal_sand_100-200cm_mean_clipped.tif',\n",
       " './data/all_layers\\\\corr_Senegal_sand_15-30cm_mean_clipped.tif',\n",
       " './data/all_layers\\\\corr_Senegal_sand_30-60cm_mean_clipped.tif',\n",
       " './data/all_layers\\\\corr_Senegal_sand_5-15cm_mean_clipped.tif',\n",
       " './data/all_layers\\\\corr_Senegal_sand_60-100cm_mean_clipped.tif',\n",
       " './data/all_layers\\\\corr_Senegal_silt_0-5cm_mean_clipped.tif',\n",
       " './data/all_layers\\\\corr_Senegal_silt_100-200cm_mean_clipped.tif',\n",
       " './data/all_layers\\\\corr_Senegal_silt_15-30cm_mean_clipped.tif',\n",
       " './data/all_layers\\\\corr_Senegal_silt_30-60cm_mean_clipped.tif',\n",
       " './data/all_layers\\\\corr_Senegal_silt_5-15cm_mean_clipped.tif',\n",
       " './data/all_layers\\\\corr_Senegal_silt_60-100cm_mean_clipped.tif',\n",
       " './data/all_layers\\\\corr_Senegal_soc_0-5cm_mean_clipped.tif',\n",
       " './data/all_layers\\\\corr_Senegal_soc_100-200cm_mean_clipped.tif',\n",
       " './data/all_layers\\\\corr_Senegal_soc_15-30cm_mean_clipped.tif',\n",
       " './data/all_layers\\\\corr_Senegal_soc_30-60cm_mean_clipped.tif',\n",
       " './data/all_layers\\\\corr_Senegal_soc_5-15cm_mean_clipped.tif',\n",
       " './data/all_layers\\\\corr_Senegal_soc_60-100cm_mean_clipped.tif',\n",
       " './data/all_layers\\\\corr_STDofEOS.tif',\n",
       " './data/all_layers\\\\corr_STDofLOS.tif',\n",
       " './data/all_layers\\\\corr_stdofmaxEVI.tif',\n",
       " './data/all_layers\\\\corr_stdofminEVI.tif',\n",
       " './data/all_layers\\\\corr_STDofSOS.tif',\n",
       " './data/all_layers\\\\ET_senegal_corr_0.tif',\n",
       " './data/all_layers\\\\ET_senegal_corr_1.tif',\n",
       " './data/all_layers\\\\ET_senegal_corr_10.tif',\n",
       " './data/all_layers\\\\ET_senegal_corr_11.tif',\n",
       " './data/all_layers\\\\ET_senegal_corr_12.tif',\n",
       " './data/all_layers\\\\ET_senegal_corr_13.tif',\n",
       " './data/all_layers\\\\ET_senegal_corr_14.tif',\n",
       " './data/all_layers\\\\ET_senegal_corr_15.tif',\n",
       " './data/all_layers\\\\ET_senegal_corr_16.tif',\n",
       " './data/all_layers\\\\ET_senegal_corr_17.tif',\n",
       " './data/all_layers\\\\ET_senegal_corr_18.tif',\n",
       " './data/all_layers\\\\ET_senegal_corr_19.tif',\n",
       " './data/all_layers\\\\ET_senegal_corr_2.tif',\n",
       " './data/all_layers\\\\ET_senegal_corr_20.tif',\n",
       " './data/all_layers\\\\ET_senegal_corr_21.tif',\n",
       " './data/all_layers\\\\ET_senegal_corr_22.tif',\n",
       " './data/all_layers\\\\ET_senegal_corr_23.tif',\n",
       " './data/all_layers\\\\ET_senegal_corr_24.tif',\n",
       " './data/all_layers\\\\ET_senegal_corr_25.tif',\n",
       " './data/all_layers\\\\ET_senegal_corr_26.tif',\n",
       " './data/all_layers\\\\ET_senegal_corr_27.tif',\n",
       " './data/all_layers\\\\ET_senegal_corr_28.tif',\n",
       " './data/all_layers\\\\ET_senegal_corr_29.tif',\n",
       " './data/all_layers\\\\ET_senegal_corr_3.tif',\n",
       " './data/all_layers\\\\ET_senegal_corr_30.tif',\n",
       " './data/all_layers\\\\ET_senegal_corr_31.tif',\n",
       " './data/all_layers\\\\ET_senegal_corr_32.tif',\n",
       " './data/all_layers\\\\ET_senegal_corr_33.tif',\n",
       " './data/all_layers\\\\ET_senegal_corr_34.tif',\n",
       " './data/all_layers\\\\ET_senegal_corr_35.tif',\n",
       " './data/all_layers\\\\ET_senegal_corr_36.tif',\n",
       " './data/all_layers\\\\ET_senegal_corr_37.tif',\n",
       " './data/all_layers\\\\ET_senegal_corr_38.tif',\n",
       " './data/all_layers\\\\ET_senegal_corr_39.tif',\n",
       " './data/all_layers\\\\ET_senegal_corr_4.tif',\n",
       " './data/all_layers\\\\ET_senegal_corr_40.tif',\n",
       " './data/all_layers\\\\ET_senegal_corr_41.tif',\n",
       " './data/all_layers\\\\ET_senegal_corr_42.tif',\n",
       " './data/all_layers\\\\ET_senegal_corr_43.tif',\n",
       " './data/all_layers\\\\ET_senegal_corr_44.tif',\n",
       " './data/all_layers\\\\ET_senegal_corr_45.tif',\n",
       " './data/all_layers\\\\ET_senegal_corr_5.tif',\n",
       " './data/all_layers\\\\ET_senegal_corr_6.tif',\n",
       " './data/all_layers\\\\ET_senegal_corr_7.tif',\n",
       " './data/all_layers\\\\ET_senegal_corr_8.tif',\n",
       " './data/all_layers\\\\ET_senegal_corr_9.tif',\n",
       " './data/all_layers\\\\precip_senegal_0.tif',\n",
       " './data/all_layers\\\\precip_senegal_1.tif',\n",
       " './data/all_layers\\\\precip_senegal_10.tif',\n",
       " './data/all_layers\\\\precip_senegal_11.tif',\n",
       " './data/all_layers\\\\precip_senegal_12.tif',\n",
       " './data/all_layers\\\\precip_senegal_13.tif',\n",
       " './data/all_layers\\\\precip_senegal_14.tif',\n",
       " './data/all_layers\\\\precip_senegal_15.tif',\n",
       " './data/all_layers\\\\precip_senegal_16.tif',\n",
       " './data/all_layers\\\\precip_senegal_17.tif',\n",
       " './data/all_layers\\\\precip_senegal_18.tif',\n",
       " './data/all_layers\\\\precip_senegal_19.tif',\n",
       " './data/all_layers\\\\precip_senegal_2.tif',\n",
       " './data/all_layers\\\\precip_senegal_20.tif',\n",
       " './data/all_layers\\\\precip_senegal_21.tif',\n",
       " './data/all_layers\\\\precip_senegal_22.tif',\n",
       " './data/all_layers\\\\precip_senegal_23.tif',\n",
       " './data/all_layers\\\\precip_senegal_24.tif',\n",
       " './data/all_layers\\\\precip_senegal_25.tif',\n",
       " './data/all_layers\\\\precip_senegal_26.tif',\n",
       " './data/all_layers\\\\precip_senegal_27.tif',\n",
       " './data/all_layers\\\\precip_senegal_28.tif',\n",
       " './data/all_layers\\\\precip_senegal_29.tif',\n",
       " './data/all_layers\\\\precip_senegal_3.tif',\n",
       " './data/all_layers\\\\precip_senegal_30.tif',\n",
       " './data/all_layers\\\\precip_senegal_31.tif',\n",
       " './data/all_layers\\\\precip_senegal_32.tif',\n",
       " './data/all_layers\\\\precip_senegal_33.tif',\n",
       " './data/all_layers\\\\precip_senegal_34.tif',\n",
       " './data/all_layers\\\\precip_senegal_35.tif',\n",
       " './data/all_layers\\\\precip_senegal_36.tif',\n",
       " './data/all_layers\\\\precip_senegal_37.tif',\n",
       " './data/all_layers\\\\precip_senegal_38.tif',\n",
       " './data/all_layers\\\\precip_senegal_39.tif',\n",
       " './data/all_layers\\\\precip_senegal_4.tif',\n",
       " './data/all_layers\\\\precip_senegal_40.tif',\n",
       " './data/all_layers\\\\precip_senegal_41.tif',\n",
       " './data/all_layers\\\\precip_senegal_42.tif',\n",
       " './data/all_layers\\\\precip_senegal_43.tif',\n",
       " './data/all_layers\\\\precip_senegal_44.tif',\n",
       " './data/all_layers\\\\precip_senegal_45.tif',\n",
       " './data/all_layers\\\\precip_senegal_5.tif',\n",
       " './data/all_layers\\\\precip_senegal_6.tif',\n",
       " './data/all_layers\\\\precip_senegal_7.tif',\n",
       " './data/all_layers\\\\precip_senegal_8.tif',\n",
       " './data/all_layers\\\\precip_senegal_9.tif',\n",
       " './data/all_layers\\\\tmax_senegal_0.tif',\n",
       " './data/all_layers\\\\tmax_senegal_1.tif',\n",
       " './data/all_layers\\\\tmax_senegal_10.tif',\n",
       " './data/all_layers\\\\tmax_senegal_11.tif',\n",
       " './data/all_layers\\\\tmax_senegal_12.tif',\n",
       " './data/all_layers\\\\tmax_senegal_13.tif',\n",
       " './data/all_layers\\\\tmax_senegal_14.tif',\n",
       " './data/all_layers\\\\tmax_senegal_15.tif',\n",
       " './data/all_layers\\\\tmax_senegal_16.tif',\n",
       " './data/all_layers\\\\tmax_senegal_17.tif',\n",
       " './data/all_layers\\\\tmax_senegal_18.tif',\n",
       " './data/all_layers\\\\tmax_senegal_19.tif',\n",
       " './data/all_layers\\\\tmax_senegal_2.tif',\n",
       " './data/all_layers\\\\tmax_senegal_20.tif',\n",
       " './data/all_layers\\\\tmax_senegal_21.tif',\n",
       " './data/all_layers\\\\tmax_senegal_22.tif',\n",
       " './data/all_layers\\\\tmax_senegal_23.tif',\n",
       " './data/all_layers\\\\tmax_senegal_24.tif',\n",
       " './data/all_layers\\\\tmax_senegal_25.tif',\n",
       " './data/all_layers\\\\tmax_senegal_26.tif',\n",
       " './data/all_layers\\\\tmax_senegal_27.tif',\n",
       " './data/all_layers\\\\tmax_senegal_28.tif',\n",
       " './data/all_layers\\\\tmax_senegal_29.tif',\n",
       " './data/all_layers\\\\tmax_senegal_3.tif',\n",
       " './data/all_layers\\\\tmax_senegal_30.tif',\n",
       " './data/all_layers\\\\tmax_senegal_31.tif',\n",
       " './data/all_layers\\\\tmax_senegal_32.tif',\n",
       " './data/all_layers\\\\tmax_senegal_33.tif',\n",
       " './data/all_layers\\\\tmax_senegal_34.tif',\n",
       " './data/all_layers\\\\tmax_senegal_35.tif',\n",
       " './data/all_layers\\\\tmax_senegal_36.tif',\n",
       " './data/all_layers\\\\tmax_senegal_37.tif',\n",
       " './data/all_layers\\\\tmax_senegal_38.tif',\n",
       " './data/all_layers\\\\tmax_senegal_39.tif',\n",
       " './data/all_layers\\\\tmax_senegal_4.tif',\n",
       " './data/all_layers\\\\tmax_senegal_40.tif',\n",
       " './data/all_layers\\\\tmax_senegal_41.tif',\n",
       " './data/all_layers\\\\tmax_senegal_42.tif',\n",
       " './data/all_layers\\\\tmax_senegal_43.tif',\n",
       " './data/all_layers\\\\tmax_senegal_44.tif',\n",
       " './data/all_layers\\\\tmax_senegal_45.tif',\n",
       " './data/all_layers\\\\tmax_senegal_5.tif',\n",
       " './data/all_layers\\\\tmax_senegal_6.tif',\n",
       " './data/all_layers\\\\tmax_senegal_7.tif',\n",
       " './data/all_layers\\\\tmax_senegal_8.tif',\n",
       " './data/all_layers\\\\tmax_senegal_9.tif',\n",
       " './data/all_layers\\\\tmin_senegal_0.tif',\n",
       " './data/all_layers\\\\tmin_senegal_1.tif',\n",
       " './data/all_layers\\\\tmin_senegal_10.tif',\n",
       " './data/all_layers\\\\tmin_senegal_11.tif',\n",
       " './data/all_layers\\\\tmin_senegal_12.tif',\n",
       " './data/all_layers\\\\tmin_senegal_13.tif',\n",
       " './data/all_layers\\\\tmin_senegal_14.tif',\n",
       " './data/all_layers\\\\tmin_senegal_15.tif',\n",
       " './data/all_layers\\\\tmin_senegal_16.tif',\n",
       " './data/all_layers\\\\tmin_senegal_17.tif',\n",
       " './data/all_layers\\\\tmin_senegal_18.tif',\n",
       " './data/all_layers\\\\tmin_senegal_19.tif',\n",
       " './data/all_layers\\\\tmin_senegal_2.tif',\n",
       " './data/all_layers\\\\tmin_senegal_20.tif',\n",
       " './data/all_layers\\\\tmin_senegal_21.tif',\n",
       " './data/all_layers\\\\tmin_senegal_22.tif',\n",
       " './data/all_layers\\\\tmin_senegal_23.tif',\n",
       " './data/all_layers\\\\tmin_senegal_24.tif',\n",
       " './data/all_layers\\\\tmin_senegal_25.tif',\n",
       " './data/all_layers\\\\tmin_senegal_26.tif',\n",
       " './data/all_layers\\\\tmin_senegal_27.tif',\n",
       " './data/all_layers\\\\tmin_senegal_28.tif',\n",
       " './data/all_layers\\\\tmin_senegal_29.tif',\n",
       " './data/all_layers\\\\tmin_senegal_3.tif',\n",
       " './data/all_layers\\\\tmin_senegal_30.tif',\n",
       " './data/all_layers\\\\tmin_senegal_31.tif',\n",
       " './data/all_layers\\\\tmin_senegal_32.tif',\n",
       " './data/all_layers\\\\tmin_senegal_33.tif',\n",
       " './data/all_layers\\\\tmin_senegal_34.tif',\n",
       " './data/all_layers\\\\tmin_senegal_35.tif',\n",
       " './data/all_layers\\\\tmin_senegal_36.tif',\n",
       " './data/all_layers\\\\tmin_senegal_37.tif',\n",
       " './data/all_layers\\\\tmin_senegal_38.tif',\n",
       " './data/all_layers\\\\tmin_senegal_39.tif',\n",
       " './data/all_layers\\\\tmin_senegal_4.tif',\n",
       " './data/all_layers\\\\tmin_senegal_40.tif',\n",
       " './data/all_layers\\\\tmin_senegal_41.tif',\n",
       " './data/all_layers\\\\tmin_senegal_42.tif',\n",
       " './data/all_layers\\\\tmin_senegal_43.tif',\n",
       " './data/all_layers\\\\tmin_senegal_44.tif',\n",
       " './data/all_layers\\\\tmin_senegal_45.tif',\n",
       " './data/all_layers\\\\tmin_senegal_5.tif',\n",
       " './data/all_layers\\\\tmin_senegal_6.tif',\n",
       " './data/all_layers\\\\tmin_senegal_7.tif',\n",
       " './data/all_layers\\\\tmin_senegal_8.tif',\n",
       " './data/all_layers\\\\tmin_senegal_9.tif']"
      ]
     },
     "execution_count": 102,
     "metadata": {},
     "output_type": "execute_result"
    }
   ],
   "source": [
    "geotiff_list"
   ]
  },
  {
   "cell_type": "code",
   "execution_count": 103,
   "id": "770e1b20-6ce3-4b2a-8aeb-b161b17291b5",
   "metadata": {},
   "outputs": [],
   "source": [
    "outfile = r'C:\\Users\\carli\\OneDrive\\Documentos\\Proyectos_de_desarrollo_de_software\\Soil_climate_characterization\\data/all_layers.geojson'"
   ]
  },
  {
   "cell_type": "code",
   "execution_count": 104,
   "id": "c5df5cdf-7533-400c-8371-f0c4bdcdb6ef",
   "metadata": {},
   "outputs": [
    {
     "name": "stderr",
     "output_type": "stream",
     "text": [
      "C:\\Users\\carli\\anaconda3\\envs\\senegal\\lib\\site-packages\\pyproj\\crs\\crs.py:131: FutureWarning: '+init=<authority>:<code>' syntax is deprecated. '<authority>:<code>' is the preferred initialization method. When making the change, be mindful of axis order changes: https://pyproj4.github.io/pyproj/stable/gotchas.html#axis-order-changes-in-proj-6\n",
      "  in_crs_string = _prepare_from_proj_string(in_crs_string)\n"
     ]
    },
    {
     "ename": "UnicodeDecodeError",
     "evalue": "'utf-8' codec can't decode byte 0xf3 in position 105: invalid continuation byte",
     "output_type": "error",
     "traceback": [
      "\u001b[1;31m---------------------------------------------------------------------------\u001b[0m",
      "\u001b[1;31mUnicodeDecodeError\u001b[0m                        Traceback (most recent call last)",
      "\u001b[1;31mUnicodeDecodeError\u001b[0m: 'utf-8' codec can't decode byte 0xf3 in position 105: invalid continuation byte"
     ]
    },
    {
     "name": "stderr",
     "output_type": "stream",
     "text": [
      "Exception ignored in: 'fiona._env.log_error'\n",
      "UnicodeDecodeError: 'utf-8' codec can't decode byte 0xf3 in position 105: invalid continuation byte\n"
     ]
    },
    {
     "ename": "UnicodeDecodeError",
     "evalue": "'utf-8' codec can't decode byte 0xf3 in position 105: invalid continuation byte",
     "output_type": "error",
     "traceback": [
      "\u001b[1;31m---------------------------------------------------------------------------\u001b[0m",
      "\u001b[1;31mUnicodeDecodeError\u001b[0m                        Traceback (most recent call last)",
      "\u001b[1;31mUnicodeDecodeError\u001b[0m: 'utf-8' codec can't decode byte 0xf3 in position 105: invalid continuation byte"
     ]
    },
    {
     "name": "stderr",
     "output_type": "stream",
     "text": [
      "Exception ignored in: 'fiona._env.log_error'\n",
      "UnicodeDecodeError: 'utf-8' codec can't decode byte 0xf3 in position 105: invalid continuation byte\n"
     ]
    },
    {
     "ename": "UnicodeDecodeError",
     "evalue": "'utf-8' codec can't decode byte 0xf3 in position 110: invalid continuation byte",
     "output_type": "error",
     "traceback": [
      "\u001b[1;31m---------------------------------------------------------------------------\u001b[0m",
      "\u001b[1;31mUnicodeDecodeError\u001b[0m                        Traceback (most recent call last)",
      "\u001b[1;31mUnicodeDecodeError\u001b[0m: 'utf-8' codec can't decode byte 0xf3 in position 110: invalid continuation byte"
     ]
    },
    {
     "name": "stderr",
     "output_type": "stream",
     "text": [
      "Exception ignored in: 'fiona._env.log_error'\n",
      "UnicodeDecodeError: 'utf-8' codec can't decode byte 0xf3 in position 110: invalid continuation byte\n"
     ]
    },
    {
     "ename": "UnicodeDecodeError",
     "evalue": "'utf-8' codec can't decode byte 0xf3 in position 110: invalid continuation byte",
     "output_type": "error",
     "traceback": [
      "\u001b[1;31m---------------------------------------------------------------------------\u001b[0m",
      "\u001b[1;31mUnicodeDecodeError\u001b[0m                        Traceback (most recent call last)",
      "\u001b[1;31mUnicodeDecodeError\u001b[0m: 'utf-8' codec can't decode byte 0xf3 in position 110: invalid continuation byte"
     ]
    },
    {
     "name": "stderr",
     "output_type": "stream",
     "text": [
      "Exception ignored in: 'fiona._env.log_error'\n",
      "UnicodeDecodeError: 'utf-8' codec can't decode byte 0xf3 in position 110: invalid continuation byte\n"
     ]
    },
    {
     "ename": "UnicodeDecodeError",
     "evalue": "'utf-8' codec can't decode byte 0xf3 in position 101: invalid continuation byte",
     "output_type": "error",
     "traceback": [
      "\u001b[1;31m---------------------------------------------------------------------------\u001b[0m",
      "\u001b[1;31mUnicodeDecodeError\u001b[0m                        Traceback (most recent call last)",
      "\u001b[1;31mUnicodeDecodeError\u001b[0m: 'utf-8' codec can't decode byte 0xf3 in position 101: invalid continuation byte"
     ]
    },
    {
     "name": "stderr",
     "output_type": "stream",
     "text": [
      "Exception ignored in: 'fiona._env.log_error'\n",
      "UnicodeDecodeError: 'utf-8' codec can't decode byte 0xf3 in position 101: invalid continuation byte\n"
     ]
    },
    {
     "ename": "UnicodeDecodeError",
     "evalue": "'utf-8' codec can't decode byte 0xf3 in position 101: invalid continuation byte",
     "output_type": "error",
     "traceback": [
      "\u001b[1;31m---------------------------------------------------------------------------\u001b[0m",
      "\u001b[1;31mUnicodeDecodeError\u001b[0m                        Traceback (most recent call last)",
      "\u001b[1;31mUnicodeDecodeError\u001b[0m: 'utf-8' codec can't decode byte 0xf3 in position 101: invalid continuation byte"
     ]
    },
    {
     "name": "stderr",
     "output_type": "stream",
     "text": [
      "Exception ignored in: 'fiona._env.log_error'\n",
      "UnicodeDecodeError: 'utf-8' codec can't decode byte 0xf3 in position 101: invalid continuation byte\n"
     ]
    },
    {
     "ename": "UnicodeDecodeError",
     "evalue": "'utf-8' codec can't decode byte 0xf3 in position 100: invalid continuation byte",
     "output_type": "error",
     "traceback": [
      "\u001b[1;31m---------------------------------------------------------------------------\u001b[0m",
      "\u001b[1;31mUnicodeDecodeError\u001b[0m                        Traceback (most recent call last)",
      "\u001b[1;31mUnicodeDecodeError\u001b[0m: 'utf-8' codec can't decode byte 0xf3 in position 100: invalid continuation byte"
     ]
    },
    {
     "name": "stderr",
     "output_type": "stream",
     "text": [
      "Exception ignored in: 'fiona._env.log_error'\n",
      "UnicodeDecodeError: 'utf-8' codec can't decode byte 0xf3 in position 100: invalid continuation byte\n"
     ]
    },
    {
     "ename": "UnicodeDecodeError",
     "evalue": "'utf-8' codec can't decode byte 0xf3 in position 100: invalid continuation byte",
     "output_type": "error",
     "traceback": [
      "\u001b[1;31m---------------------------------------------------------------------------\u001b[0m",
      "\u001b[1;31mUnicodeDecodeError\u001b[0m                        Traceback (most recent call last)",
      "\u001b[1;31mUnicodeDecodeError\u001b[0m: 'utf-8' codec can't decode byte 0xf3 in position 100: invalid continuation byte"
     ]
    },
    {
     "name": "stderr",
     "output_type": "stream",
     "text": [
      "Exception ignored in: 'fiona._env.log_error'\n",
      "UnicodeDecodeError: 'utf-8' codec can't decode byte 0xf3 in position 100: invalid continuation byte\n"
     ]
    },
    {
     "ename": "UnicodeDecodeError",
     "evalue": "'utf-8' codec can't decode byte 0xf3 in position 105: invalid continuation byte",
     "output_type": "error",
     "traceback": [
      "\u001b[1;31m---------------------------------------------------------------------------\u001b[0m",
      "\u001b[1;31mUnicodeDecodeError\u001b[0m                        Traceback (most recent call last)",
      "\u001b[1;31mUnicodeDecodeError\u001b[0m: 'utf-8' codec can't decode byte 0xf3 in position 105: invalid continuation byte"
     ]
    },
    {
     "name": "stderr",
     "output_type": "stream",
     "text": [
      "Exception ignored in: 'fiona._env.log_error'\n",
      "UnicodeDecodeError: 'utf-8' codec can't decode byte 0xf3 in position 105: invalid continuation byte\n"
     ]
    },
    {
     "ename": "UnicodeDecodeError",
     "evalue": "'utf-8' codec can't decode byte 0xf3 in position 105: invalid continuation byte",
     "output_type": "error",
     "traceback": [
      "\u001b[1;31m---------------------------------------------------------------------------\u001b[0m",
      "\u001b[1;31mUnicodeDecodeError\u001b[0m                        Traceback (most recent call last)",
      "\u001b[1;31mUnicodeDecodeError\u001b[0m: 'utf-8' codec can't decode byte 0xf3 in position 105: invalid continuation byte"
     ]
    },
    {
     "name": "stderr",
     "output_type": "stream",
     "text": [
      "Exception ignored in: 'fiona._env.log_error'\n",
      "UnicodeDecodeError: 'utf-8' codec can't decode byte 0xf3 in position 105: invalid continuation byte\n"
     ]
    },
    {
     "ename": "UnicodeDecodeError",
     "evalue": "'utf-8' codec can't decode byte 0xf3 in position 110: invalid continuation byte",
     "output_type": "error",
     "traceback": [
      "\u001b[1;31m---------------------------------------------------------------------------\u001b[0m",
      "\u001b[1;31mUnicodeDecodeError\u001b[0m                        Traceback (most recent call last)",
      "\u001b[1;31mUnicodeDecodeError\u001b[0m: 'utf-8' codec can't decode byte 0xf3 in position 110: invalid continuation byte"
     ]
    },
    {
     "name": "stderr",
     "output_type": "stream",
     "text": [
      "Exception ignored in: 'fiona._env.log_error'\n",
      "UnicodeDecodeError: 'utf-8' codec can't decode byte 0xf3 in position 110: invalid continuation byte\n"
     ]
    },
    {
     "ename": "UnicodeDecodeError",
     "evalue": "'utf-8' codec can't decode byte 0xf3 in position 110: invalid continuation byte",
     "output_type": "error",
     "traceback": [
      "\u001b[1;31m---------------------------------------------------------------------------\u001b[0m",
      "\u001b[1;31mUnicodeDecodeError\u001b[0m                        Traceback (most recent call last)",
      "\u001b[1;31mUnicodeDecodeError\u001b[0m: 'utf-8' codec can't decode byte 0xf3 in position 110: invalid continuation byte"
     ]
    },
    {
     "name": "stderr",
     "output_type": "stream",
     "text": [
      "Exception ignored in: 'fiona._env.log_error'\n",
      "UnicodeDecodeError: 'utf-8' codec can't decode byte 0xf3 in position 110: invalid continuation byte\n"
     ]
    },
    {
     "ename": "UnicodeDecodeError",
     "evalue": "'utf-8' codec can't decode byte 0xf3 in position 101: invalid continuation byte",
     "output_type": "error",
     "traceback": [
      "\u001b[1;31m---------------------------------------------------------------------------\u001b[0m",
      "\u001b[1;31mUnicodeDecodeError\u001b[0m                        Traceback (most recent call last)",
      "\u001b[1;31mUnicodeDecodeError\u001b[0m: 'utf-8' codec can't decode byte 0xf3 in position 101: invalid continuation byte"
     ]
    },
    {
     "name": "stderr",
     "output_type": "stream",
     "text": [
      "Exception ignored in: 'fiona._env.log_error'\n",
      "UnicodeDecodeError: 'utf-8' codec can't decode byte 0xf3 in position 101: invalid continuation byte\n"
     ]
    },
    {
     "ename": "UnicodeDecodeError",
     "evalue": "'utf-8' codec can't decode byte 0xf3 in position 101: invalid continuation byte",
     "output_type": "error",
     "traceback": [
      "\u001b[1;31m---------------------------------------------------------------------------\u001b[0m",
      "\u001b[1;31mUnicodeDecodeError\u001b[0m                        Traceback (most recent call last)",
      "\u001b[1;31mUnicodeDecodeError\u001b[0m: 'utf-8' codec can't decode byte 0xf3 in position 101: invalid continuation byte"
     ]
    },
    {
     "name": "stderr",
     "output_type": "stream",
     "text": [
      "Exception ignored in: 'fiona._env.log_error'\n",
      "UnicodeDecodeError: 'utf-8' codec can't decode byte 0xf3 in position 101: invalid continuation byte\n"
     ]
    },
    {
     "ename": "UnicodeDecodeError",
     "evalue": "'utf-8' codec can't decode byte 0xf3 in position 100: invalid continuation byte",
     "output_type": "error",
     "traceback": [
      "\u001b[1;31m---------------------------------------------------------------------------\u001b[0m",
      "\u001b[1;31mUnicodeDecodeError\u001b[0m                        Traceback (most recent call last)",
      "\u001b[1;31mUnicodeDecodeError\u001b[0m: 'utf-8' codec can't decode byte 0xf3 in position 100: invalid continuation byte"
     ]
    },
    {
     "name": "stderr",
     "output_type": "stream",
     "text": [
      "Exception ignored in: 'fiona._env.log_error'\n",
      "UnicodeDecodeError: 'utf-8' codec can't decode byte 0xf3 in position 100: invalid continuation byte\n"
     ]
    },
    {
     "ename": "UnicodeDecodeError",
     "evalue": "'utf-8' codec can't decode byte 0xf3 in position 100: invalid continuation byte",
     "output_type": "error",
     "traceback": [
      "\u001b[1;31m---------------------------------------------------------------------------\u001b[0m",
      "\u001b[1;31mUnicodeDecodeError\u001b[0m                        Traceback (most recent call last)",
      "\u001b[1;31mUnicodeDecodeError\u001b[0m: 'utf-8' codec can't decode byte 0xf3 in position 100: invalid continuation byte"
     ]
    },
    {
     "name": "stderr",
     "output_type": "stream",
     "text": [
      "Exception ignored in: 'fiona._env.log_error'\n",
      "UnicodeDecodeError: 'utf-8' codec can't decode byte 0xf3 in position 100: invalid continuation byte\n"
     ]
    },
    {
     "ename": "UnicodeDecodeError",
     "evalue": "'utf-8' codec can't decode byte 0xf3 in position 105: invalid continuation byte",
     "output_type": "error",
     "traceback": [
      "\u001b[1;31m---------------------------------------------------------------------------\u001b[0m",
      "\u001b[1;31mUnicodeDecodeError\u001b[0m                        Traceback (most recent call last)",
      "\u001b[1;31mUnicodeDecodeError\u001b[0m: 'utf-8' codec can't decode byte 0xf3 in position 105: invalid continuation byte"
     ]
    },
    {
     "name": "stderr",
     "output_type": "stream",
     "text": [
      "Exception ignored in: 'fiona._env.log_error'\n",
      "UnicodeDecodeError: 'utf-8' codec can't decode byte 0xf3 in position 105: invalid continuation byte\n"
     ]
    },
    {
     "ename": "UnicodeDecodeError",
     "evalue": "'utf-8' codec can't decode byte 0xf3 in position 105: invalid continuation byte",
     "output_type": "error",
     "traceback": [
      "\u001b[1;31m---------------------------------------------------------------------------\u001b[0m",
      "\u001b[1;31mUnicodeDecodeError\u001b[0m                        Traceback (most recent call last)",
      "\u001b[1;31mUnicodeDecodeError\u001b[0m: 'utf-8' codec can't decode byte 0xf3 in position 105: invalid continuation byte"
     ]
    },
    {
     "name": "stderr",
     "output_type": "stream",
     "text": [
      "Exception ignored in: 'fiona._env.log_error'\n",
      "UnicodeDecodeError: 'utf-8' codec can't decode byte 0xf3 in position 105: invalid continuation byte\n"
     ]
    },
    {
     "ename": "UnicodeDecodeError",
     "evalue": "'utf-8' codec can't decode byte 0xf3 in position 110: invalid continuation byte",
     "output_type": "error",
     "traceback": [
      "\u001b[1;31m---------------------------------------------------------------------------\u001b[0m",
      "\u001b[1;31mUnicodeDecodeError\u001b[0m                        Traceback (most recent call last)",
      "\u001b[1;31mUnicodeDecodeError\u001b[0m: 'utf-8' codec can't decode byte 0xf3 in position 110: invalid continuation byte"
     ]
    },
    {
     "name": "stderr",
     "output_type": "stream",
     "text": [
      "Exception ignored in: 'fiona._env.log_error'\n",
      "UnicodeDecodeError: 'utf-8' codec can't decode byte 0xf3 in position 110: invalid continuation byte\n"
     ]
    },
    {
     "ename": "UnicodeDecodeError",
     "evalue": "'utf-8' codec can't decode byte 0xf3 in position 110: invalid continuation byte",
     "output_type": "error",
     "traceback": [
      "\u001b[1;31m---------------------------------------------------------------------------\u001b[0m",
      "\u001b[1;31mUnicodeDecodeError\u001b[0m                        Traceback (most recent call last)",
      "\u001b[1;31mUnicodeDecodeError\u001b[0m: 'utf-8' codec can't decode byte 0xf3 in position 110: invalid continuation byte"
     ]
    },
    {
     "name": "stderr",
     "output_type": "stream",
     "text": [
      "Exception ignored in: 'fiona._env.log_error'\n",
      "UnicodeDecodeError: 'utf-8' codec can't decode byte 0xf3 in position 110: invalid continuation byte\n"
     ]
    },
    {
     "ename": "UnicodeDecodeError",
     "evalue": "'utf-8' codec can't decode byte 0xf3 in position 101: invalid continuation byte",
     "output_type": "error",
     "traceback": [
      "\u001b[1;31m---------------------------------------------------------------------------\u001b[0m",
      "\u001b[1;31mUnicodeDecodeError\u001b[0m                        Traceback (most recent call last)",
      "\u001b[1;31mUnicodeDecodeError\u001b[0m: 'utf-8' codec can't decode byte 0xf3 in position 101: invalid continuation byte"
     ]
    },
    {
     "name": "stderr",
     "output_type": "stream",
     "text": [
      "Exception ignored in: 'fiona._env.log_error'\n",
      "UnicodeDecodeError: 'utf-8' codec can't decode byte 0xf3 in position 101: invalid continuation byte\n"
     ]
    },
    {
     "ename": "UnicodeDecodeError",
     "evalue": "'utf-8' codec can't decode byte 0xf3 in position 101: invalid continuation byte",
     "output_type": "error",
     "traceback": [
      "\u001b[1;31m---------------------------------------------------------------------------\u001b[0m",
      "\u001b[1;31mUnicodeDecodeError\u001b[0m                        Traceback (most recent call last)",
      "\u001b[1;31mUnicodeDecodeError\u001b[0m: 'utf-8' codec can't decode byte 0xf3 in position 101: invalid continuation byte"
     ]
    },
    {
     "name": "stderr",
     "output_type": "stream",
     "text": [
      "Exception ignored in: 'fiona._env.log_error'\n",
      "UnicodeDecodeError: 'utf-8' codec can't decode byte 0xf3 in position 101: invalid continuation byte\n"
     ]
    },
    {
     "ename": "UnicodeDecodeError",
     "evalue": "'utf-8' codec can't decode byte 0xf3 in position 100: invalid continuation byte",
     "output_type": "error",
     "traceback": [
      "\u001b[1;31m---------------------------------------------------------------------------\u001b[0m",
      "\u001b[1;31mUnicodeDecodeError\u001b[0m                        Traceback (most recent call last)",
      "\u001b[1;31mUnicodeDecodeError\u001b[0m: 'utf-8' codec can't decode byte 0xf3 in position 100: invalid continuation byte"
     ]
    },
    {
     "name": "stderr",
     "output_type": "stream",
     "text": [
      "Exception ignored in: 'fiona._env.log_error'\n",
      "UnicodeDecodeError: 'utf-8' codec can't decode byte 0xf3 in position 100: invalid continuation byte\n"
     ]
    },
    {
     "ename": "UnicodeDecodeError",
     "evalue": "'utf-8' codec can't decode byte 0xf3 in position 100: invalid continuation byte",
     "output_type": "error",
     "traceback": [
      "\u001b[1;31m---------------------------------------------------------------------------\u001b[0m",
      "\u001b[1;31mUnicodeDecodeError\u001b[0m                        Traceback (most recent call last)",
      "\u001b[1;31mUnicodeDecodeError\u001b[0m: 'utf-8' codec can't decode byte 0xf3 in position 100: invalid continuation byte"
     ]
    },
    {
     "name": "stderr",
     "output_type": "stream",
     "text": [
      "Exception ignored in: 'fiona._env.log_error'\n",
      "UnicodeDecodeError: 'utf-8' codec can't decode byte 0xf3 in position 100: invalid continuation byte\n"
     ]
    },
    {
     "ename": "UnicodeDecodeError",
     "evalue": "'utf-8' codec can't decode byte 0xf3 in position 105: invalid continuation byte",
     "output_type": "error",
     "traceback": [
      "\u001b[1;31m---------------------------------------------------------------------------\u001b[0m",
      "\u001b[1;31mUnicodeDecodeError\u001b[0m                        Traceback (most recent call last)",
      "\u001b[1;31mUnicodeDecodeError\u001b[0m: 'utf-8' codec can't decode byte 0xf3 in position 105: invalid continuation byte"
     ]
    },
    {
     "name": "stderr",
     "output_type": "stream",
     "text": [
      "Exception ignored in: 'fiona._env.log_error'\n",
      "UnicodeDecodeError: 'utf-8' codec can't decode byte 0xf3 in position 105: invalid continuation byte\n"
     ]
    },
    {
     "ename": "UnicodeDecodeError",
     "evalue": "'utf-8' codec can't decode byte 0xf3 in position 105: invalid continuation byte",
     "output_type": "error",
     "traceback": [
      "\u001b[1;31m---------------------------------------------------------------------------\u001b[0m",
      "\u001b[1;31mUnicodeDecodeError\u001b[0m                        Traceback (most recent call last)",
      "\u001b[1;31mUnicodeDecodeError\u001b[0m: 'utf-8' codec can't decode byte 0xf3 in position 105: invalid continuation byte"
     ]
    },
    {
     "name": "stderr",
     "output_type": "stream",
     "text": [
      "Exception ignored in: 'fiona._env.log_error'\n",
      "UnicodeDecodeError: 'utf-8' codec can't decode byte 0xf3 in position 105: invalid continuation byte\n"
     ]
    },
    {
     "ename": "UnicodeDecodeError",
     "evalue": "'utf-8' codec can't decode byte 0xf3 in position 110: invalid continuation byte",
     "output_type": "error",
     "traceback": [
      "\u001b[1;31m---------------------------------------------------------------------------\u001b[0m",
      "\u001b[1;31mUnicodeDecodeError\u001b[0m                        Traceback (most recent call last)",
      "\u001b[1;31mUnicodeDecodeError\u001b[0m: 'utf-8' codec can't decode byte 0xf3 in position 110: invalid continuation byte"
     ]
    },
    {
     "name": "stderr",
     "output_type": "stream",
     "text": [
      "Exception ignored in: 'fiona._env.log_error'\n",
      "UnicodeDecodeError: 'utf-8' codec can't decode byte 0xf3 in position 110: invalid continuation byte\n"
     ]
    },
    {
     "ename": "UnicodeDecodeError",
     "evalue": "'utf-8' codec can't decode byte 0xf3 in position 110: invalid continuation byte",
     "output_type": "error",
     "traceback": [
      "\u001b[1;31m---------------------------------------------------------------------------\u001b[0m",
      "\u001b[1;31mUnicodeDecodeError\u001b[0m                        Traceback (most recent call last)",
      "\u001b[1;31mUnicodeDecodeError\u001b[0m: 'utf-8' codec can't decode byte 0xf3 in position 110: invalid continuation byte"
     ]
    },
    {
     "name": "stderr",
     "output_type": "stream",
     "text": [
      "Exception ignored in: 'fiona._env.log_error'\n",
      "UnicodeDecodeError: 'utf-8' codec can't decode byte 0xf3 in position 110: invalid continuation byte\n"
     ]
    },
    {
     "ename": "UnicodeDecodeError",
     "evalue": "'utf-8' codec can't decode byte 0xf3 in position 101: invalid continuation byte",
     "output_type": "error",
     "traceback": [
      "\u001b[1;31m---------------------------------------------------------------------------\u001b[0m",
      "\u001b[1;31mUnicodeDecodeError\u001b[0m                        Traceback (most recent call last)",
      "\u001b[1;31mUnicodeDecodeError\u001b[0m: 'utf-8' codec can't decode byte 0xf3 in position 101: invalid continuation byte"
     ]
    },
    {
     "name": "stderr",
     "output_type": "stream",
     "text": [
      "Exception ignored in: 'fiona._env.log_error'\n",
      "UnicodeDecodeError: 'utf-8' codec can't decode byte 0xf3 in position 101: invalid continuation byte\n"
     ]
    },
    {
     "ename": "UnicodeDecodeError",
     "evalue": "'utf-8' codec can't decode byte 0xf3 in position 101: invalid continuation byte",
     "output_type": "error",
     "traceback": [
      "\u001b[1;31m---------------------------------------------------------------------------\u001b[0m",
      "\u001b[1;31mUnicodeDecodeError\u001b[0m                        Traceback (most recent call last)",
      "\u001b[1;31mUnicodeDecodeError\u001b[0m: 'utf-8' codec can't decode byte 0xf3 in position 101: invalid continuation byte"
     ]
    },
    {
     "name": "stderr",
     "output_type": "stream",
     "text": [
      "Exception ignored in: 'fiona._env.log_error'\n",
      "UnicodeDecodeError: 'utf-8' codec can't decode byte 0xf3 in position 101: invalid continuation byte\n"
     ]
    },
    {
     "ename": "UnicodeDecodeError",
     "evalue": "'utf-8' codec can't decode byte 0xf3 in position 100: invalid continuation byte",
     "output_type": "error",
     "traceback": [
      "\u001b[1;31m---------------------------------------------------------------------------\u001b[0m",
      "\u001b[1;31mUnicodeDecodeError\u001b[0m                        Traceback (most recent call last)",
      "\u001b[1;31mUnicodeDecodeError\u001b[0m: 'utf-8' codec can't decode byte 0xf3 in position 100: invalid continuation byte"
     ]
    },
    {
     "name": "stderr",
     "output_type": "stream",
     "text": [
      "Exception ignored in: 'fiona._env.log_error'\n",
      "UnicodeDecodeError: 'utf-8' codec can't decode byte 0xf3 in position 100: invalid continuation byte\n"
     ]
    },
    {
     "ename": "UnicodeDecodeError",
     "evalue": "'utf-8' codec can't decode byte 0xf3 in position 100: invalid continuation byte",
     "output_type": "error",
     "traceback": [
      "\u001b[1;31m---------------------------------------------------------------------------\u001b[0m",
      "\u001b[1;31mUnicodeDecodeError\u001b[0m                        Traceback (most recent call last)",
      "\u001b[1;31mUnicodeDecodeError\u001b[0m: 'utf-8' codec can't decode byte 0xf3 in position 100: invalid continuation byte"
     ]
    },
    {
     "name": "stderr",
     "output_type": "stream",
     "text": [
      "Exception ignored in: 'fiona._env.log_error'\n",
      "UnicodeDecodeError: 'utf-8' codec can't decode byte 0xf3 in position 100: invalid continuation byte\n"
     ]
    },
    {
     "data": {
      "text/html": [
       "<div>\n",
       "<style scoped>\n",
       "    .dataframe tbody tr th:only-of-type {\n",
       "        vertical-align: middle;\n",
       "    }\n",
       "\n",
       "    .dataframe tbody tr th {\n",
       "        vertical-align: top;\n",
       "    }\n",
       "\n",
       "    .dataframe thead th {\n",
       "        text-align: right;\n",
       "    }\n",
       "</style>\n",
       "<table border=\"1\" class=\"dataframe\">\n",
       "  <thead>\n",
       "    <tr style=\"text-align: right;\">\n",
       "      <th></th>\n",
       "      <th>Longitude</th>\n",
       "      <th>Latitude</th>\n",
       "      <th>corr_averageofEOS</th>\n",
       "      <th>corr_averageofLOS</th>\n",
       "      <th>corr_averageofmaxEVI</th>\n",
       "      <th>corr_averageofminEVI</th>\n",
       "      <th>corr_averageofSOS</th>\n",
       "      <th>corr_maxEVIslope</th>\n",
       "      <th>corr_minEVIslope</th>\n",
       "      <th>corr_PhenTrendEOSslope</th>\n",
       "      <th>...</th>\n",
       "      <th>tmin_senegal_42</th>\n",
       "      <th>tmin_senegal_43</th>\n",
       "      <th>tmin_senegal_44</th>\n",
       "      <th>tmin_senegal_45</th>\n",
       "      <th>tmin_senegal_5</th>\n",
       "      <th>tmin_senegal_6</th>\n",
       "      <th>tmin_senegal_7</th>\n",
       "      <th>tmin_senegal_8</th>\n",
       "      <th>tmin_senegal_9</th>\n",
       "      <th>geometry</th>\n",
       "    </tr>\n",
       "  </thead>\n",
       "  <tbody>\n",
       "    <tr>\n",
       "      <th>1</th>\n",
       "      <td>-16.725000</td>\n",
       "      <td>12.374998</td>\n",
       "      <td>291.42</td>\n",
       "      <td>113.16</td>\n",
       "      <td>0.49</td>\n",
       "      <td>0.44</td>\n",
       "      <td>178.26</td>\n",
       "      <td>0.00</td>\n",
       "      <td>0.0</td>\n",
       "      <td>0.0</td>\n",
       "      <td>...</td>\n",
       "      <td>25.60</td>\n",
       "      <td>24.82</td>\n",
       "      <td>24.24</td>\n",
       "      <td>23.70</td>\n",
       "      <td>25.24</td>\n",
       "      <td>25.30</td>\n",
       "      <td>25.42</td>\n",
       "      <td>25.29</td>\n",
       "      <td>25.29</td>\n",
       "      <td>POINT (-16.72500 12.37500)</td>\n",
       "    </tr>\n",
       "    <tr>\n",
       "      <th>2</th>\n",
       "      <td>-16.675000</td>\n",
       "      <td>12.374998</td>\n",
       "      <td>280.78</td>\n",
       "      <td>129.44</td>\n",
       "      <td>0.36</td>\n",
       "      <td>0.16</td>\n",
       "      <td>151.33</td>\n",
       "      <td>0.00</td>\n",
       "      <td>0.0</td>\n",
       "      <td>0.0</td>\n",
       "      <td>...</td>\n",
       "      <td>24.73</td>\n",
       "      <td>23.94</td>\n",
       "      <td>23.39</td>\n",
       "      <td>22.88</td>\n",
       "      <td>24.39</td>\n",
       "      <td>24.50</td>\n",
       "      <td>24.68</td>\n",
       "      <td>24.59</td>\n",
       "      <td>24.61</td>\n",
       "      <td>POINT (-16.67500 12.37500)</td>\n",
       "    </tr>\n",
       "    <tr>\n",
       "      <th>3</th>\n",
       "      <td>-16.625000</td>\n",
       "      <td>12.374998</td>\n",
       "      <td>276.05</td>\n",
       "      <td>115.11</td>\n",
       "      <td>0.54</td>\n",
       "      <td>0.27</td>\n",
       "      <td>160.95</td>\n",
       "      <td>0.00</td>\n",
       "      <td>0.0</td>\n",
       "      <td>0.0</td>\n",
       "      <td>...</td>\n",
       "      <td>23.34</td>\n",
       "      <td>22.56</td>\n",
       "      <td>22.04</td>\n",
       "      <td>21.56</td>\n",
       "      <td>22.90</td>\n",
       "      <td>23.08</td>\n",
       "      <td>23.28</td>\n",
       "      <td>23.23</td>\n",
       "      <td>23.27</td>\n",
       "      <td>POINT (-16.62500 12.37500)</td>\n",
       "    </tr>\n",
       "    <tr>\n",
       "      <th>4</th>\n",
       "      <td>-16.575000</td>\n",
       "      <td>12.374998</td>\n",
       "      <td>279.56</td>\n",
       "      <td>112.28</td>\n",
       "      <td>0.59</td>\n",
       "      <td>0.37</td>\n",
       "      <td>167.28</td>\n",
       "      <td>0.00</td>\n",
       "      <td>0.0</td>\n",
       "      <td>0.0</td>\n",
       "      <td>...</td>\n",
       "      <td>21.76</td>\n",
       "      <td>20.98</td>\n",
       "      <td>20.49</td>\n",
       "      <td>20.06</td>\n",
       "      <td>21.12</td>\n",
       "      <td>21.40</td>\n",
       "      <td>21.65</td>\n",
       "      <td>21.66</td>\n",
       "      <td>21.73</td>\n",
       "      <td>POINT (-16.57500 12.37500)</td>\n",
       "    </tr>\n",
       "    <tr>\n",
       "      <th>5</th>\n",
       "      <td>-16.525000</td>\n",
       "      <td>12.374998</td>\n",
       "      <td>288.44</td>\n",
       "      <td>108.61</td>\n",
       "      <td>0.56</td>\n",
       "      <td>0.34</td>\n",
       "      <td>179.83</td>\n",
       "      <td>0.00</td>\n",
       "      <td>0.0</td>\n",
       "      <td>0.0</td>\n",
       "      <td>...</td>\n",
       "      <td>20.49</td>\n",
       "      <td>19.72</td>\n",
       "      <td>19.26</td>\n",
       "      <td>18.87</td>\n",
       "      <td>19.78</td>\n",
       "      <td>20.14</td>\n",
       "      <td>20.39</td>\n",
       "      <td>20.43</td>\n",
       "      <td>20.53</td>\n",
       "      <td>POINT (-16.52500 12.37500)</td>\n",
       "    </tr>\n",
       "    <tr>\n",
       "      <th>...</th>\n",
       "      <td>...</td>\n",
       "      <td>...</td>\n",
       "      <td>...</td>\n",
       "      <td>...</td>\n",
       "      <td>...</td>\n",
       "      <td>...</td>\n",
       "      <td>...</td>\n",
       "      <td>...</td>\n",
       "      <td>...</td>\n",
       "      <td>...</td>\n",
       "      <td>...</td>\n",
       "      <td>...</td>\n",
       "      <td>...</td>\n",
       "      <td>...</td>\n",
       "      <td>...</td>\n",
       "      <td>...</td>\n",
       "      <td>...</td>\n",
       "      <td>...</td>\n",
       "      <td>...</td>\n",
       "      <td>...</td>\n",
       "      <td>...</td>\n",
       "    </tr>\n",
       "    <tr>\n",
       "      <th>6568</th>\n",
       "      <td>-14.625001</td>\n",
       "      <td>16.624998</td>\n",
       "      <td>0.00</td>\n",
       "      <td>0.00</td>\n",
       "      <td>0.16</td>\n",
       "      <td>-0.03</td>\n",
       "      <td>0.00</td>\n",
       "      <td>0.01</td>\n",
       "      <td>0.0</td>\n",
       "      <td>0.0</td>\n",
       "      <td>...</td>\n",
       "      <td>21.29</td>\n",
       "      <td>20.35</td>\n",
       "      <td>20.01</td>\n",
       "      <td>19.41</td>\n",
       "      <td>20.77</td>\n",
       "      <td>21.53</td>\n",
       "      <td>21.81</td>\n",
       "      <td>22.61</td>\n",
       "      <td>23.02</td>\n",
       "      <td>POINT (-14.62500 16.62500)</td>\n",
       "    </tr>\n",
       "    <tr>\n",
       "      <th>6569</th>\n",
       "      <td>-14.525001</td>\n",
       "      <td>16.624998</td>\n",
       "      <td>0.00</td>\n",
       "      <td>0.00</td>\n",
       "      <td>0.16</td>\n",
       "      <td>0.12</td>\n",
       "      <td>0.00</td>\n",
       "      <td>0.00</td>\n",
       "      <td>0.0</td>\n",
       "      <td>0.0</td>\n",
       "      <td>...</td>\n",
       "      <td>21.28</td>\n",
       "      <td>20.31</td>\n",
       "      <td>19.99</td>\n",
       "      <td>19.38</td>\n",
       "      <td>20.78</td>\n",
       "      <td>21.54</td>\n",
       "      <td>21.82</td>\n",
       "      <td>22.64</td>\n",
       "      <td>23.07</td>\n",
       "      <td>POINT (-14.52500 16.62500)</td>\n",
       "    </tr>\n",
       "    <tr>\n",
       "      <th>6571</th>\n",
       "      <td>-14.425001</td>\n",
       "      <td>16.624998</td>\n",
       "      <td>0.00</td>\n",
       "      <td>0.00</td>\n",
       "      <td>0.22</td>\n",
       "      <td>0.13</td>\n",
       "      <td>0.00</td>\n",
       "      <td>0.00</td>\n",
       "      <td>0.0</td>\n",
       "      <td>0.0</td>\n",
       "      <td>...</td>\n",
       "      <td>21.29</td>\n",
       "      <td>20.30</td>\n",
       "      <td>19.99</td>\n",
       "      <td>19.37</td>\n",
       "      <td>20.92</td>\n",
       "      <td>21.68</td>\n",
       "      <td>22.00</td>\n",
       "      <td>22.84</td>\n",
       "      <td>23.28</td>\n",
       "      <td>POINT (-14.42500 16.62500)</td>\n",
       "    </tr>\n",
       "    <tr>\n",
       "      <th>6572</th>\n",
       "      <td>-14.375001</td>\n",
       "      <td>16.624998</td>\n",
       "      <td>0.00</td>\n",
       "      <td>0.00</td>\n",
       "      <td>0.20</td>\n",
       "      <td>0.12</td>\n",
       "      <td>0.00</td>\n",
       "      <td>0.00</td>\n",
       "      <td>0.0</td>\n",
       "      <td>0.0</td>\n",
       "      <td>...</td>\n",
       "      <td>21.28</td>\n",
       "      <td>20.28</td>\n",
       "      <td>19.98</td>\n",
       "      <td>19.35</td>\n",
       "      <td>20.92</td>\n",
       "      <td>21.67</td>\n",
       "      <td>21.99</td>\n",
       "      <td>22.84</td>\n",
       "      <td>23.30</td>\n",
       "      <td>POINT (-14.37500 16.62500)</td>\n",
       "    </tr>\n",
       "    <tr>\n",
       "      <th>6573</th>\n",
       "      <td>-14.975001</td>\n",
       "      <td>16.674998</td>\n",
       "      <td>0.00</td>\n",
       "      <td>0.00</td>\n",
       "      <td>0.21</td>\n",
       "      <td>0.12</td>\n",
       "      <td>0.00</td>\n",
       "      <td>0.00</td>\n",
       "      <td>0.0</td>\n",
       "      <td>0.0</td>\n",
       "      <td>...</td>\n",
       "      <td>21.17</td>\n",
       "      <td>20.26</td>\n",
       "      <td>19.94</td>\n",
       "      <td>19.37</td>\n",
       "      <td>20.56</td>\n",
       "      <td>21.31</td>\n",
       "      <td>21.59</td>\n",
       "      <td>22.31</td>\n",
       "      <td>22.64</td>\n",
       "      <td>POINT (-14.97500 16.67500)</td>\n",
       "    </tr>\n",
       "  </tbody>\n",
       "</table>\n",
       "<p>6387 rows × 256 columns</p>\n",
       "</div>"
      ],
      "text/plain": [
       "      Longitude   Latitude  corr_averageofEOS  corr_averageofLOS  \\\n",
       "1    -16.725000  12.374998             291.42             113.16   \n",
       "2    -16.675000  12.374998             280.78             129.44   \n",
       "3    -16.625000  12.374998             276.05             115.11   \n",
       "4    -16.575000  12.374998             279.56             112.28   \n",
       "5    -16.525000  12.374998             288.44             108.61   \n",
       "...         ...        ...                ...                ...   \n",
       "6568 -14.625001  16.624998               0.00               0.00   \n",
       "6569 -14.525001  16.624998               0.00               0.00   \n",
       "6571 -14.425001  16.624998               0.00               0.00   \n",
       "6572 -14.375001  16.624998               0.00               0.00   \n",
       "6573 -14.975001  16.674998               0.00               0.00   \n",
       "\n",
       "      corr_averageofmaxEVI  corr_averageofminEVI  corr_averageofSOS  \\\n",
       "1                     0.49                  0.44             178.26   \n",
       "2                     0.36                  0.16             151.33   \n",
       "3                     0.54                  0.27             160.95   \n",
       "4                     0.59                  0.37             167.28   \n",
       "5                     0.56                  0.34             179.83   \n",
       "...                    ...                   ...                ...   \n",
       "6568                  0.16                 -0.03               0.00   \n",
       "6569                  0.16                  0.12               0.00   \n",
       "6571                  0.22                  0.13               0.00   \n",
       "6572                  0.20                  0.12               0.00   \n",
       "6573                  0.21                  0.12               0.00   \n",
       "\n",
       "      corr_maxEVIslope  corr_minEVIslope  corr_PhenTrendEOSslope  ...  \\\n",
       "1                 0.00               0.0                     0.0  ...   \n",
       "2                 0.00               0.0                     0.0  ...   \n",
       "3                 0.00               0.0                     0.0  ...   \n",
       "4                 0.00               0.0                     0.0  ...   \n",
       "5                 0.00               0.0                     0.0  ...   \n",
       "...                ...               ...                     ...  ...   \n",
       "6568              0.01               0.0                     0.0  ...   \n",
       "6569              0.00               0.0                     0.0  ...   \n",
       "6571              0.00               0.0                     0.0  ...   \n",
       "6572              0.00               0.0                     0.0  ...   \n",
       "6573              0.00               0.0                     0.0  ...   \n",
       "\n",
       "      tmin_senegal_42  tmin_senegal_43  tmin_senegal_44  tmin_senegal_45  \\\n",
       "1               25.60            24.82            24.24            23.70   \n",
       "2               24.73            23.94            23.39            22.88   \n",
       "3               23.34            22.56            22.04            21.56   \n",
       "4               21.76            20.98            20.49            20.06   \n",
       "5               20.49            19.72            19.26            18.87   \n",
       "...               ...              ...              ...              ...   \n",
       "6568            21.29            20.35            20.01            19.41   \n",
       "6569            21.28            20.31            19.99            19.38   \n",
       "6571            21.29            20.30            19.99            19.37   \n",
       "6572            21.28            20.28            19.98            19.35   \n",
       "6573            21.17            20.26            19.94            19.37   \n",
       "\n",
       "      tmin_senegal_5  tmin_senegal_6  tmin_senegal_7  tmin_senegal_8  \\\n",
       "1              25.24           25.30           25.42           25.29   \n",
       "2              24.39           24.50           24.68           24.59   \n",
       "3              22.90           23.08           23.28           23.23   \n",
       "4              21.12           21.40           21.65           21.66   \n",
       "5              19.78           20.14           20.39           20.43   \n",
       "...              ...             ...             ...             ...   \n",
       "6568           20.77           21.53           21.81           22.61   \n",
       "6569           20.78           21.54           21.82           22.64   \n",
       "6571           20.92           21.68           22.00           22.84   \n",
       "6572           20.92           21.67           21.99           22.84   \n",
       "6573           20.56           21.31           21.59           22.31   \n",
       "\n",
       "      tmin_senegal_9                    geometry  \n",
       "1              25.29  POINT (-16.72500 12.37500)  \n",
       "2              24.61  POINT (-16.67500 12.37500)  \n",
       "3              23.27  POINT (-16.62500 12.37500)  \n",
       "4              21.73  POINT (-16.57500 12.37500)  \n",
       "5              20.53  POINT (-16.52500 12.37500)  \n",
       "...              ...                         ...  \n",
       "6568           23.02  POINT (-14.62500 16.62500)  \n",
       "6569           23.07  POINT (-14.52500 16.62500)  \n",
       "6571           23.28  POINT (-14.42500 16.62500)  \n",
       "6572           23.30  POINT (-14.37500 16.62500)  \n",
       "6573           22.64  POINT (-14.97500 16.67500)  \n",
       "\n",
       "[6387 rows x 256 columns]"
      ]
     },
     "execution_count": 104,
     "metadata": {},
     "output_type": "execute_result"
    }
   ],
   "source": [
    "extract_point_data_from_rasters(point_layer, geotiff_list, outfile)"
   ]
  },
  {
   "cell_type": "code",
   "execution_count": null,
   "id": "94d2d7ef-bf2e-4333-8ccd-5b5a03ea1673",
   "metadata": {},
   "outputs": [],
   "source": []
  }
 ],
 "metadata": {
  "kernelspec": {
   "display_name": "Python 3 (ipykernel)",
   "language": "python",
   "name": "python3"
  },
  "language_info": {
   "codemirror_mode": {
    "name": "ipython",
    "version": 3
   },
   "file_extension": ".py",
   "mimetype": "text/x-python",
   "name": "python",
   "nbconvert_exporter": "python",
   "pygments_lexer": "ipython3",
   "version": "3.7.11"
  }
 },
 "nbformat": 4,
 "nbformat_minor": 5
}
